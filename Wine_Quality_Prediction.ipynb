{
 "cells": [
  {
   "cell_type": "markdown",
   "metadata": {},
   "source": [
    "# Wine Quality Prediction\n",
    "\n",
    "## Introduction of wine quality data set \n",
    "\n",
    "This wine quality data set is obtained originally from UCI Machine Learning Repository, and the revised version data set is from Kaggle. This data set is user-contributed but the vast majority is clean.\n",
    "\n",
    "This wine quality data set includes white and red vinho verde wine samples from the north of Portugal. Vinho verde is a unique product from the Minho (northwest) region of Portugal. Medium in alcohol is particularly appreciated due to its freshness (especially in the summer).Due to privacy and logistic issues, only physicochemical (inputs) and sensory (the output) variables are available (e.g. there is no data about grape types, wine brand, wine selling price, etc.). For more details, consult: [Web Link] or the reference [Cortez et al., 2009].\n",
    "\n",
    "The goal of this wine quality data set is to model wine quality based on physicochemical tests.\n",
    "\n",
    "Features or input variables included in this data set are: i) type (white and red wine), ii) fixed acidity, iii) volatile acidity, iv) citric acid, v) residual sugar, vi) chlorides, vii) free sulfur dioxide, viii) total sulfur dioxide, ix) density, x) pH, xi) sulphates, xii) alcohol.\n",
    "\n",
    "Acids (acidity) are major wine properties and contribute greatly to the wine’s taste. They also indicate the process of wine turning into vinegar. Chlorides can be a major contributor to saltiness in wine. Sulfur dioxide is the most common chemical compound used in winemaking. Sulfur serves two main purposes. It prevents the wine from reacting with oxygen which can cause browning and off-odors (oxidation), and it inhibits the growth of bacteria and undesirable wild yeasts in the grape juice and wine. And also sulphates are believed to cause the headache by drinking the wine. Density is generally used as a measure of the conversion of sugar to alcohol. pH is used to specify the acidity and basicity the wine. Of course, alcohol is a very important parameter in the wine because wines are alcoholic beverage. The percentage of alcohol can vary from wine to wine.\n",
    "\n",
    "The output or target variable based on sensory data is quality (score between 0 and 10).\n",
    "\n",
    "## Objectives of this project\n",
    "\n",
    "In this project, the first objective is to build models for evaluating the wine quality based on the physicochemical tests by using supervised machine learning algorithms. The second is to select the best model to predict the wine quality through turning the parameters of the models and comparing the performance of the models.\n",
    "\n",
    "Now let's take a look this wine quality data set."
   ]
  },
  {
   "cell_type": "markdown",
   "metadata": {},
   "source": [
    "# Load data"
   ]
  },
  {
   "cell_type": "code",
   "execution_count": 96,
   "metadata": {},
   "outputs": [],
   "source": [
    "import pandas as pd\n",
    "import numpy as np\n",
    "import scipy\n",
    "from sklearn import linear_model\n",
    "from sklearn.linear_model import LogisticRegression\n",
    "from sklearn.tree import DecisionTreeClassifier\n",
    "from sklearn.svm import SVC\n",
    "from sklearn.ensemble import RandomForestClassifier\n",
    "from sklearn.ensemble import GradientBoostingClassifier\n",
    "from sklearn.model_selection import train_test_split\n",
    "from sklearn.model_selection import cross_val_score\n",
    "from sklearn import ensemble\n",
    "from sklearn.naive_bayes import GaussianNB\n",
    "from sklearn.metrics import classification_report, confusion_matrix\n",
    "import time\n",
    "import warnings\n",
    "from functools import reduce\n",
    "import seaborn as sns\n",
    "import matplotlib.pyplot as plt\n",
    "sns.set()"
   ]
  },
  {
   "cell_type": "code",
   "execution_count": 98,
   "metadata": {},
   "outputs": [
    {
     "data": {
      "text/html": [
       "<div>\n",
       "<style scoped>\n",
       "    .dataframe tbody tr th:only-of-type {\n",
       "        vertical-align: middle;\n",
       "    }\n",
       "\n",
       "    .dataframe tbody tr th {\n",
       "        vertical-align: top;\n",
       "    }\n",
       "\n",
       "    .dataframe thead th {\n",
       "        text-align: right;\n",
       "    }\n",
       "</style>\n",
       "<table border=\"1\" class=\"dataframe\">\n",
       "  <thead>\n",
       "    <tr style=\"text-align: right;\">\n",
       "      <th></th>\n",
       "      <th>type</th>\n",
       "      <th>fixed acidity</th>\n",
       "      <th>volatile acidity</th>\n",
       "      <th>citric acid</th>\n",
       "      <th>residual sugar</th>\n",
       "      <th>chlorides</th>\n",
       "      <th>free sulfur dioxide</th>\n",
       "      <th>total sulfur dioxide</th>\n",
       "      <th>density</th>\n",
       "      <th>pH</th>\n",
       "      <th>sulphates</th>\n",
       "      <th>alcohol</th>\n",
       "      <th>quality</th>\n",
       "    </tr>\n",
       "  </thead>\n",
       "  <tbody>\n",
       "    <tr>\n",
       "      <td>0</td>\n",
       "      <td>white</td>\n",
       "      <td>7.0</td>\n",
       "      <td>0.27</td>\n",
       "      <td>0.36</td>\n",
       "      <td>20.7</td>\n",
       "      <td>0.045</td>\n",
       "      <td>45.0</td>\n",
       "      <td>170.0</td>\n",
       "      <td>1.0010</td>\n",
       "      <td>3.00</td>\n",
       "      <td>0.45</td>\n",
       "      <td>8.8</td>\n",
       "      <td>6</td>\n",
       "    </tr>\n",
       "    <tr>\n",
       "      <td>1</td>\n",
       "      <td>white</td>\n",
       "      <td>6.3</td>\n",
       "      <td>0.30</td>\n",
       "      <td>0.34</td>\n",
       "      <td>1.6</td>\n",
       "      <td>0.049</td>\n",
       "      <td>14.0</td>\n",
       "      <td>132.0</td>\n",
       "      <td>0.9940</td>\n",
       "      <td>3.30</td>\n",
       "      <td>0.49</td>\n",
       "      <td>9.5</td>\n",
       "      <td>6</td>\n",
       "    </tr>\n",
       "    <tr>\n",
       "      <td>2</td>\n",
       "      <td>white</td>\n",
       "      <td>8.1</td>\n",
       "      <td>0.28</td>\n",
       "      <td>0.40</td>\n",
       "      <td>6.9</td>\n",
       "      <td>0.050</td>\n",
       "      <td>30.0</td>\n",
       "      <td>97.0</td>\n",
       "      <td>0.9951</td>\n",
       "      <td>3.26</td>\n",
       "      <td>0.44</td>\n",
       "      <td>10.1</td>\n",
       "      <td>6</td>\n",
       "    </tr>\n",
       "    <tr>\n",
       "      <td>3</td>\n",
       "      <td>white</td>\n",
       "      <td>7.2</td>\n",
       "      <td>0.23</td>\n",
       "      <td>0.32</td>\n",
       "      <td>8.5</td>\n",
       "      <td>0.058</td>\n",
       "      <td>47.0</td>\n",
       "      <td>186.0</td>\n",
       "      <td>0.9956</td>\n",
       "      <td>3.19</td>\n",
       "      <td>0.40</td>\n",
       "      <td>9.9</td>\n",
       "      <td>6</td>\n",
       "    </tr>\n",
       "    <tr>\n",
       "      <td>4</td>\n",
       "      <td>white</td>\n",
       "      <td>7.2</td>\n",
       "      <td>0.23</td>\n",
       "      <td>0.32</td>\n",
       "      <td>8.5</td>\n",
       "      <td>0.058</td>\n",
       "      <td>47.0</td>\n",
       "      <td>186.0</td>\n",
       "      <td>0.9956</td>\n",
       "      <td>3.19</td>\n",
       "      <td>0.40</td>\n",
       "      <td>9.9</td>\n",
       "      <td>6</td>\n",
       "    </tr>\n",
       "  </tbody>\n",
       "</table>\n",
       "</div>"
      ],
      "text/plain": [
       "    type  fixed acidity  volatile acidity  citric acid  residual sugar  \\\n",
       "0  white            7.0              0.27         0.36            20.7   \n",
       "1  white            6.3              0.30         0.34             1.6   \n",
       "2  white            8.1              0.28         0.40             6.9   \n",
       "3  white            7.2              0.23         0.32             8.5   \n",
       "4  white            7.2              0.23         0.32             8.5   \n",
       "\n",
       "   chlorides  free sulfur dioxide  total sulfur dioxide  density    pH  \\\n",
       "0      0.045                 45.0                 170.0   1.0010  3.00   \n",
       "1      0.049                 14.0                 132.0   0.9940  3.30   \n",
       "2      0.050                 30.0                  97.0   0.9951  3.26   \n",
       "3      0.058                 47.0                 186.0   0.9956  3.19   \n",
       "4      0.058                 47.0                 186.0   0.9956  3.19   \n",
       "\n",
       "   sulphates  alcohol  quality  \n",
       "0       0.45      8.8        6  \n",
       "1       0.49      9.5        6  \n",
       "2       0.44     10.1        6  \n",
       "3       0.40      9.9        6  \n",
       "4       0.40      9.9        6  "
      ]
     },
     "execution_count": 98,
     "metadata": {},
     "output_type": "execute_result"
    }
   ],
   "source": [
    "wine_raw_df = pd.read_csv(\"winequality.csv\")\n",
    "wine_raw_df.head()"
   ]
  },
  {
   "cell_type": "code",
   "execution_count": 99,
   "metadata": {},
   "outputs": [],
   "source": [
    "col_list=[\n",
    "  'type', \n",
    "  'fixed_acidity', \n",
    "  'volatile_acidity',\n",
    "  'citric_acidity',\n",
    "  'residual_suger',\n",
    "  'chlorides',\n",
    "  'free_sulfur_dioxide',\n",
    "  'total_sulfur_dioxide',\n",
    "  'density',\n",
    "  'PH',\n",
    "  'sulphates',\n",
    "  'alcohol',\n",
    "  'quality'\n",
    "  ]\n",
    "wine_raw_df.columns = col_list"
   ]
  },
  {
   "cell_type": "code",
   "execution_count": 101,
   "metadata": {},
   "outputs": [
    {
     "data": {
      "text/plain": [
       "(6497, 13)"
      ]
     },
     "execution_count": 101,
     "metadata": {},
     "output_type": "execute_result"
    }
   ],
   "source": [
    "wine_raw_df.shape"
   ]
  },
  {
   "cell_type": "code",
   "execution_count": 102,
   "metadata": {},
   "outputs": [
    {
     "data": {
      "text/html": [
       "<div>\n",
       "<style scoped>\n",
       "    .dataframe tbody tr th:only-of-type {\n",
       "        vertical-align: middle;\n",
       "    }\n",
       "\n",
       "    .dataframe tbody tr th {\n",
       "        vertical-align: top;\n",
       "    }\n",
       "\n",
       "    .dataframe thead th {\n",
       "        text-align: right;\n",
       "    }\n",
       "</style>\n",
       "<table border=\"1\" class=\"dataframe\">\n",
       "  <thead>\n",
       "    <tr style=\"text-align: right;\">\n",
       "      <th></th>\n",
       "      <th>type</th>\n",
       "      <th>fixed_acidity</th>\n",
       "      <th>volatile_acidity</th>\n",
       "      <th>citric_acidity</th>\n",
       "      <th>residual_suger</th>\n",
       "      <th>chlorides</th>\n",
       "      <th>free_sulfur_dioxide</th>\n",
       "      <th>total_sulfur_dioxide</th>\n",
       "      <th>density</th>\n",
       "      <th>PH</th>\n",
       "      <th>sulphates</th>\n",
       "      <th>alcohol</th>\n",
       "      <th>quality</th>\n",
       "    </tr>\n",
       "  </thead>\n",
       "  <tbody>\n",
       "    <tr>\n",
       "      <td>0</td>\n",
       "      <td>white</td>\n",
       "      <td>7.0</td>\n",
       "      <td>0.27</td>\n",
       "      <td>0.36</td>\n",
       "      <td>20.7</td>\n",
       "      <td>0.045</td>\n",
       "      <td>45.0</td>\n",
       "      <td>170.0</td>\n",
       "      <td>1.0010</td>\n",
       "      <td>3.00</td>\n",
       "      <td>0.45</td>\n",
       "      <td>8.8</td>\n",
       "      <td>6</td>\n",
       "    </tr>\n",
       "    <tr>\n",
       "      <td>1</td>\n",
       "      <td>white</td>\n",
       "      <td>6.3</td>\n",
       "      <td>0.30</td>\n",
       "      <td>0.34</td>\n",
       "      <td>1.6</td>\n",
       "      <td>0.049</td>\n",
       "      <td>14.0</td>\n",
       "      <td>132.0</td>\n",
       "      <td>0.9940</td>\n",
       "      <td>3.30</td>\n",
       "      <td>0.49</td>\n",
       "      <td>9.5</td>\n",
       "      <td>6</td>\n",
       "    </tr>\n",
       "    <tr>\n",
       "      <td>2</td>\n",
       "      <td>white</td>\n",
       "      <td>8.1</td>\n",
       "      <td>0.28</td>\n",
       "      <td>0.40</td>\n",
       "      <td>6.9</td>\n",
       "      <td>0.050</td>\n",
       "      <td>30.0</td>\n",
       "      <td>97.0</td>\n",
       "      <td>0.9951</td>\n",
       "      <td>3.26</td>\n",
       "      <td>0.44</td>\n",
       "      <td>10.1</td>\n",
       "      <td>6</td>\n",
       "    </tr>\n",
       "    <tr>\n",
       "      <td>3</td>\n",
       "      <td>white</td>\n",
       "      <td>7.2</td>\n",
       "      <td>0.23</td>\n",
       "      <td>0.32</td>\n",
       "      <td>8.5</td>\n",
       "      <td>0.058</td>\n",
       "      <td>47.0</td>\n",
       "      <td>186.0</td>\n",
       "      <td>0.9956</td>\n",
       "      <td>3.19</td>\n",
       "      <td>0.40</td>\n",
       "      <td>9.9</td>\n",
       "      <td>6</td>\n",
       "    </tr>\n",
       "    <tr>\n",
       "      <td>4</td>\n",
       "      <td>white</td>\n",
       "      <td>7.2</td>\n",
       "      <td>0.23</td>\n",
       "      <td>0.32</td>\n",
       "      <td>8.5</td>\n",
       "      <td>0.058</td>\n",
       "      <td>47.0</td>\n",
       "      <td>186.0</td>\n",
       "      <td>0.9956</td>\n",
       "      <td>3.19</td>\n",
       "      <td>0.40</td>\n",
       "      <td>9.9</td>\n",
       "      <td>6</td>\n",
       "    </tr>\n",
       "  </tbody>\n",
       "</table>\n",
       "</div>"
      ],
      "text/plain": [
       "    type  fixed_acidity  volatile_acidity  citric_acidity  residual_suger  \\\n",
       "0  white            7.0              0.27            0.36            20.7   \n",
       "1  white            6.3              0.30            0.34             1.6   \n",
       "2  white            8.1              0.28            0.40             6.9   \n",
       "3  white            7.2              0.23            0.32             8.5   \n",
       "4  white            7.2              0.23            0.32             8.5   \n",
       "\n",
       "   chlorides  free_sulfur_dioxide  total_sulfur_dioxide  density    PH  \\\n",
       "0      0.045                 45.0                 170.0   1.0010  3.00   \n",
       "1      0.049                 14.0                 132.0   0.9940  3.30   \n",
       "2      0.050                 30.0                  97.0   0.9951  3.26   \n",
       "3      0.058                 47.0                 186.0   0.9956  3.19   \n",
       "4      0.058                 47.0                 186.0   0.9956  3.19   \n",
       "\n",
       "   sulphates  alcohol  quality  \n",
       "0       0.45      8.8        6  \n",
       "1       0.49      9.5        6  \n",
       "2       0.44     10.1        6  \n",
       "3       0.40      9.9        6  \n",
       "4       0.40      9.9        6  "
      ]
     },
     "execution_count": 102,
     "metadata": {},
     "output_type": "execute_result"
    }
   ],
   "source": [
    "wine_raw_df.head()"
   ]
  },
  {
   "cell_type": "code",
   "execution_count": 103,
   "metadata": {},
   "outputs": [
    {
     "name": "stdout",
     "output_type": "stream",
     "text": [
      "<class 'pandas.core.frame.DataFrame'>\n",
      "RangeIndex: 6497 entries, 0 to 6496\n",
      "Data columns (total 13 columns):\n",
      "type                    6497 non-null object\n",
      "fixed_acidity           6497 non-null float64\n",
      "volatile_acidity        6497 non-null float64\n",
      "citric_acidity          6497 non-null float64\n",
      "residual_suger          6497 non-null float64\n",
      "chlorides               6497 non-null float64\n",
      "free_sulfur_dioxide     6497 non-null float64\n",
      "total_sulfur_dioxide    6497 non-null float64\n",
      "density                 6497 non-null float64\n",
      "PH                      6497 non-null float64\n",
      "sulphates               6497 non-null float64\n",
      "alcohol                 6497 non-null float64\n",
      "quality                 6497 non-null int64\n",
      "dtypes: float64(11), int64(1), object(1)\n",
      "memory usage: 660.0+ KB\n"
     ]
    }
   ],
   "source": [
    "wine_raw_df.info()"
   ]
  },
  {
   "cell_type": "code",
   "execution_count": 104,
   "metadata": {},
   "outputs": [
    {
     "data": {
      "text/html": [
       "<div>\n",
       "<style scoped>\n",
       "    .dataframe tbody tr th:only-of-type {\n",
       "        vertical-align: middle;\n",
       "    }\n",
       "\n",
       "    .dataframe tbody tr th {\n",
       "        vertical-align: top;\n",
       "    }\n",
       "\n",
       "    .dataframe thead th {\n",
       "        text-align: right;\n",
       "    }\n",
       "</style>\n",
       "<table border=\"1\" class=\"dataframe\">\n",
       "  <thead>\n",
       "    <tr style=\"text-align: right;\">\n",
       "      <th></th>\n",
       "      <th>type</th>\n",
       "      <th>fixed_acidity</th>\n",
       "      <th>volatile_acidity</th>\n",
       "      <th>citric_acidity</th>\n",
       "      <th>residual_suger</th>\n",
       "      <th>chlorides</th>\n",
       "      <th>free_sulfur_dioxide</th>\n",
       "      <th>total_sulfur_dioxide</th>\n",
       "      <th>density</th>\n",
       "      <th>PH</th>\n",
       "      <th>sulphates</th>\n",
       "      <th>alcohol</th>\n",
       "      <th>quality</th>\n",
       "    </tr>\n",
       "  </thead>\n",
       "  <tbody>\n",
       "    <tr>\n",
       "      <td>count</td>\n",
       "      <td>6497</td>\n",
       "      <td>6497.000000</td>\n",
       "      <td>6497.000000</td>\n",
       "      <td>6497.000000</td>\n",
       "      <td>6497.000000</td>\n",
       "      <td>6497.000000</td>\n",
       "      <td>6497.000000</td>\n",
       "      <td>6497.000000</td>\n",
       "      <td>6497.000000</td>\n",
       "      <td>6497.000000</td>\n",
       "      <td>6497.000000</td>\n",
       "      <td>6497.000000</td>\n",
       "      <td>6497.000000</td>\n",
       "    </tr>\n",
       "    <tr>\n",
       "      <td>unique</td>\n",
       "      <td>2</td>\n",
       "      <td>NaN</td>\n",
       "      <td>NaN</td>\n",
       "      <td>NaN</td>\n",
       "      <td>NaN</td>\n",
       "      <td>NaN</td>\n",
       "      <td>NaN</td>\n",
       "      <td>NaN</td>\n",
       "      <td>NaN</td>\n",
       "      <td>NaN</td>\n",
       "      <td>NaN</td>\n",
       "      <td>NaN</td>\n",
       "      <td>NaN</td>\n",
       "    </tr>\n",
       "    <tr>\n",
       "      <td>top</td>\n",
       "      <td>white</td>\n",
       "      <td>NaN</td>\n",
       "      <td>NaN</td>\n",
       "      <td>NaN</td>\n",
       "      <td>NaN</td>\n",
       "      <td>NaN</td>\n",
       "      <td>NaN</td>\n",
       "      <td>NaN</td>\n",
       "      <td>NaN</td>\n",
       "      <td>NaN</td>\n",
       "      <td>NaN</td>\n",
       "      <td>NaN</td>\n",
       "      <td>NaN</td>\n",
       "    </tr>\n",
       "    <tr>\n",
       "      <td>freq</td>\n",
       "      <td>4898</td>\n",
       "      <td>NaN</td>\n",
       "      <td>NaN</td>\n",
       "      <td>NaN</td>\n",
       "      <td>NaN</td>\n",
       "      <td>NaN</td>\n",
       "      <td>NaN</td>\n",
       "      <td>NaN</td>\n",
       "      <td>NaN</td>\n",
       "      <td>NaN</td>\n",
       "      <td>NaN</td>\n",
       "      <td>NaN</td>\n",
       "      <td>NaN</td>\n",
       "    </tr>\n",
       "    <tr>\n",
       "      <td>mean</td>\n",
       "      <td>NaN</td>\n",
       "      <td>7.215307</td>\n",
       "      <td>0.339666</td>\n",
       "      <td>0.318633</td>\n",
       "      <td>5.443235</td>\n",
       "      <td>0.056034</td>\n",
       "      <td>30.525319</td>\n",
       "      <td>115.744574</td>\n",
       "      <td>0.994697</td>\n",
       "      <td>3.218501</td>\n",
       "      <td>0.531268</td>\n",
       "      <td>10.491801</td>\n",
       "      <td>5.818378</td>\n",
       "    </tr>\n",
       "    <tr>\n",
       "      <td>std</td>\n",
       "      <td>NaN</td>\n",
       "      <td>1.296434</td>\n",
       "      <td>0.164636</td>\n",
       "      <td>0.145318</td>\n",
       "      <td>4.757804</td>\n",
       "      <td>0.035034</td>\n",
       "      <td>17.749400</td>\n",
       "      <td>56.521855</td>\n",
       "      <td>0.002999</td>\n",
       "      <td>0.160787</td>\n",
       "      <td>0.148806</td>\n",
       "      <td>1.192712</td>\n",
       "      <td>0.873255</td>\n",
       "    </tr>\n",
       "    <tr>\n",
       "      <td>min</td>\n",
       "      <td>NaN</td>\n",
       "      <td>3.800000</td>\n",
       "      <td>0.080000</td>\n",
       "      <td>0.000000</td>\n",
       "      <td>0.600000</td>\n",
       "      <td>0.009000</td>\n",
       "      <td>1.000000</td>\n",
       "      <td>6.000000</td>\n",
       "      <td>0.987110</td>\n",
       "      <td>2.720000</td>\n",
       "      <td>0.220000</td>\n",
       "      <td>8.000000</td>\n",
       "      <td>3.000000</td>\n",
       "    </tr>\n",
       "    <tr>\n",
       "      <td>25%</td>\n",
       "      <td>NaN</td>\n",
       "      <td>6.400000</td>\n",
       "      <td>0.230000</td>\n",
       "      <td>0.250000</td>\n",
       "      <td>1.800000</td>\n",
       "      <td>0.038000</td>\n",
       "      <td>17.000000</td>\n",
       "      <td>77.000000</td>\n",
       "      <td>0.992340</td>\n",
       "      <td>3.110000</td>\n",
       "      <td>0.430000</td>\n",
       "      <td>9.500000</td>\n",
       "      <td>5.000000</td>\n",
       "    </tr>\n",
       "    <tr>\n",
       "      <td>50%</td>\n",
       "      <td>NaN</td>\n",
       "      <td>7.000000</td>\n",
       "      <td>0.290000</td>\n",
       "      <td>0.310000</td>\n",
       "      <td>3.000000</td>\n",
       "      <td>0.047000</td>\n",
       "      <td>29.000000</td>\n",
       "      <td>118.000000</td>\n",
       "      <td>0.994890</td>\n",
       "      <td>3.210000</td>\n",
       "      <td>0.510000</td>\n",
       "      <td>10.300000</td>\n",
       "      <td>6.000000</td>\n",
       "    </tr>\n",
       "    <tr>\n",
       "      <td>75%</td>\n",
       "      <td>NaN</td>\n",
       "      <td>7.700000</td>\n",
       "      <td>0.400000</td>\n",
       "      <td>0.390000</td>\n",
       "      <td>8.100000</td>\n",
       "      <td>0.065000</td>\n",
       "      <td>41.000000</td>\n",
       "      <td>156.000000</td>\n",
       "      <td>0.996990</td>\n",
       "      <td>3.320000</td>\n",
       "      <td>0.600000</td>\n",
       "      <td>11.300000</td>\n",
       "      <td>6.000000</td>\n",
       "    </tr>\n",
       "    <tr>\n",
       "      <td>max</td>\n",
       "      <td>NaN</td>\n",
       "      <td>15.900000</td>\n",
       "      <td>1.580000</td>\n",
       "      <td>1.660000</td>\n",
       "      <td>65.800000</td>\n",
       "      <td>0.611000</td>\n",
       "      <td>289.000000</td>\n",
       "      <td>440.000000</td>\n",
       "      <td>1.038980</td>\n",
       "      <td>4.010000</td>\n",
       "      <td>2.000000</td>\n",
       "      <td>14.900000</td>\n",
       "      <td>9.000000</td>\n",
       "    </tr>\n",
       "  </tbody>\n",
       "</table>\n",
       "</div>"
      ],
      "text/plain": [
       "         type  fixed_acidity  volatile_acidity  citric_acidity  \\\n",
       "count    6497    6497.000000       6497.000000     6497.000000   \n",
       "unique      2            NaN               NaN             NaN   \n",
       "top     white            NaN               NaN             NaN   \n",
       "freq     4898            NaN               NaN             NaN   \n",
       "mean      NaN       7.215307          0.339666        0.318633   \n",
       "std       NaN       1.296434          0.164636        0.145318   \n",
       "min       NaN       3.800000          0.080000        0.000000   \n",
       "25%       NaN       6.400000          0.230000        0.250000   \n",
       "50%       NaN       7.000000          0.290000        0.310000   \n",
       "75%       NaN       7.700000          0.400000        0.390000   \n",
       "max       NaN      15.900000          1.580000        1.660000   \n",
       "\n",
       "        residual_suger    chlorides  free_sulfur_dioxide  \\\n",
       "count      6497.000000  6497.000000          6497.000000   \n",
       "unique             NaN          NaN                  NaN   \n",
       "top                NaN          NaN                  NaN   \n",
       "freq               NaN          NaN                  NaN   \n",
       "mean          5.443235     0.056034            30.525319   \n",
       "std           4.757804     0.035034            17.749400   \n",
       "min           0.600000     0.009000             1.000000   \n",
       "25%           1.800000     0.038000            17.000000   \n",
       "50%           3.000000     0.047000            29.000000   \n",
       "75%           8.100000     0.065000            41.000000   \n",
       "max          65.800000     0.611000           289.000000   \n",
       "\n",
       "        total_sulfur_dioxide      density           PH    sulphates  \\\n",
       "count            6497.000000  6497.000000  6497.000000  6497.000000   \n",
       "unique                   NaN          NaN          NaN          NaN   \n",
       "top                      NaN          NaN          NaN          NaN   \n",
       "freq                     NaN          NaN          NaN          NaN   \n",
       "mean              115.744574     0.994697     3.218501     0.531268   \n",
       "std                56.521855     0.002999     0.160787     0.148806   \n",
       "min                 6.000000     0.987110     2.720000     0.220000   \n",
       "25%                77.000000     0.992340     3.110000     0.430000   \n",
       "50%               118.000000     0.994890     3.210000     0.510000   \n",
       "75%               156.000000     0.996990     3.320000     0.600000   \n",
       "max               440.000000     1.038980     4.010000     2.000000   \n",
       "\n",
       "            alcohol      quality  \n",
       "count   6497.000000  6497.000000  \n",
       "unique          NaN          NaN  \n",
       "top             NaN          NaN  \n",
       "freq            NaN          NaN  \n",
       "mean      10.491801     5.818378  \n",
       "std        1.192712     0.873255  \n",
       "min        8.000000     3.000000  \n",
       "25%        9.500000     5.000000  \n",
       "50%       10.300000     6.000000  \n",
       "75%       11.300000     6.000000  \n",
       "max       14.900000     9.000000  "
      ]
     },
     "execution_count": 104,
     "metadata": {},
     "output_type": "execute_result"
    }
   ],
   "source": [
    "wine_raw_df.describe(include=\"all\")"
   ]
  },
  {
   "cell_type": "code",
   "execution_count": 105,
   "metadata": {},
   "outputs": [
    {
     "data": {
      "text/html": [
       "<div>\n",
       "<style scoped>\n",
       "    .dataframe tbody tr th:only-of-type {\n",
       "        vertical-align: middle;\n",
       "    }\n",
       "\n",
       "    .dataframe tbody tr th {\n",
       "        vertical-align: top;\n",
       "    }\n",
       "\n",
       "    .dataframe thead th {\n",
       "        text-align: right;\n",
       "    }\n",
       "</style>\n",
       "<table border=\"1\" class=\"dataframe\">\n",
       "  <thead>\n",
       "    <tr style=\"text-align: right;\">\n",
       "      <th></th>\n",
       "      <th>fixed_acidity</th>\n",
       "      <th>volatile_acidity</th>\n",
       "      <th>citric_acidity</th>\n",
       "      <th>residual_suger</th>\n",
       "      <th>chlorides</th>\n",
       "      <th>free_sulfur_dioxide</th>\n",
       "      <th>total_sulfur_dioxide</th>\n",
       "      <th>density</th>\n",
       "      <th>PH</th>\n",
       "      <th>sulphates</th>\n",
       "      <th>alcohol</th>\n",
       "      <th>quality</th>\n",
       "    </tr>\n",
       "  </thead>\n",
       "  <tbody>\n",
       "    <tr>\n",
       "      <td>count</td>\n",
       "      <td>6497.000000</td>\n",
       "      <td>6497.000000</td>\n",
       "      <td>6497.000000</td>\n",
       "      <td>6497.000000</td>\n",
       "      <td>6497.000000</td>\n",
       "      <td>6497.000000</td>\n",
       "      <td>6497.000000</td>\n",
       "      <td>6497.000000</td>\n",
       "      <td>6497.000000</td>\n",
       "      <td>6497.000000</td>\n",
       "      <td>6497.000000</td>\n",
       "      <td>6497.000000</td>\n",
       "    </tr>\n",
       "    <tr>\n",
       "      <td>mean</td>\n",
       "      <td>7.215307</td>\n",
       "      <td>0.339666</td>\n",
       "      <td>0.318633</td>\n",
       "      <td>5.443235</td>\n",
       "      <td>0.056034</td>\n",
       "      <td>30.525319</td>\n",
       "      <td>115.744574</td>\n",
       "      <td>0.994697</td>\n",
       "      <td>3.218501</td>\n",
       "      <td>0.531268</td>\n",
       "      <td>10.491801</td>\n",
       "      <td>5.818378</td>\n",
       "    </tr>\n",
       "    <tr>\n",
       "      <td>std</td>\n",
       "      <td>1.296434</td>\n",
       "      <td>0.164636</td>\n",
       "      <td>0.145318</td>\n",
       "      <td>4.757804</td>\n",
       "      <td>0.035034</td>\n",
       "      <td>17.749400</td>\n",
       "      <td>56.521855</td>\n",
       "      <td>0.002999</td>\n",
       "      <td>0.160787</td>\n",
       "      <td>0.148806</td>\n",
       "      <td>1.192712</td>\n",
       "      <td>0.873255</td>\n",
       "    </tr>\n",
       "    <tr>\n",
       "      <td>min</td>\n",
       "      <td>3.800000</td>\n",
       "      <td>0.080000</td>\n",
       "      <td>0.000000</td>\n",
       "      <td>0.600000</td>\n",
       "      <td>0.009000</td>\n",
       "      <td>1.000000</td>\n",
       "      <td>6.000000</td>\n",
       "      <td>0.987110</td>\n",
       "      <td>2.720000</td>\n",
       "      <td>0.220000</td>\n",
       "      <td>8.000000</td>\n",
       "      <td>3.000000</td>\n",
       "    </tr>\n",
       "    <tr>\n",
       "      <td>25%</td>\n",
       "      <td>6.400000</td>\n",
       "      <td>0.230000</td>\n",
       "      <td>0.250000</td>\n",
       "      <td>1.800000</td>\n",
       "      <td>0.038000</td>\n",
       "      <td>17.000000</td>\n",
       "      <td>77.000000</td>\n",
       "      <td>0.992340</td>\n",
       "      <td>3.110000</td>\n",
       "      <td>0.430000</td>\n",
       "      <td>9.500000</td>\n",
       "      <td>5.000000</td>\n",
       "    </tr>\n",
       "    <tr>\n",
       "      <td>50%</td>\n",
       "      <td>7.000000</td>\n",
       "      <td>0.290000</td>\n",
       "      <td>0.310000</td>\n",
       "      <td>3.000000</td>\n",
       "      <td>0.047000</td>\n",
       "      <td>29.000000</td>\n",
       "      <td>118.000000</td>\n",
       "      <td>0.994890</td>\n",
       "      <td>3.210000</td>\n",
       "      <td>0.510000</td>\n",
       "      <td>10.300000</td>\n",
       "      <td>6.000000</td>\n",
       "    </tr>\n",
       "    <tr>\n",
       "      <td>75%</td>\n",
       "      <td>7.700000</td>\n",
       "      <td>0.400000</td>\n",
       "      <td>0.390000</td>\n",
       "      <td>8.100000</td>\n",
       "      <td>0.065000</td>\n",
       "      <td>41.000000</td>\n",
       "      <td>156.000000</td>\n",
       "      <td>0.996990</td>\n",
       "      <td>3.320000</td>\n",
       "      <td>0.600000</td>\n",
       "      <td>11.300000</td>\n",
       "      <td>6.000000</td>\n",
       "    </tr>\n",
       "    <tr>\n",
       "      <td>max</td>\n",
       "      <td>15.900000</td>\n",
       "      <td>1.580000</td>\n",
       "      <td>1.660000</td>\n",
       "      <td>65.800000</td>\n",
       "      <td>0.611000</td>\n",
       "      <td>289.000000</td>\n",
       "      <td>440.000000</td>\n",
       "      <td>1.038980</td>\n",
       "      <td>4.010000</td>\n",
       "      <td>2.000000</td>\n",
       "      <td>14.900000</td>\n",
       "      <td>9.000000</td>\n",
       "    </tr>\n",
       "  </tbody>\n",
       "</table>\n",
       "</div>"
      ],
      "text/plain": [
       "       fixed_acidity  volatile_acidity  citric_acidity  residual_suger  \\\n",
       "count    6497.000000       6497.000000     6497.000000     6497.000000   \n",
       "mean        7.215307          0.339666        0.318633        5.443235   \n",
       "std         1.296434          0.164636        0.145318        4.757804   \n",
       "min         3.800000          0.080000        0.000000        0.600000   \n",
       "25%         6.400000          0.230000        0.250000        1.800000   \n",
       "50%         7.000000          0.290000        0.310000        3.000000   \n",
       "75%         7.700000          0.400000        0.390000        8.100000   \n",
       "max        15.900000          1.580000        1.660000       65.800000   \n",
       "\n",
       "         chlorides  free_sulfur_dioxide  total_sulfur_dioxide      density  \\\n",
       "count  6497.000000          6497.000000           6497.000000  6497.000000   \n",
       "mean      0.056034            30.525319            115.744574     0.994697   \n",
       "std       0.035034            17.749400             56.521855     0.002999   \n",
       "min       0.009000             1.000000              6.000000     0.987110   \n",
       "25%       0.038000            17.000000             77.000000     0.992340   \n",
       "50%       0.047000            29.000000            118.000000     0.994890   \n",
       "75%       0.065000            41.000000            156.000000     0.996990   \n",
       "max       0.611000           289.000000            440.000000     1.038980   \n",
       "\n",
       "                PH    sulphates      alcohol      quality  \n",
       "count  6497.000000  6497.000000  6497.000000  6497.000000  \n",
       "mean      3.218501     0.531268    10.491801     5.818378  \n",
       "std       0.160787     0.148806     1.192712     0.873255  \n",
       "min       2.720000     0.220000     8.000000     3.000000  \n",
       "25%       3.110000     0.430000     9.500000     5.000000  \n",
       "50%       3.210000     0.510000    10.300000     6.000000  \n",
       "75%       3.320000     0.600000    11.300000     6.000000  \n",
       "max       4.010000     2.000000    14.900000     9.000000  "
      ]
     },
     "execution_count": 105,
     "metadata": {},
     "output_type": "execute_result"
    }
   ],
   "source": [
    "wine_raw_df.describe()"
   ]
  },
  {
   "cell_type": "code",
   "execution_count": 106,
   "metadata": {},
   "outputs": [
    {
     "data": {
      "text/plain": [
       "<matplotlib.axes._subplots.AxesSubplot at 0x1a2081c610>"
      ]
     },
     "execution_count": 106,
     "metadata": {},
     "output_type": "execute_result"
    },
    {
     "data": {
      "image/png": "[encoded data removed]",
      "text/plain": [
       "<Figure size 432x288 with 1 Axes>"
      ]
     },
     "metadata": {},
     "output_type": "display_data"
    }
   ],
   "source": [
    "sns.countplot(x=\"quality\", data=wine_raw_df)"
   ]
  },
  {
   "cell_type": "code",
   "execution_count": 107,
   "metadata": {},
   "outputs": [
    {
     "data": {
      "text/plain": [
       "<matplotlib.axes._subplots.AxesSubplot at 0x1a208e4090>"
      ]
     },
     "execution_count": 107,
     "metadata": {},
     "output_type": "execute_result"
    },
    {
     "data": {
      "image/png": "[encoded data removed]",
      "text/plain": [
       "<Figure size 432x288 with 1 Axes>"
      ]
     },
     "metadata": {},
     "output_type": "display_data"
    }
   ],
   "source": [
    "sns.countplot(x=\"type\", data=wine_raw_df)"
   ]
  },
  {
   "cell_type": "code",
   "execution_count": 108,
   "metadata": {},
   "outputs": [
    {
     "data": {
      "text/plain": [
       "<matplotlib.axes._subplots.AxesSubplot at 0x1a209b12d0>"
      ]
     },
     "execution_count": 108,
     "metadata": {},
     "output_type": "execute_result"
    },
    {
     "data": {
      "image/png": "[encoded data removed]",
      "text/plain": [
       "<Figure size 432x288 with 1 Axes>"
      ]
     },
     "metadata": {},
     "output_type": "display_data"
    }
   ],
   "source": [
    "sns.countplot(x=\"fixed_acidity\", data=wine_raw_df)"
   ]
  },
  {
   "cell_type": "code",
   "execution_count": 109,
   "metadata": {},
   "outputs": [
    {
     "data": {
      "text/plain": [
       "type                    0\n",
       "fixed_acidity           0\n",
       "volatile_acidity        0\n",
       "citric_acidity          0\n",
       "residual_suger          0\n",
       "chlorides               0\n",
       "free_sulfur_dioxide     0\n",
       "total_sulfur_dioxide    0\n",
       "density                 0\n",
       "PH                      0\n",
       "sulphates               0\n",
       "alcohol                 0\n",
       "quality                 0\n",
       "dtype: int64"
      ]
     },
     "execution_count": 109,
     "metadata": {},
     "output_type": "execute_result"
    }
   ],
   "source": [
    "wine_raw_df.isnull().sum()"
   ]
  },
  {
   "cell_type": "markdown",
   "metadata": {},
   "source": [
    "# 3. Detect outliers"
   ]
  },
  {
   "cell_type": "code",
   "execution_count": 111,
   "metadata": {},
   "outputs": [
    {
     "data": {
      "text/plain": [
       "<matplotlib.axes._subplots.AxesSubplot at 0x1a20e82dd0>"
      ]
     },
     "execution_count": 111,
     "metadata": {},
     "output_type": "execute_result"
    },
    {
     "data": {
      "image/png": "[encoded data removed]",
      "text/plain": [
       "<Figure size 432x288 with 1 Axes>"
      ]
     },
     "metadata": {},
     "output_type": "display_data"
    }
   ],
   "source": [
    "# From statistical description table, residual sugar and free sulfur dioxide have outliers.\n",
    "# Use Seaborn histogram to detect outliers for these two columns.\n",
    "# Find the outliers for residual sugar column.\n",
    "sns.distplot(wine_raw_df['residual_suger'])"
   ]
  },
  {
   "cell_type": "code",
   "execution_count": 113,
   "metadata": {},
   "outputs": [
    {
     "data": {
      "text/plain": [
       "<matplotlib.axes._subplots.AxesSubplot at 0x1a210f49d0>"
      ]
     },
     "execution_count": 113,
     "metadata": {},
     "output_type": "execute_result"
    },
    {
     "data": {
      "image/png": "[encoded data removed]",
      "text/plain": [
       "<Figure size 432x288 with 1 Axes>"
      ]
     },
     "metadata": {},
     "output_type": "display_data"
    }
   ],
   "source": [
    "sns.distplot(wine_raw_df['free_sulfur_dioxide'])"
   ]
  },
  {
   "cell_type": "markdown",
   "metadata": {},
   "source": [
    "it seems that there are obvious outliers in both residual sugar and free sulfur dioxide columns. Hence, let's first clean outliers for these two columns"
   ]
  },
  {
   "cell_type": "code",
   "execution_count": 119,
   "metadata": {},
   "outputs": [
    {
     "data": {
      "text/plain": [
       "<matplotlib.axes._subplots.AxesSubplot at 0x1a1f4a47d0>"
      ]
     },
     "execution_count": 119,
     "metadata": {},
     "output_type": "execute_result"
    },
    {
     "data": {
      "image/png": "[encoded data removed]",
      "text/plain": [
       "<Figure size 432x288 with 1 Axes>"
      ]
     },
     "metadata": {},
     "output_type": "display_data"
    }
   ],
   "source": [
    "q = wine_raw_df['residual_suger'].quantile(0.995)\n",
    "wine_df_1 = wine_raw_df[wine_raw_df['residual_suger']<q]\n",
    "sns.distplot(wine_df_1['residual_suger'])"
   ]
  },
  {
   "cell_type": "code",
   "execution_count": 120,
   "metadata": {},
   "outputs": [
    {
     "data": {
      "text/plain": [
       "<matplotlib.axes._subplots.AxesSubplot at 0x1a1f487c10>"
      ]
     },
     "execution_count": 120,
     "metadata": {},
     "output_type": "execute_result"
    },
    {
     "data": {
      "image/png": "[encoded data removed]",
      "text/plain": [
       "<Figure size 432x288 with 1 Axes>"
      ]
     },
     "metadata": {},
     "output_type": "display_data"
    }
   ],
   "source": [
    "q = wine_df_1['free_sulfur_dioxide'].quantile(0.995)\n",
    "wine_df_2 = wine_df_1[wine_df_1['free_sulfur_dioxide']<q]\n",
    "sns.distplot(wine_df_2['free_sulfur_dioxide'])"
   ]
  },
  {
   "cell_type": "code",
   "execution_count": 121,
   "metadata": {},
   "outputs": [
    {
     "data": {
      "text/plain": [
       "(6429, 13)"
      ]
     },
     "execution_count": 121,
     "metadata": {},
     "output_type": "execute_result"
    }
   ],
   "source": [
    "wine_df_2.shape"
   ]
  },
  {
   "cell_type": "code",
   "execution_count": 139,
   "metadata": {},
   "outputs": [],
   "source": [
    "wine_cleaned_df = wine_df_2"
   ]
  },
  {
   "cell_type": "code",
   "execution_count": 140,
   "metadata": {},
   "outputs": [
    {
     "data": {
      "text/plain": [
       "1.0466369093427685"
      ]
     },
     "execution_count": 140,
     "metadata": {},
     "output_type": "execute_result"
    }
   ],
   "source": [
    "removed_datapoint_percentage = (1- wine_cleaned_df.shape[0]/wine_raw_df.shape[0])*100\n",
    "removed_datapoint_percentage"
   ]
  },
  {
   "cell_type": "markdown",
   "metadata": {},
   "source": [
    "After dropping the missing values and outliers, the observations decreased from original 6497 to 6429 and about 1.04%. So, from now dropping the missing values and outliers might not make any meaningful changes in the following analysis."
   ]
  },
  {
   "cell_type": "markdown",
   "metadata": {},
   "source": [
    "## Explore data and select features"
   ]
  },
  {
   "cell_type": "code",
   "execution_count": 141,
   "metadata": {},
   "outputs": [
    {
     "data": {
      "text/html": [
       "<div>\n",
       "<style scoped>\n",
       "    .dataframe tbody tr th:only-of-type {\n",
       "        vertical-align: middle;\n",
       "    }\n",
       "\n",
       "    .dataframe tbody tr th {\n",
       "        vertical-align: top;\n",
       "    }\n",
       "\n",
       "    .dataframe thead th {\n",
       "        text-align: right;\n",
       "    }\n",
       "</style>\n",
       "<table border=\"1\" class=\"dataframe\">\n",
       "  <thead>\n",
       "    <tr style=\"text-align: right;\">\n",
       "      <th></th>\n",
       "      <th>type</th>\n",
       "      <th>fixed_acidity</th>\n",
       "      <th>volatile_acidity</th>\n",
       "      <th>citric_acidity</th>\n",
       "      <th>residual_suger</th>\n",
       "      <th>chlorides</th>\n",
       "      <th>free_sulfur_dioxide</th>\n",
       "      <th>total_sulfur_dioxide</th>\n",
       "      <th>density</th>\n",
       "      <th>PH</th>\n",
       "      <th>sulphates</th>\n",
       "      <th>alcohol</th>\n",
       "      <th>quality</th>\n",
       "    </tr>\n",
       "  </thead>\n",
       "  <tbody>\n",
       "    <tr>\n",
       "      <td>type</td>\n",
       "      <td>1.000000</td>\n",
       "      <td>-0.486846</td>\n",
       "      <td>-0.654265</td>\n",
       "      <td>0.188247</td>\n",
       "      <td>0.354052</td>\n",
       "      <td>-0.512744</td>\n",
       "      <td>0.490193</td>\n",
       "      <td>0.703173</td>\n",
       "      <td>-0.410527</td>\n",
       "      <td>-0.329328</td>\n",
       "      <td>-0.488205</td>\n",
       "      <td>0.035690</td>\n",
       "      <td>0.122178</td>\n",
       "    </tr>\n",
       "    <tr>\n",
       "      <td>fixed_acidity</td>\n",
       "      <td>-0.486846</td>\n",
       "      <td>1.000000</td>\n",
       "      <td>0.217588</td>\n",
       "      <td>0.325428</td>\n",
       "      <td>-0.116264</td>\n",
       "      <td>0.298611</td>\n",
       "      <td>-0.291142</td>\n",
       "      <td>-0.330663</td>\n",
       "      <td>0.473073</td>\n",
       "      <td>-0.253788</td>\n",
       "      <td>0.302014</td>\n",
       "      <td>-0.097346</td>\n",
       "      <td>-0.076612</td>\n",
       "    </tr>\n",
       "    <tr>\n",
       "      <td>volatile_acidity</td>\n",
       "      <td>-0.654265</td>\n",
       "      <td>0.217588</td>\n",
       "      <td>1.000000</td>\n",
       "      <td>-0.385142</td>\n",
       "      <td>-0.210100</td>\n",
       "      <td>0.377827</td>\n",
       "      <td>-0.363432</td>\n",
       "      <td>-0.415858</td>\n",
       "      <td>0.273297</td>\n",
       "      <td>0.262576</td>\n",
       "      <td>0.227300</td>\n",
       "      <td>-0.041082</td>\n",
       "      <td>-0.268882</td>\n",
       "    </tr>\n",
       "    <tr>\n",
       "      <td>citric_acidity</td>\n",
       "      <td>0.188247</td>\n",
       "      <td>0.325428</td>\n",
       "      <td>-0.385142</td>\n",
       "      <td>1.000000</td>\n",
       "      <td>0.135727</td>\n",
       "      <td>0.039769</td>\n",
       "      <td>0.151260</td>\n",
       "      <td>0.199179</td>\n",
       "      <td>0.090278</td>\n",
       "      <td>-0.334703</td>\n",
       "      <td>0.057119</td>\n",
       "      <td>-0.013569</td>\n",
       "      <td>0.085624</td>\n",
       "    </tr>\n",
       "    <tr>\n",
       "      <td>residual_suger</td>\n",
       "      <td>0.354052</td>\n",
       "      <td>-0.116264</td>\n",
       "      <td>-0.210100</td>\n",
       "      <td>0.135727</td>\n",
       "      <td>1.000000</td>\n",
       "      <td>-0.133496</td>\n",
       "      <td>0.440967</td>\n",
       "      <td>0.507706</td>\n",
       "      <td>0.524224</td>\n",
       "      <td>-0.267042</td>\n",
       "      <td>-0.183656</td>\n",
       "      <td>-0.367448</td>\n",
       "      <td>-0.035248</td>\n",
       "    </tr>\n",
       "    <tr>\n",
       "      <td>chlorides</td>\n",
       "      <td>-0.512744</td>\n",
       "      <td>0.298611</td>\n",
       "      <td>0.377827</td>\n",
       "      <td>0.039769</td>\n",
       "      <td>-0.133496</td>\n",
       "      <td>1.000000</td>\n",
       "      <td>-0.201004</td>\n",
       "      <td>-0.280435</td>\n",
       "      <td>0.374578</td>\n",
       "      <td>0.044105</td>\n",
       "      <td>0.397260</td>\n",
       "      <td>-0.259341</td>\n",
       "      <td>-0.202582</td>\n",
       "    </tr>\n",
       "    <tr>\n",
       "      <td>free_sulfur_dioxide</td>\n",
       "      <td>0.490193</td>\n",
       "      <td>-0.291142</td>\n",
       "      <td>-0.363432</td>\n",
       "      <td>0.151260</td>\n",
       "      <td>0.440967</td>\n",
       "      <td>-0.201004</td>\n",
       "      <td>1.000000</td>\n",
       "      <td>0.727384</td>\n",
       "      <td>0.029143</td>\n",
       "      <td>-0.155010</td>\n",
       "      <td>-0.199411</td>\n",
       "      <td>-0.184172</td>\n",
       "      <td>0.078329</td>\n",
       "    </tr>\n",
       "    <tr>\n",
       "      <td>total_sulfur_dioxide</td>\n",
       "      <td>0.703173</td>\n",
       "      <td>-0.330663</td>\n",
       "      <td>-0.415858</td>\n",
       "      <td>0.199179</td>\n",
       "      <td>0.507706</td>\n",
       "      <td>-0.280435</td>\n",
       "      <td>0.727384</td>\n",
       "      <td>1.000000</td>\n",
       "      <td>0.022944</td>\n",
       "      <td>-0.239770</td>\n",
       "      <td>-0.277443</td>\n",
       "      <td>-0.263544</td>\n",
       "      <td>-0.032829</td>\n",
       "    </tr>\n",
       "    <tr>\n",
       "      <td>density</td>\n",
       "      <td>-0.410527</td>\n",
       "      <td>0.473073</td>\n",
       "      <td>0.273297</td>\n",
       "      <td>0.090278</td>\n",
       "      <td>0.524224</td>\n",
       "      <td>0.374578</td>\n",
       "      <td>0.029143</td>\n",
       "      <td>0.022944</td>\n",
       "      <td>1.000000</td>\n",
       "      <td>0.019179</td>\n",
       "      <td>0.275296</td>\n",
       "      <td>-0.703615</td>\n",
       "      <td>-0.314458</td>\n",
       "    </tr>\n",
       "    <tr>\n",
       "      <td>PH</td>\n",
       "      <td>-0.329328</td>\n",
       "      <td>-0.253788</td>\n",
       "      <td>0.262576</td>\n",
       "      <td>-0.334703</td>\n",
       "      <td>-0.267042</td>\n",
       "      <td>0.044105</td>\n",
       "      <td>-0.155010</td>\n",
       "      <td>-0.239770</td>\n",
       "      <td>0.019179</td>\n",
       "      <td>1.000000</td>\n",
       "      <td>0.188535</td>\n",
       "      <td>0.117837</td>\n",
       "      <td>0.018418</td>\n",
       "    </tr>\n",
       "    <tr>\n",
       "      <td>sulphates</td>\n",
       "      <td>-0.488205</td>\n",
       "      <td>0.302014</td>\n",
       "      <td>0.227300</td>\n",
       "      <td>0.057119</td>\n",
       "      <td>-0.183656</td>\n",
       "      <td>0.397260</td>\n",
       "      <td>-0.199411</td>\n",
       "      <td>-0.277443</td>\n",
       "      <td>0.275296</td>\n",
       "      <td>0.188535</td>\n",
       "      <td>1.000000</td>\n",
       "      <td>-0.007326</td>\n",
       "      <td>0.034218</td>\n",
       "    </tr>\n",
       "    <tr>\n",
       "      <td>alcohol</td>\n",
       "      <td>0.035690</td>\n",
       "      <td>-0.097346</td>\n",
       "      <td>-0.041082</td>\n",
       "      <td>-0.013569</td>\n",
       "      <td>-0.367448</td>\n",
       "      <td>-0.259341</td>\n",
       "      <td>-0.184172</td>\n",
       "      <td>-0.263544</td>\n",
       "      <td>-0.703615</td>\n",
       "      <td>0.117837</td>\n",
       "      <td>-0.007326</td>\n",
       "      <td>1.000000</td>\n",
       "      <td>0.445107</td>\n",
       "    </tr>\n",
       "    <tr>\n",
       "      <td>quality</td>\n",
       "      <td>0.122178</td>\n",
       "      <td>-0.076612</td>\n",
       "      <td>-0.268882</td>\n",
       "      <td>0.085624</td>\n",
       "      <td>-0.035248</td>\n",
       "      <td>-0.202582</td>\n",
       "      <td>0.078329</td>\n",
       "      <td>-0.032829</td>\n",
       "      <td>-0.314458</td>\n",
       "      <td>0.018418</td>\n",
       "      <td>0.034218</td>\n",
       "      <td>0.445107</td>\n",
       "      <td>1.000000</td>\n",
       "    </tr>\n",
       "  </tbody>\n",
       "</table>\n",
       "</div>"
      ],
      "text/plain": [
       "                          type  fixed_acidity  volatile_acidity  \\\n",
       "type                  1.000000      -0.486846         -0.654265   \n",
       "fixed_acidity        -0.486846       1.000000          0.217588   \n",
       "volatile_acidity     -0.654265       0.217588          1.000000   \n",
       "citric_acidity        0.188247       0.325428         -0.385142   \n",
       "residual_suger        0.354052      -0.116264         -0.210100   \n",
       "chlorides            -0.512744       0.298611          0.377827   \n",
       "free_sulfur_dioxide   0.490193      -0.291142         -0.363432   \n",
       "total_sulfur_dioxide  0.703173      -0.330663         -0.415858   \n",
       "density              -0.410527       0.473073          0.273297   \n",
       "PH                   -0.329328      -0.253788          0.262576   \n",
       "sulphates            -0.488205       0.302014          0.227300   \n",
       "alcohol               0.035690      -0.097346         -0.041082   \n",
       "quality               0.122178      -0.076612         -0.268882   \n",
       "\n",
       "                      citric_acidity  residual_suger  chlorides  \\\n",
       "type                        0.188247        0.354052  -0.512744   \n",
       "fixed_acidity               0.325428       -0.116264   0.298611   \n",
       "volatile_acidity           -0.385142       -0.210100   0.377827   \n",
       "citric_acidity              1.000000        0.135727   0.039769   \n",
       "residual_suger              0.135727        1.000000  -0.133496   \n",
       "chlorides                   0.039769       -0.133496   1.000000   \n",
       "free_sulfur_dioxide         0.151260        0.440967  -0.201004   \n",
       "total_sulfur_dioxide        0.199179        0.507706  -0.280435   \n",
       "density                     0.090278        0.524224   0.374578   \n",
       "PH                         -0.334703       -0.267042   0.044105   \n",
       "sulphates                   0.057119       -0.183656   0.397260   \n",
       "alcohol                    -0.013569       -0.367448  -0.259341   \n",
       "quality                     0.085624       -0.035248  -0.202582   \n",
       "\n",
       "                      free_sulfur_dioxide  total_sulfur_dioxide   density  \\\n",
       "type                             0.490193              0.703173 -0.410527   \n",
       "fixed_acidity                   -0.291142             -0.330663  0.473073   \n",
       "volatile_acidity                -0.363432             -0.415858  0.273297   \n",
       "citric_acidity                   0.151260              0.199179  0.090278   \n",
       "residual_suger                   0.440967              0.507706  0.524224   \n",
       "chlorides                       -0.201004             -0.280435  0.374578   \n",
       "free_sulfur_dioxide              1.000000              0.727384  0.029143   \n",
       "total_sulfur_dioxide             0.727384              1.000000  0.022944   \n",
       "density                          0.029143              0.022944  1.000000   \n",
       "PH                              -0.155010             -0.239770  0.019179   \n",
       "sulphates                       -0.199411             -0.277443  0.275296   \n",
       "alcohol                         -0.184172             -0.263544 -0.703615   \n",
       "quality                          0.078329             -0.032829 -0.314458   \n",
       "\n",
       "                            PH  sulphates   alcohol   quality  \n",
       "type                 -0.329328  -0.488205  0.035690  0.122178  \n",
       "fixed_acidity        -0.253788   0.302014 -0.097346 -0.076612  \n",
       "volatile_acidity      0.262576   0.227300 -0.041082 -0.268882  \n",
       "citric_acidity       -0.334703   0.057119 -0.013569  0.085624  \n",
       "residual_suger       -0.267042  -0.183656 -0.367448 -0.035248  \n",
       "chlorides             0.044105   0.397260 -0.259341 -0.202582  \n",
       "free_sulfur_dioxide  -0.155010  -0.199411 -0.184172  0.078329  \n",
       "total_sulfur_dioxide -0.239770  -0.277443 -0.263544 -0.032829  \n",
       "density               0.019179   0.275296 -0.703615 -0.314458  \n",
       "PH                    1.000000   0.188535  0.117837  0.018418  \n",
       "sulphates             0.188535   1.000000 -0.007326  0.034218  \n",
       "alcohol               0.117837  -0.007326  1.000000  0.445107  \n",
       "quality               0.018418   0.034218  0.445107  1.000000  "
      ]
     },
     "execution_count": 141,
     "metadata": {},
     "output_type": "execute_result"
    }
   ],
   "source": [
    "# Get correlation matrix for numerical variables.\n",
    "wine_cleaned_df.corr()"
   ]
  },
  {
   "cell_type": "code",
   "execution_count": 142,
   "metadata": {},
   "outputs": [
    {
     "data": {
      "image/png": "[encoded data removed]",
      "text/plain": [
       "<Figure size 720x576 with 2 Axes>"
      ]
     },
     "metadata": {},
     "output_type": "display_data"
    }
   ],
   "source": [
    "# Make the correlation matrices.\n",
    "corrmat_wine = wine_cleaned_df.corr()\n",
    "\n",
    "# Draw the heatmap using seaborn.\n",
    "\n",
    "plt.figure(figsize=(10,8))\n",
    "\n",
    "sns.heatmap(corrmat_wine, square=False, annot=True, linewidths=0.5)\n",
    "plt.title(\"correlation matrix (Quality)\")\n",
    "\n",
    "plt.show()"
   ]
  },
  {
   "cell_type": "code",
   "execution_count": 147,
   "metadata": {},
   "outputs": [],
   "source": [
    "import warnings\n",
    "warnings.filterwarnings('ignore')\n",
    "\n",
    "# Convert type columns to numerical.\n",
    "wine_cleaned_df[\"type\"] = pd.get_dummies(wine_cleaned_df.type, drop_first=True)"
   ]
  },
  {
   "cell_type": "code",
   "execution_count": 149,
   "metadata": {},
   "outputs": [],
   "source": [
    "# Convert target column quality into binary column.\n",
    "# Define wine quality less than or equal 5 as 0, means not good quality.\n",
    "# Define wine quality more than 5 as 1, good quality.\n",
    "\n",
    "wine_cleaned_df['quality_c'] = np.where(wine_cleaned_df['quality']<=5, 0,1)"
   ]
  },
  {
   "cell_type": "code",
   "execution_count": 151,
   "metadata": {},
   "outputs": [
    {
     "data": {
      "text/plain": [
       "1    4074\n",
       "0    2355\n",
       "Name: quality_c, dtype: int64"
      ]
     },
     "execution_count": 151,
     "metadata": {},
     "output_type": "execute_result"
    }
   ],
   "source": [
    "wine_cleaned_df.quality_c.value_counts()"
   ]
  },
  {
   "cell_type": "code",
   "execution_count": 152,
   "metadata": {},
   "outputs": [
    {
     "data": {
      "text/plain": [
       "6    43.599316\n",
       "5    32.897807\n",
       "7    16.752217\n",
       "4     3.328667\n",
       "8     2.939804\n",
       "3     0.404417\n",
       "9     0.077773\n",
       "Name: quality, dtype: float64"
      ]
     },
     "execution_count": 152,
     "metadata": {},
     "output_type": "execute_result"
    }
   ],
   "source": [
    "\n",
    "quality_percentage = wine_cleaned_df['quality'].value_counts()/wine_cleaned_df.shape[0]*100\n",
    "quality_percentage"
   ]
  },
  {
   "cell_type": "markdown",
   "metadata": {},
   "source": [
    "\n",
    "## Build models\n",
    "In this capstone, several supervised machine learning models are used for the prediction.\n",
    "\n",
    "  1. Logistic regression\n",
    "  2. Decision Tree\n",
    "  3. Random Forest\n",
    "  4. Support Vector\n",
    "  5. KNeighbors\n",
    "  6. Gaussian Naive Bayes\n",
    "  7. GradientBoosting\n",
    "\n",
    "Based on the target variable is a category, the classification models will be created."
   ]
  },
  {
   "cell_type": "markdown",
   "metadata": {},
   "source": [
    "\n",
    "## 1. Logistic Regression"
   ]
  },
  {
   "cell_type": "code",
   "execution_count": 154,
   "metadata": {},
   "outputs": [
    {
     "name": "stdout",
     "output_type": "stream",
     "text": [
      "The number of observations in training set is 5143\n",
      "The number of observations in test set is 1286\n"
     ]
    }
   ],
   "source": [
    "# Target variable, binary variable not good (0) and good (1)\n",
    "Y = wine_cleaned_df['quality_c']\n",
    "# Independent variables\n",
    "X = wine_cleaned_df.drop(['quality', 'quality_c'], axis=1)\n",
    "\n",
    "# Build the model and tune a variety of model.\n",
    "import time\n",
    "start_time = time.perf_counter()\n",
    "\n",
    "lr = LogisticRegression(solver='lbfgs', max_iter=1500, class_weight='balanced')\n",
    "\n",
    "from sklearn.model_selection import train_test_split\n",
    "X_train, X_test, y_train, y_test = train_test_split(X, Y, test_size=0.2, random_state=500)\n",
    "\n",
    "print(\"The number of observations in training set is {}\".format(X_train.shape[0]))\n",
    "print(\"The number of observations in test set is {}\".format(X_test.shape[0]))\n",
    "\n",
    "lr.fit(X_train, y_train)\n",
    "\n",
    "# Make a prediction\n",
    "\n",
    "y_pred_test = lr.predict(X_test)\n",
    "y_pred_train = lr.predict(X_train)"
   ]
  },
  {
   "cell_type": "code",
   "execution_count": 156,
   "metadata": {},
   "outputs": [
    {
     "name": "stdout",
     "output_type": "stream",
     "text": [
      "Runtime: 41187.086087151 Seconds\n",
      "-------------------------------------------------\n",
      "[0.72303207 0.70553936 0.74538387 0.71400778 0.72568093]\n",
      "-------------------------------------------------\n",
      "Accuracy for train set: 0.723 (+/- 0.027)\n",
      "Accuracy of train set: 0.725 \n",
      "Accuracy of test set: 0.734 \n",
      "-------------------------------------------------\n",
      "[[375 117]\n",
      " [225 569]]\n",
      "-------------------------------------------------\n",
      "              precision    recall  f1-score   support\n",
      "\n",
      "           0       0.62      0.76      0.69       492\n",
      "           1       0.83      0.72      0.77       794\n",
      "\n",
      "    accuracy                           0.73      1286\n",
      "   macro avg       0.73      0.74      0.73      1286\n",
      "weighted avg       0.75      0.73      0.74      1286\n",
      "\n"
     ]
    }
   ],
   "source": [
    "\n",
    "# Apply cross validation for Logistic Regression model\n",
    "\n",
    "score = cross_val_score(lr, X_train, y_train, cv=5)\n",
    "runtime = time.perf_counter() - start_time\n",
    "print(\"Runtime: {} Seconds\".format(runtime))\n",
    "print('-------------------------------------------------')\n",
    "print(score)\n",
    "print('-------------------------------------------------')\n",
    "print(\"Accuracy for train set: %0.3f (+/- %0.3f)\" % (score.mean(), score.std() * 2))\n",
    "print(\"Accuracy of train set: %0.3f \" %lr.score(X_train, y_train))\n",
    "print(\"Accuracy of test set: %0.3f \" %lr.score(X_test, y_test))\n",
    "print('-------------------------------------------------')\n",
    "print(confusion_matrix(y_test,y_pred_test))\n",
    "print('-------------------------------------------------')\n",
    "print(classification_report(y_test,y_pred_test))"
   ]
  },
  {
   "cell_type": "code",
   "execution_count": 160,
   "metadata": {},
   "outputs": [],
   "source": [
    "\n",
    "# Create the perfomance report from the cross_validate for comparison.\n",
    "from sklearn.model_selection import cross_validate\n",
    "\n",
    "scores = cross_validate(lr, X_train, y_train, scoring=scoring, cv=5)\n",
    "scores.keys()\n",
    "sorted(scores.keys())\n",
    "\n",
    "lr_fit_time = scores['fit_time'].mean()\n",
    "lr_score_time = scores['score_time'].mean()\n",
    "lr_accuracy = scores['test_accuracy'].mean()\n",
    "lr_precision = scores['test_precision_macro'].mean()\n",
    "lr_recall = scores['test_recall_macro'].mean()\n",
    "lr_f1 = scores['test_f1_weighted'].mean()\n",
    "lr_roc = scores['test_roc_auc'].mean()"
   ]
  },
  {
   "cell_type": "code",
   "execution_count": 161,
   "metadata": {},
   "outputs": [
    {
     "name": "stdout",
     "output_type": "stream",
     "text": [
      "{'C': 100, 'class_weight': None, 'max_iter': 1000, 'solver': 'newton-cg'}\n"
     ]
    }
   ],
   "source": [
    "# Target variable\n",
    "Y1 = wine_cleaned_df['quality_c']\n",
    "# Independent variables\n",
    "X1 = wine_cleaned_df.drop(['quality','quality_c'], axis=1)\n",
    "\n",
    "lr = LogisticRegression()\n",
    "\n",
    "X1_train, X1_test, y1_train, y1_test = train_test_split(X1, Y1, test_size=0.2, random_state=500)\n",
    "\n",
    "from sklearn.model_selection import GridSearchCV\n",
    "\n",
    "parameters = [{'C': [1.0, 10, 100, 1000], 'class_weight':[None, 'balanced'], \n",
    "               'solver':['lbfgs','newton-cg'],'max_iter':[1000, 1500, 2000] }]\n",
    "\n",
    "\n",
    "grid_search = GridSearchCV(estimator=lr,\n",
    "                          param_grid=parameters,\n",
    "                          cv=5)\n",
    "\n",
    "grid_search =  grid_search.fit(X1_train, y1_train)\n",
    "print(grid_search.best_params_)"
   ]
  },
  {
   "cell_type": "code",
   "execution_count": null,
   "metadata": {},
   "outputs": [],
   "source": [
    "y_pred_test = grid_search.predict(X1_test)\n",
    "y_pred_train = lgrid_search.predict(X1_train)"
   ]
  },
  {
   "cell_type": "code",
   "execution_count": 163,
   "metadata": {},
   "outputs": [
    {
     "name": "stdout",
     "output_type": "stream",
     "text": [
      "Runtime: 43909.51245859599 Seconds\n",
      "-------------------------------------------------\n",
      "[0.73275024 0.72594752 0.77065112 0.73638132 0.73735409]\n",
      "-------------------------------------------------\n",
      "Accuracy for train set: 0.741 (+/- 0.031)\n",
      "Accuracy of train set: 0.748 \n",
      "Accuracy of test set: 0.741 \n",
      "-------------------------------------------------\n",
      "[[375 117]\n",
      " [225 569]]\n",
      "-------------------------------------------------\n",
      "              precision    recall  f1-score   support\n",
      "\n",
      "           0       0.62      0.76      0.69       492\n",
      "           1       0.83      0.72      0.77       794\n",
      "\n",
      "    accuracy                           0.73      1286\n",
      "   macro avg       0.73      0.74      0.73      1286\n",
      "weighted avg       0.75      0.73      0.74      1286\n",
      "\n"
     ]
    }
   ],
   "source": [
    "score = cross_val_score(lr, X_train, y_train, cv=5)\n",
    "runtime = time.perf_counter() - start_time\n",
    "print(\"Runtime: {} Seconds\".format(runtime))\n",
    "print('-------------------------------------------------')\n",
    "print(score)\n",
    "print('-------------------------------------------------')\n",
    "print(\"Accuracy for train set: %0.3f (+/- %0.3f)\" % (score.mean(), score.std() * 2))\n",
    "print(\"Accuracy of train set: %0.3f \" %grid_search.score(X1_train, y1_train))\n",
    "print(\"Accuracy of test set: %0.3f \" %grid_search.score(X1_test, y1_test))\n",
    "print('-------------------------------------------------')\n",
    "print(confusion_matrix(y_test,y_pred_test))\n",
    "print('-------------------------------------------------')\n",
    "print(classification_report(y_test,y_pred_test))"
   ]
  },
  {
   "cell_type": "markdown",
   "metadata": {},
   "source": [
    "## 2. Decision Tree"
   ]
  },
  {
   "cell_type": "code",
   "execution_count": 164,
   "metadata": {},
   "outputs": [
    {
     "name": "stdout",
     "output_type": "stream",
     "text": [
      "Runtime: 0.13625621399842203 Seconds\n",
      "-------------------------------------------------\n",
      "[0.72789116 0.70942663 0.74246842 0.72470817 0.71303502]\n",
      "-------------------------------------------------\n",
      "Accuracy for train set: 0.724 (+/- 0.023)\n",
      "Accuracy of train set: 0.755 \n",
      "Accuracy of test set: 0.755 \n",
      "-------------------------------------------------\n",
      "[[384 108]\n",
      " [207 587]]\n",
      "-------------------------------------------------\n",
      "              precision    recall  f1-score   support\n",
      "\n",
      "           0       0.65      0.78      0.71       492\n",
      "           1       0.84      0.74      0.79       794\n",
      "\n",
      "    accuracy                           0.76      1286\n",
      "   macro avg       0.75      0.76      0.75      1286\n",
      "weighted avg       0.77      0.76      0.76      1286\n",
      "\n"
     ]
    }
   ],
   "source": [
    "# Target variable\n",
    "Y = wine_cleaned_df['quality_c']\n",
    "# Independent variables\n",
    "X = wine_cleaned_df.drop(['quality','quality_c'], axis=1)\n",
    "\n",
    "from sklearn.tree import DecisionTreeClassifier\n",
    "\n",
    "# Build the model and tune a variety of model.\n",
    "X_train, X_test, y_train, y_test = train_test_split(X, Y, test_size=0.2, random_state=500)\n",
    "\n",
    "import time\n",
    "start_time = time.perf_counter()\n",
    "\n",
    "dtc = DecisionTreeClassifier(max_depth=5, class_weight='balanced')\n",
    "dtc.fit(X_train, y_train)\n",
    "\n",
    "# Make a prediction\n",
    "y_pred_test = dtc.predict(X_test)\n",
    "y_pred_train = dtc.predict(X_train)\n",
    "\n",
    "# Apply cross validation for Decision Tree model\n",
    "score = cross_val_score(dtc, X_train, y_train, cv=5)\n",
    "\n",
    "runtime = time.perf_counter() - start_time\n",
    "print(\"Runtime: {} Seconds\".format(runtime))\n",
    "print('-------------------------------------------------')\n",
    "print(score)\n",
    "print('-------------------------------------------------')\n",
    "print(\"Accuracy for train set: %0.3f (+/- %0.3f)\" % (score.mean(), score.std() * 2))\n",
    "print(\"Accuracy of train set: %0.3f \" %dtc.score(X_train, y_train))\n",
    "print(\"Accuracy of test set: %0.3f \" %dtc.score(X_test, y_test))\n",
    "print('-------------------------------------------------')\n",
    "print(confusion_matrix(y_test,y_pred_test))\n",
    "print('-------------------------------------------------')\n",
    "print(classification_report(y_test,y_pred_test))"
   ]
  },
  {
   "cell_type": "code",
   "execution_count": 165,
   "metadata": {},
   "outputs": [],
   "source": [
    "# Create the perfomance report from the cross_validate for comparison.\n",
    "from sklearn.model_selection import cross_validate\n",
    "scoring = ['accuracy', 'precision_macro', 'recall_macro' , 'f1_weighted', 'roc_auc']\n",
    "scores = cross_validate(dtc, X_train, y_train, scoring=scoring, cv=5)\n",
    "\n",
    "sorted(scores.keys())\n",
    "dtc_fit_time = scores['fit_time'].mean()\n",
    "dtc_score_time = scores['score_time'].mean()\n",
    "dtc_accuracy = scores['test_accuracy'].mean()\n",
    "dtc_precision = scores['test_precision_macro'].mean()\n",
    "dtc_recall = scores['test_recall_macro'].mean()\n",
    "dtc_f1 = scores['test_f1_weighted'].mean()\n",
    "dtc_roc = scores['test_roc_auc'].mean()"
   ]
  },
  {
   "cell_type": "markdown",
   "metadata": {},
   "source": [
    "## 3. Random Forest Tree Model"
   ]
  },
  {
   "cell_type": "code",
   "execution_count": 166,
   "metadata": {},
   "outputs": [
    {
     "name": "stdout",
     "output_type": "stream",
     "text": [
      "Runtime: 1.2713139999999612 Seconds\n",
      "-------------------------------------------------\n",
      "[0.80660836 0.80466472 0.80660836 0.80642023 0.79766537]\n",
      "-------------------------------------------------\n",
      "Accuracy for train set: 0.804 (+/- 0.007)\n",
      "Accuracy of train set: 0.995 \n",
      "Accuracy of test set: 0.813 \n",
      "-------------------------------------------------\n",
      "[[338 154]\n",
      " [ 87 707]]\n",
      "-------------------------------------------------\n",
      "              precision    recall  f1-score   support\n",
      "\n",
      "           0       0.80      0.69      0.74       492\n",
      "           1       0.82      0.89      0.85       794\n",
      "\n",
      "    accuracy                           0.81      1286\n",
      "   macro avg       0.81      0.79      0.80      1286\n",
      "weighted avg       0.81      0.81      0.81      1286\n",
      "\n"
     ]
    }
   ],
   "source": [
    "# Target variable\n",
    "Y = wine_cleaned_df['quality_c']\n",
    "# Independent variables\n",
    "X = wine_cleaned_df.drop(['quality','quality_c'], axis=1)\n",
    "\n",
    "from sklearn.ensemble import RandomForestClassifier\n",
    "\n",
    "X_train, X_test, y_train, y_test = train_test_split(X, Y, test_size=0.2, random_state=500)\n",
    "\n",
    "# Build the model and tune a variety of model.\n",
    "import time\n",
    "start_time = time.process_time()\n",
    "\n",
    "rfc = RandomForestClassifier(n_estimators=15, class_weight='balanced')\n",
    "rfc.fit(X_train, y_train)\n",
    "\n",
    "# Make a prediction\n",
    "y_pred_test = rfc.predict(X_test)\n",
    "y_pred_train = rfc.predict(X_train)\n",
    "\n",
    "# Apply cross validation for Random Forest model\n",
    "\n",
    "score = cross_val_score(rfc, X_train, y_train, cv=5)\n",
    "runtime = time.process_time() - start_time\n",
    "print(\"Runtime: {} Seconds\".format(runtime))\n",
    "print('-------------------------------------------------')\n",
    "print(score)\n",
    "print('-------------------------------------------------')\n",
    "print(\"Accuracy for train set: %0.3f (+/- %0.3f)\" % (score.mean(), score.std() * 2))\n",
    "print(\"Accuracy of train set: %0.3f \" %rfc.score(X_train, y_train))\n",
    "print(\"Accuracy of test set: %0.3f \" %rfc.score(X_test, y_test))\n",
    "print('-------------------------------------------------')\n",
    "print(confusion_matrix(y_test,y_pred_test))\n",
    "print('-------------------------------------------------')\n",
    "print(classification_report(y_test,y_pred_test))"
   ]
  },
  {
   "cell_type": "code",
   "execution_count": 167,
   "metadata": {},
   "outputs": [],
   "source": [
    "# Create the perfomance report from the cross_validate for comparison.\n",
    "from sklearn.model_selection import cross_validate\n",
    "scoring = ['accuracy', 'precision_macro', 'recall_macro' , 'f1_weighted', 'roc_auc']\n",
    "scores = cross_validate(rfc, X_train, y_train, scoring=scoring, cv=5)\n",
    "\n",
    "sorted(scores.keys())\n",
    "rfc_fit_time = scores['fit_time'].mean()\n",
    "rfc_score_time = scores['score_time'].mean()\n",
    "rfc_accuracy = scores['test_accuracy'].mean()\n",
    "rfc_precision = scores['test_precision_macro'].mean()\n",
    "rfc_recall = scores['test_recall_macro'].mean()\n",
    "rfc_f1 = scores['test_f1_weighted'].mean()\n",
    "rfc_roc = scores['test_roc_auc'].mean()"
   ]
  },
  {
   "cell_type": "markdown",
   "metadata": {},
   "source": [
    "## 4. Support Vector Machines "
   ]
  },
  {
   "cell_type": "code",
   "execution_count": 169,
   "metadata": {},
   "outputs": [
    {
     "name": "stdout",
     "output_type": "stream",
     "text": [
      "Runtime: 182.70870200000002 Seconds\n",
      "-------------------------------------------------\n",
      "[0.73760933 0.75218659 0.78328474 0.74416342 0.7266537 ]\n",
      "-------------------------------------------------\n",
      "Accuracy for train set: 0.749 (+/- 0.038)\n",
      "Accuracy of train set: 0.752 \n",
      "Accuracy of test set: 0.750 \n",
      "-------------------------------------------------\n",
      "[[289 203]\n",
      " [118 676]]\n",
      "-------------------------------------------------\n",
      "              precision    recall  f1-score   support\n",
      "\n",
      "           0       0.71      0.59      0.64       492\n",
      "           1       0.77      0.85      0.81       794\n",
      "\n",
      "    accuracy                           0.75      1286\n",
      "   macro avg       0.74      0.72      0.73      1286\n",
      "weighted avg       0.75      0.75      0.74      1286\n",
      "\n"
     ]
    }
   ],
   "source": [
    "# Target variable\n",
    "Y = wine_cleaned_df['quality_c']\n",
    "# Independent variables\n",
    "X = wine_cleaned_df.loc[:, ~wine_cleaned_df.columns.isin(['quality', 'quality_c'])]\n",
    "\n",
    "# Build the model and tune a variety of model.\n",
    "import time\n",
    "start_time = time.process_time()\n",
    "\n",
    "svm = SVC(kernel = 'linear')\n",
    "\n",
    "from sklearn.model_selection import train_test_split\n",
    "X_train, X_test, y_train, y_test = train_test_split(X, Y, test_size=0.2, random_state=500)\n",
    "svm.fit(X_train, y_train)\n",
    "\n",
    "# Make a prediction\n",
    "y_pred_test = svm.predict(X_test)\n",
    "y_pred_train = svm.predict(X_train)\n",
    "\n",
    "# Apply cross validation for Support Vector model\n",
    "\n",
    "score = cross_val_score(svm, X_train, y_train, cv=5)\n",
    "\n",
    "runtime = time.process_time() - start_time\n",
    "print(\"Runtime: {} Seconds\".format(runtime))\n",
    "print('-------------------------------------------------')\n",
    "\n",
    "print(score)\n",
    "print('-------------------------------------------------')\n",
    "print(\"Accuracy for train set: %0.3f (+/- %0.3f)\" % (score.mean(), score.std() * 2))\n",
    "print(\"Accuracy of train set: %0.3f \" %svm.score(X_train, y_train))\n",
    "print(\"Accuracy of test set: %0.3f \" %svm.score(X_test, y_test))\n",
    "print('-------------------------------------------------')\n",
    "print(confusion_matrix(y_test,y_pred_test))\n",
    "print('-------------------------------------------------')\n",
    "print(classification_report(y_test,y_pred_test))"
   ]
  },
  {
   "cell_type": "code",
   "execution_count": 171,
   "metadata": {},
   "outputs": [],
   "source": [
    "# Create the perfomance report from the cross_validate for comparison.\n",
    "from sklearn.model_selection import cross_validate\n",
    "scoring = ['accuracy', 'precision_macro', 'recall_macro' , 'f1_weighted', 'roc_auc']\n",
    "scores = cross_validate(svm, X_train, y_train, scoring=scoring, cv=5)\n",
    "\n",
    "sorted(scores.keys())\n",
    "svm_fit_time = scores['fit_time'].mean()\n",
    "svm_score_time = scores['score_time'].mean()\n",
    "svm_accuracy = scores['test_accuracy'].mean()\n",
    "svm_precision = scores['test_precision_macro'].mean()\n",
    "svm_recall = scores['test_recall_macro'].mean()\n",
    "svm_f1 = scores['test_f1_weighted'].mean()\n",
    "svm_roc = scores['test_roc_auc'].mean()"
   ]
  },
  {
   "cell_type": "markdown",
   "metadata": {},
   "source": [
    "## 5. KNeighbors Model "
   ]
  },
  {
   "cell_type": "code",
   "execution_count": 172,
   "metadata": {},
   "outputs": [
    {
     "name": "stdout",
     "output_type": "stream",
     "text": [
      "Runtime: 0.8326260000001184 Seconds\n",
      "-------------------------------------------------\n",
      "[0.6851312  0.68027211 0.65500486 0.6692607  0.67607004]\n",
      "-------------------------------------------------\n",
      "Accuracy for train set: 0.673 (+/- 0.021)\n",
      "Accuracy of train set: 0.759 \n",
      "Accuracy of test set: 0.666 \n",
      "-------------------------------------------------\n",
      "[[223 269]\n",
      " [160 634]]\n",
      "-------------------------------------------------\n",
      "              precision    recall  f1-score   support\n",
      "\n",
      "           0       0.58      0.45      0.51       492\n",
      "           1       0.70      0.80      0.75       794\n",
      "\n",
      "    accuracy                           0.67      1286\n",
      "   macro avg       0.64      0.63      0.63      1286\n",
      "weighted avg       0.66      0.67      0.66      1286\n",
      "\n"
     ]
    }
   ],
   "source": [
    "# Target variable\n",
    "Y = wine_cleaned_df['quality_c']\n",
    "# Independent variables\n",
    "X = wine_cleaned_df.loc[:, ~wine_cleaned_df.columns.isin(['quality', 'quality_c'])]\n",
    "\n",
    "# Build the model and tune a variety of model.\n",
    "from sklearn.neighbors import KNeighborsClassifier\n",
    "import time\n",
    "start_time = time.process_time()\n",
    "\n",
    "neighbors = KNeighborsClassifier(n_neighbors=7)\n",
    "\n",
    "X_train, X_test, y_train, y_test = train_test_split(X, Y, test_size=0.2, random_state=500)\n",
    "neighbors.fit(X_train,y_train)\n",
    "\n",
    "# Make a prediction\n",
    "y_pred_test = neighbors.predict(X_test)\n",
    "y_pred_train = neighbors.predict(X_train)\n",
    "\n",
    "# Apply cross validation for KNN model\n",
    "\n",
    "score = cross_val_score(neighbors, X_train, y_train, cv=5)\n",
    "runtime = time.process_time() - start_time\n",
    "print(\"Runtime: {} Seconds\".format(runtime))\n",
    "print('-------------------------------------------------')\n",
    "print(score)\n",
    "print('-------------------------------------------------')\n",
    "print(\"Accuracy for train set: %0.3f (+/- %0.3f)\" % (score.mean(), score.std() * 2))\n",
    "print(\"Accuracy of train set: %0.3f \" %neighbors.score(X_train, y_train))\n",
    "print(\"Accuracy of test set: %0.3f \" %neighbors.score(X_test, y_test))\n",
    "print('-------------------------------------------------')\n",
    "print(confusion_matrix(y_test,y_pred_test))\n",
    "print('-------------------------------------------------')\n",
    "print(classification_report(y_test,y_pred_test))"
   ]
  },
  {
   "cell_type": "code",
   "execution_count": 173,
   "metadata": {},
   "outputs": [],
   "source": [
    "# Create the perfomance report from the cross_validate for comparison.\n",
    "from sklearn.model_selection import cross_validate\n",
    "scoring = ['accuracy', 'precision_macro', 'recall_macro' , 'f1_weighted', 'roc_auc']\n",
    "scores = cross_validate(neighbors, X_train, y_train, scoring=scoring, cv=5)\n",
    "\n",
    "sorted(scores.keys())\n",
    "knn_fit_time = scores['fit_time'].mean()\n",
    "knn_score_time = scores['score_time'].mean()\n",
    "knn_accuracy = scores['test_accuracy'].mean()\n",
    "knn_precision = scores['test_precision_macro'].mean()\n",
    "knn_recall = scores['test_recall_macro'].mean()\n",
    "knn_f1 = scores['test_f1_weighted'].mean()\n",
    "knn_roc = scores['test_roc_auc'].mean()"
   ]
  },
  {
   "cell_type": "markdown",
   "metadata": {},
   "source": [
    "## 6. Gaussian Naive Bayes"
   ]
  },
  {
   "cell_type": "code",
   "execution_count": 174,
   "metadata": {},
   "outputs": [
    {
     "name": "stdout",
     "output_type": "stream",
     "text": [
      "Runtime: 0.08323399999994763 Seconds\n",
      "-------------------------------------------------\n",
      "[0.66375121 0.65306122 0.67541302 0.68093385 0.66731518]\n",
      "-------------------------------------------------\n",
      "Accuracy for train set: 0.668 (+/- 0.019)\n",
      "Accuracy of train set: 0.676 \n",
      "Accuracy of test set: 0.699 \n",
      "-------------------------------------------------\n",
      "[[261 231]\n",
      " [156 638]]\n",
      "-------------------------------------------------\n",
      "              precision    recall  f1-score   support\n",
      "\n",
      "           0       0.63      0.53      0.57       492\n",
      "           1       0.73      0.80      0.77       794\n",
      "\n",
      "    accuracy                           0.70      1286\n",
      "   macro avg       0.68      0.67      0.67      1286\n",
      "weighted avg       0.69      0.70      0.69      1286\n",
      "\n"
     ]
    }
   ],
   "source": [
    "# Target variable\n",
    "Y = wine_cleaned_df['quality_c']\n",
    "# Independent variables\n",
    "X = wine_cleaned_df.drop(['quality','quality_c'], axis=1)\n",
    "\n",
    "from sklearn.naive_bayes import GaussianNB\n",
    "# Build the model and tune a variety of model.\n",
    "import time\n",
    "start_time = time.process_time()\n",
    "\n",
    "gnb = GaussianNB()\n",
    "\n",
    "X_train, X_test, y_train, y_test = train_test_split(X, Y, test_size=0.2, random_state=500)\n",
    "gnb.fit(X_train, y_train)\n",
    "\n",
    "# Make a prediction\n",
    "y_pred_test = gnb.predict(X_test)\n",
    "y_pred_train = gnb.predict(X_train)\n",
    "\n",
    "# Apply cross validation for  Gaussian Naive Bayes model\n",
    "\n",
    "score = cross_val_score(gnb, X_train, y_train, cv=5)\n",
    "runtime = time.process_time() - start_time\n",
    "print(\"Runtime: {} Seconds\".format(runtime))\n",
    "print('-------------------------------------------------')\n",
    "print(score)\n",
    "print('-------------------------------------------------')\n",
    "print(\"Accuracy for train set: %0.3f (+/- %0.3f)\" % (score.mean(), score.std() * 2))\n",
    "print(\"Accuracy of train set: %0.3f \" %gnb.score(X_train, y_train))\n",
    "print(\"Accuracy of test set: %0.3f \" %gnb.score(X_test, y_test))\n",
    "print('-------------------------------------------------')\n",
    "print(confusion_matrix(y_test,y_pred_test))\n",
    "print('-------------------------------------------------')\n",
    "print(classification_report(y_test,y_pred_test))"
   ]
  },
  {
   "cell_type": "code",
   "execution_count": 175,
   "metadata": {},
   "outputs": [],
   "source": [
    "# Create the perfomance report from the cross_validate for comparison.\n",
    "from sklearn.model_selection import cross_validate\n",
    "scoring = ['accuracy', 'precision_macro', 'recall_macro' , 'f1_weighted', 'roc_auc']\n",
    "scores = cross_validate(gnb, X_train, y_train, scoring=scoring, cv=5)\n",
    "\n",
    "sorted(scores.keys())\n",
    "gnb_fit_time = scores['fit_time'].mean()\n",
    "gnb_score_time = scores['score_time'].mean()\n",
    "gnb_accuracy = scores['test_accuracy'].mean()\n",
    "gnb_precision = scores['test_precision_macro'].mean()\n",
    "gnb_recall = scores['test_recall_macro'].mean()\n",
    "gnb_f1 = scores['test_f1_weighted'].mean()\n",
    "gnb_roc = scores['test_roc_auc'].mean()"
   ]
  },
  {
   "cell_type": "markdown",
   "metadata": {},
   "source": [
    "## 7. GradientBoosting Model"
   ]
  },
  {
   "cell_type": "code",
   "execution_count": 176,
   "metadata": {},
   "outputs": [
    {
     "name": "stdout",
     "output_type": "stream",
     "text": [
      "Runtime: 16.72122400000012 Seconds\n",
      "-------------------------------------------------\n",
      "[0.81535471 0.79397473 0.81535471 0.79474708 0.79280156]\n",
      "-------------------------------------------------\n",
      "Accuracy for train set: 0.802 (+/- 0.021)\n",
      "Accuracy of train set: 0.942 \n",
      "Accuracy of test set: 0.805 \n",
      "-------------------------------------------------\n",
      "[[346 146]\n",
      " [105 689]]\n",
      "-------------------------------------------------\n",
      "              precision    recall  f1-score   support\n",
      "\n",
      "           0       0.77      0.70      0.73       492\n",
      "           1       0.83      0.87      0.85       794\n",
      "\n",
      "    accuracy                           0.80      1286\n",
      "   macro avg       0.80      0.79      0.79      1286\n",
      "weighted avg       0.80      0.80      0.80      1286\n",
      "\n"
     ]
    }
   ],
   "source": [
    "# Target variable\n",
    "Y = wine_cleaned_df['quality_c']\n",
    "# Independent variables\n",
    "X = wine_cleaned_df.loc[:, ~wine_cleaned_df.columns.isin(['quality', 'quality_c'])]\n",
    "\n",
    "# Build the model and tune a variety of model.\n",
    "# We'll make 400 iterations, use 2-deep trees, and set our loss function.\n",
    "import time\n",
    "start_time = time.process_time()\n",
    "\n",
    "X_train, X_test, y_train, y_test = train_test_split(X, Y, test_size=0.2, random_state=500)\n",
    "\n",
    "# Initialize and fit the model.\n",
    "gbc = ensemble.GradientBoostingClassifier(n_estimators=400,\n",
    "          max_depth=4,\n",
    "          loss='deviance')\n",
    "gbc.fit(X_train, y_train)\n",
    "\n",
    "# Make a prediction\n",
    "y_pred_train = gbc.predict(X_train)\n",
    "y_pred_test = gbc.predict(X_test)\n",
    "\n",
    "# Apply cross validation for Gradient Boosting model\n",
    "\n",
    "score = cross_val_score(gbc, X_train, y_train, cv=5)\n",
    "\n",
    "runtime = time.process_time() - start_time\n",
    "print(\"Runtime: {} Seconds\".format(runtime))\n",
    "print('-------------------------------------------------')\n",
    "print(score)\n",
    "print('-------------------------------------------------')\n",
    "print(\"Accuracy for train set: %0.3f (+/- %0.3f)\" % (score.mean(), score.std() * 2))\n",
    "print(\"Accuracy of train set: %0.3f \" %gbc.score(X_train, y_train))\n",
    "print(\"Accuracy of test set: %0.3f \" %gbc.score(X_test, y_test))\n",
    "print('-------------------------------------------------')\n",
    "print(confusion_matrix(y_test,y_pred_test))\n",
    "print('-------------------------------------------------')\n",
    "print(classification_report(y_test,y_pred_test))"
   ]
  },
  {
   "cell_type": "code",
   "execution_count": 177,
   "metadata": {},
   "outputs": [],
   "source": [
    "# Create the perfomance report from the cross_validate for comparison.\n",
    "from sklearn.model_selection import cross_validate\n",
    "scoring = ['accuracy', 'precision_macro', 'recall_macro' , 'f1_weighted', 'roc_auc']\n",
    "scores = cross_validate(gbc, X_train, y_train, scoring=scoring, cv=5)\n",
    "\n",
    "sorted(scores.keys())\n",
    "gbc_fit_time = scores['fit_time'].mean()\n",
    "gbc_score_time = scores['score_time'].mean()\n",
    "gbc_accuracy = scores['test_accuracy'].mean()\n",
    "gbc_precision = scores['test_precision_macro'].mean()\n",
    "gbc_recall = scores['test_recall_macro'].mean()\n",
    "gbc_f1 = scores['test_f1_weighted'].mean()\n",
    "gbc_roc = scores['test_roc_auc'].mean()"
   ]
  },
  {
   "cell_type": "markdown",
   "metadata": {},
   "source": [
    "## Compare the performance of the models"
   ]
  },
  {
   "cell_type": "code",
   "execution_count": 178,
   "metadata": {},
   "outputs": [
    {
     "data": {
      "text/html": [
       "<div>\n",
       "<style scoped>\n",
       "    .dataframe tbody tr th:only-of-type {\n",
       "        vertical-align: middle;\n",
       "    }\n",
       "\n",
       "    .dataframe tbody tr th {\n",
       "        vertical-align: top;\n",
       "    }\n",
       "\n",
       "    .dataframe thead th {\n",
       "        text-align: right;\n",
       "    }\n",
       "</style>\n",
       "<table border=\"1\" class=\"dataframe\">\n",
       "  <thead>\n",
       "    <tr style=\"text-align: right;\">\n",
       "      <th></th>\n",
       "      <th>Model</th>\n",
       "      <th>Fit_time</th>\n",
       "      <th>Score_time</th>\n",
       "      <th>Accuracy</th>\n",
       "      <th>Precision</th>\n",
       "      <th>Recall</th>\n",
       "      <th>F1_score</th>\n",
       "      <th>ROC_AUC</th>\n",
       "    </tr>\n",
       "  </thead>\n",
       "  <tbody>\n",
       "    <tr>\n",
       "      <td>2</td>\n",
       "      <td>Random Forest</td>\n",
       "      <td>0.097429</td>\n",
       "      <td>0.024919</td>\n",
       "      <td>0.803420</td>\n",
       "      <td>0.792079</td>\n",
       "      <td>0.773879</td>\n",
       "      <td>0.800234</td>\n",
       "      <td>0.871314</td>\n",
       "    </tr>\n",
       "    <tr>\n",
       "      <td>6</td>\n",
       "      <td>GradientBoosting</td>\n",
       "      <td>1.356570</td>\n",
       "      <td>0.042642</td>\n",
       "      <td>0.803225</td>\n",
       "      <td>0.789514</td>\n",
       "      <td>0.778363</td>\n",
       "      <td>0.801290</td>\n",
       "      <td>0.861798</td>\n",
       "    </tr>\n",
       "    <tr>\n",
       "      <td>3</td>\n",
       "      <td>Support Vector Machines</td>\n",
       "      <td>13.808195</td>\n",
       "      <td>0.145423</td>\n",
       "      <td>0.748780</td>\n",
       "      <td>0.732376</td>\n",
       "      <td>0.705287</td>\n",
       "      <td>0.740728</td>\n",
       "      <td>0.799035</td>\n",
       "    </tr>\n",
       "    <tr>\n",
       "      <td>1</td>\n",
       "      <td>Decision Tree</td>\n",
       "      <td>0.013861</td>\n",
       "      <td>0.011194</td>\n",
       "      <td>0.723700</td>\n",
       "      <td>0.713111</td>\n",
       "      <td>0.728299</td>\n",
       "      <td>0.728413</td>\n",
       "      <td>0.789952</td>\n",
       "    </tr>\n",
       "    <tr>\n",
       "      <td>0</td>\n",
       "      <td>Logistic Regression</td>\n",
       "      <td>0.442988</td>\n",
       "      <td>0.012191</td>\n",
       "      <td>0.722729</td>\n",
       "      <td>0.712425</td>\n",
       "      <td>0.727655</td>\n",
       "      <td>0.727475</td>\n",
       "      <td>0.799859</td>\n",
       "    </tr>\n",
       "    <tr>\n",
       "      <td>4</td>\n",
       "      <td>KNeighbors</td>\n",
       "      <td>0.004592</td>\n",
       "      <td>0.158372</td>\n",
       "      <td>0.673148</td>\n",
       "      <td>0.639653</td>\n",
       "      <td>0.621768</td>\n",
       "      <td>0.662084</td>\n",
       "      <td>0.693292</td>\n",
       "    </tr>\n",
       "    <tr>\n",
       "      <td>5</td>\n",
       "      <td>Gaussian Naive Bayes</td>\n",
       "      <td>0.003520</td>\n",
       "      <td>0.013387</td>\n",
       "      <td>0.668095</td>\n",
       "      <td>0.636380</td>\n",
       "      <td>0.626367</td>\n",
       "      <td>0.661655</td>\n",
       "      <td>0.733928</td>\n",
       "    </tr>\n",
       "  </tbody>\n",
       "</table>\n",
       "</div>"
      ],
      "text/plain": [
       "                     Model   Fit_time  Score_time  Accuracy  Precision  \\\n",
       "2            Random Forest   0.097429    0.024919  0.803420   0.792079   \n",
       "6         GradientBoosting   1.356570    0.042642  0.803225   0.789514   \n",
       "3  Support Vector Machines  13.808195    0.145423  0.748780   0.732376   \n",
       "1            Decision Tree   0.013861    0.011194  0.723700   0.713111   \n",
       "0      Logistic Regression   0.442988    0.012191  0.722729   0.712425   \n",
       "4               KNeighbors   0.004592    0.158372  0.673148   0.639653   \n",
       "5     Gaussian Naive Bayes   0.003520    0.013387  0.668095   0.636380   \n",
       "\n",
       "     Recall  F1_score   ROC_AUC  \n",
       "2  0.773879  0.800234  0.871314  \n",
       "6  0.778363  0.801290  0.861798  \n",
       "3  0.705287  0.740728  0.799035  \n",
       "1  0.728299  0.728413  0.789952  \n",
       "0  0.727655  0.727475  0.799859  \n",
       "4  0.621768  0.662084  0.693292  \n",
       "5  0.626367  0.661655  0.733928  "
      ]
     },
     "execution_count": 178,
     "metadata": {},
     "output_type": "execute_result"
    }
   ],
   "source": [
    "\n",
    "# Create a table for comparing the evaluation results of the models.\n",
    "models_comparison_df = pd.DataFrame({\n",
    "    'Model':['Logistic Regression', 'Decision Tree','Random Forest', 'Support Vector Machines', 'KNeighbors', 'Gaussian Naive Bayes',\n",
    "             'GradientBoosting'],\n",
    "    'Fit_time':[lr_fit_time, dtc_fit_time, rfc_fit_time, svm_fit_time, knn_fit_time, gnb_fit_time, gbc_fit_time],\n",
    "    'Score_time':[lr_score_time, dtc_score_time, rfc_score_time, svm_score_time,knn_score_time,gnb_score_time,gbc_score_time,],\n",
    "    'Accuracy':[lr_accuracy,dtc_accuracy,rfc_accuracy,svm_accuracy,knn_accuracy,gnb_accuracy,gbc_accuracy],\n",
    "    'Precision':[lr_precision,dtc_precision,rfc_precision,svm_precision,knn_precision,gnb_precision,gbc_precision],\n",
    "    'Recall':[lr_recall,dtc_recall,rfc_recall,svm_recall,knn_recall,gnb_recall,gbc_recall],\n",
    "    'F1_score':[lr_f1,dtc_f1,rfc_f1,svm_f1,knn_f1,gnb_f1,gbc_f1],\n",
    "    'ROC_AUC':[lr_roc,dtc_roc,rfc_roc,svm_roc,knn_roc,gnb_roc,gbc_roc],\n",
    "}, columns=['Model','Fit_time', 'Score_time','Accuracy','Precision','Recall','F1_score','ROC_AUC'])\n",
    "\n",
    "models_comparison_df.sort_values(by='Accuracy', ascending=False)"
   ]
  },
  {
   "cell_type": "code",
   "execution_count": 179,
   "metadata": {},
   "outputs": [
    {
     "data": {
      "text/html": [
       "<style  type=\"text/css\" >\n",
       "    #T_529fe738_a9a3_11ea_84f3_8c85909ec1f0 tr:hover {\n",
       "          background-color: yellow;\n",
       "    }</style><table id=\"T_529fe738_a9a3_11ea_84f3_8c85909ec1f0\" ><thead>    <tr>        <th class=\"blank level0\" ></th>        <th class=\"col_heading level0 col0\" >Model</th>        <th class=\"col_heading level0 col1\" >Fit_time</th>        <th class=\"col_heading level0 col2\" >Score_time</th>        <th class=\"col_heading level0 col3\" >Accuracy</th>        <th class=\"col_heading level0 col4\" >Precision</th>        <th class=\"col_heading level0 col5\" >Recall</th>        <th class=\"col_heading level0 col6\" >F1_score</th>        <th class=\"col_heading level0 col7\" >ROC_AUC</th>    </tr></thead><tbody>\n",
       "                <tr>\n",
       "                        <th id=\"T_529fe738_a9a3_11ea_84f3_8c85909ec1f0level0_row0\" class=\"row_heading level0 row0\" >2</th>\n",
       "                        <td id=\"T_529fe738_a9a3_11ea_84f3_8c85909ec1f0row0_col0\" class=\"data row0 col0\" >Random Forest</td>\n",
       "                        <td id=\"T_529fe738_a9a3_11ea_84f3_8c85909ec1f0row0_col1\" class=\"data row0 col1\" >0.0974288</td>\n",
       "                        <td id=\"T_529fe738_a9a3_11ea_84f3_8c85909ec1f0row0_col2\" class=\"data row0 col2\" >0.0249187</td>\n",
       "                        <td id=\"T_529fe738_a9a3_11ea_84f3_8c85909ec1f0row0_col3\" class=\"data row0 col3\" >0.80342</td>\n",
       "                        <td id=\"T_529fe738_a9a3_11ea_84f3_8c85909ec1f0row0_col4\" class=\"data row0 col4\" >0.792079</td>\n",
       "                        <td id=\"T_529fe738_a9a3_11ea_84f3_8c85909ec1f0row0_col5\" class=\"data row0 col5\" >0.773879</td>\n",
       "                        <td id=\"T_529fe738_a9a3_11ea_84f3_8c85909ec1f0row0_col6\" class=\"data row0 col6\" >0.800234</td>\n",
       "                        <td id=\"T_529fe738_a9a3_11ea_84f3_8c85909ec1f0row0_col7\" class=\"data row0 col7\" >0.871314</td>\n",
       "            </tr>\n",
       "            <tr>\n",
       "                        <th id=\"T_529fe738_a9a3_11ea_84f3_8c85909ec1f0level0_row1\" class=\"row_heading level0 row1\" >6</th>\n",
       "                        <td id=\"T_529fe738_a9a3_11ea_84f3_8c85909ec1f0row1_col0\" class=\"data row1 col0\" >GradientBoosting</td>\n",
       "                        <td id=\"T_529fe738_a9a3_11ea_84f3_8c85909ec1f0row1_col1\" class=\"data row1 col1\" >1.35657</td>\n",
       "                        <td id=\"T_529fe738_a9a3_11ea_84f3_8c85909ec1f0row1_col2\" class=\"data row1 col2\" >0.0426422</td>\n",
       "                        <td id=\"T_529fe738_a9a3_11ea_84f3_8c85909ec1f0row1_col3\" class=\"data row1 col3\" >0.803225</td>\n",
       "                        <td id=\"T_529fe738_a9a3_11ea_84f3_8c85909ec1f0row1_col4\" class=\"data row1 col4\" >0.789514</td>\n",
       "                        <td id=\"T_529fe738_a9a3_11ea_84f3_8c85909ec1f0row1_col5\" class=\"data row1 col5\" >0.778363</td>\n",
       "                        <td id=\"T_529fe738_a9a3_11ea_84f3_8c85909ec1f0row1_col6\" class=\"data row1 col6\" >0.80129</td>\n",
       "                        <td id=\"T_529fe738_a9a3_11ea_84f3_8c85909ec1f0row1_col7\" class=\"data row1 col7\" >0.861798</td>\n",
       "            </tr>\n",
       "            <tr>\n",
       "                        <th id=\"T_529fe738_a9a3_11ea_84f3_8c85909ec1f0level0_row2\" class=\"row_heading level0 row2\" >3</th>\n",
       "                        <td id=\"T_529fe738_a9a3_11ea_84f3_8c85909ec1f0row2_col0\" class=\"data row2 col0\" >Support Vector Machines</td>\n",
       "                        <td id=\"T_529fe738_a9a3_11ea_84f3_8c85909ec1f0row2_col1\" class=\"data row2 col1\" >13.8082</td>\n",
       "                        <td id=\"T_529fe738_a9a3_11ea_84f3_8c85909ec1f0row2_col2\" class=\"data row2 col2\" >0.145423</td>\n",
       "                        <td id=\"T_529fe738_a9a3_11ea_84f3_8c85909ec1f0row2_col3\" class=\"data row2 col3\" >0.74878</td>\n",
       "                        <td id=\"T_529fe738_a9a3_11ea_84f3_8c85909ec1f0row2_col4\" class=\"data row2 col4\" >0.732376</td>\n",
       "                        <td id=\"T_529fe738_a9a3_11ea_84f3_8c85909ec1f0row2_col5\" class=\"data row2 col5\" >0.705287</td>\n",
       "                        <td id=\"T_529fe738_a9a3_11ea_84f3_8c85909ec1f0row2_col6\" class=\"data row2 col6\" >0.740728</td>\n",
       "                        <td id=\"T_529fe738_a9a3_11ea_84f3_8c85909ec1f0row2_col7\" class=\"data row2 col7\" >0.799035</td>\n",
       "            </tr>\n",
       "            <tr>\n",
       "                        <th id=\"T_529fe738_a9a3_11ea_84f3_8c85909ec1f0level0_row3\" class=\"row_heading level0 row3\" >1</th>\n",
       "                        <td id=\"T_529fe738_a9a3_11ea_84f3_8c85909ec1f0row3_col0\" class=\"data row3 col0\" >Decision Tree</td>\n",
       "                        <td id=\"T_529fe738_a9a3_11ea_84f3_8c85909ec1f0row3_col1\" class=\"data row3 col1\" >0.013861</td>\n",
       "                        <td id=\"T_529fe738_a9a3_11ea_84f3_8c85909ec1f0row3_col2\" class=\"data row3 col2\" >0.0111936</td>\n",
       "                        <td id=\"T_529fe738_a9a3_11ea_84f3_8c85909ec1f0row3_col3\" class=\"data row3 col3\" >0.7237</td>\n",
       "                        <td id=\"T_529fe738_a9a3_11ea_84f3_8c85909ec1f0row3_col4\" class=\"data row3 col4\" >0.713111</td>\n",
       "                        <td id=\"T_529fe738_a9a3_11ea_84f3_8c85909ec1f0row3_col5\" class=\"data row3 col5\" >0.728299</td>\n",
       "                        <td id=\"T_529fe738_a9a3_11ea_84f3_8c85909ec1f0row3_col6\" class=\"data row3 col6\" >0.728413</td>\n",
       "                        <td id=\"T_529fe738_a9a3_11ea_84f3_8c85909ec1f0row3_col7\" class=\"data row3 col7\" >0.789952</td>\n",
       "            </tr>\n",
       "            <tr>\n",
       "                        <th id=\"T_529fe738_a9a3_11ea_84f3_8c85909ec1f0level0_row4\" class=\"row_heading level0 row4\" >0</th>\n",
       "                        <td id=\"T_529fe738_a9a3_11ea_84f3_8c85909ec1f0row4_col0\" class=\"data row4 col0\" >Logistic Regression</td>\n",
       "                        <td id=\"T_529fe738_a9a3_11ea_84f3_8c85909ec1f0row4_col1\" class=\"data row4 col1\" >0.442988</td>\n",
       "                        <td id=\"T_529fe738_a9a3_11ea_84f3_8c85909ec1f0row4_col2\" class=\"data row4 col2\" >0.0121912</td>\n",
       "                        <td id=\"T_529fe738_a9a3_11ea_84f3_8c85909ec1f0row4_col3\" class=\"data row4 col3\" >0.722729</td>\n",
       "                        <td id=\"T_529fe738_a9a3_11ea_84f3_8c85909ec1f0row4_col4\" class=\"data row4 col4\" >0.712425</td>\n",
       "                        <td id=\"T_529fe738_a9a3_11ea_84f3_8c85909ec1f0row4_col5\" class=\"data row4 col5\" >0.727655</td>\n",
       "                        <td id=\"T_529fe738_a9a3_11ea_84f3_8c85909ec1f0row4_col6\" class=\"data row4 col6\" >0.727475</td>\n",
       "                        <td id=\"T_529fe738_a9a3_11ea_84f3_8c85909ec1f0row4_col7\" class=\"data row4 col7\" >0.799859</td>\n",
       "            </tr>\n",
       "            <tr>\n",
       "                        <th id=\"T_529fe738_a9a3_11ea_84f3_8c85909ec1f0level0_row5\" class=\"row_heading level0 row5\" >4</th>\n",
       "                        <td id=\"T_529fe738_a9a3_11ea_84f3_8c85909ec1f0row5_col0\" class=\"data row5 col0\" >KNeighbors</td>\n",
       "                        <td id=\"T_529fe738_a9a3_11ea_84f3_8c85909ec1f0row5_col1\" class=\"data row5 col1\" >0.00459199</td>\n",
       "                        <td id=\"T_529fe738_a9a3_11ea_84f3_8c85909ec1f0row5_col2\" class=\"data row5 col2\" >0.158372</td>\n",
       "                        <td id=\"T_529fe738_a9a3_11ea_84f3_8c85909ec1f0row5_col3\" class=\"data row5 col3\" >0.673148</td>\n",
       "                        <td id=\"T_529fe738_a9a3_11ea_84f3_8c85909ec1f0row5_col4\" class=\"data row5 col4\" >0.639653</td>\n",
       "                        <td id=\"T_529fe738_a9a3_11ea_84f3_8c85909ec1f0row5_col5\" class=\"data row5 col5\" >0.621768</td>\n",
       "                        <td id=\"T_529fe738_a9a3_11ea_84f3_8c85909ec1f0row5_col6\" class=\"data row5 col6\" >0.662084</td>\n",
       "                        <td id=\"T_529fe738_a9a3_11ea_84f3_8c85909ec1f0row5_col7\" class=\"data row5 col7\" >0.693292</td>\n",
       "            </tr>\n",
       "            <tr>\n",
       "                        <th id=\"T_529fe738_a9a3_11ea_84f3_8c85909ec1f0level0_row6\" class=\"row_heading level0 row6\" >5</th>\n",
       "                        <td id=\"T_529fe738_a9a3_11ea_84f3_8c85909ec1f0row6_col0\" class=\"data row6 col0\" >Gaussian Naive Bayes</td>\n",
       "                        <td id=\"T_529fe738_a9a3_11ea_84f3_8c85909ec1f0row6_col1\" class=\"data row6 col1\" >0.00352044</td>\n",
       "                        <td id=\"T_529fe738_a9a3_11ea_84f3_8c85909ec1f0row6_col2\" class=\"data row6 col2\" >0.0133867</td>\n",
       "                        <td id=\"T_529fe738_a9a3_11ea_84f3_8c85909ec1f0row6_col3\" class=\"data row6 col3\" >0.668095</td>\n",
       "                        <td id=\"T_529fe738_a9a3_11ea_84f3_8c85909ec1f0row6_col4\" class=\"data row6 col4\" >0.63638</td>\n",
       "                        <td id=\"T_529fe738_a9a3_11ea_84f3_8c85909ec1f0row6_col5\" class=\"data row6 col5\" >0.626367</td>\n",
       "                        <td id=\"T_529fe738_a9a3_11ea_84f3_8c85909ec1f0row6_col6\" class=\"data row6 col6\" >0.661655</td>\n",
       "                        <td id=\"T_529fe738_a9a3_11ea_84f3_8c85909ec1f0row6_col7\" class=\"data row6 col7\" >0.733928</td>\n",
       "            </tr>\n",
       "    </tbody></table>"
      ],
      "text/plain": [
       "<pandas.io.formats.style.Styler at 0x1a230e97d0>"
      ]
     },
     "execution_count": 179,
     "metadata": {},
     "output_type": "execute_result"
    }
   ],
   "source": [
    "models_comparison_df.sort_values(by='Accuracy', ascending=False).style.set_table_styles(\n",
    "[{'selector': 'tr:hover',\n",
    "  'props': [('background-color', 'yellow')]}]\n",
    ")"
   ]
  },
  {
   "cell_type": "markdown",
   "metadata": {},
   "source": [
    "From the models comparison table, it can be concluded that the Random Forest model provide the highest accuracy for this wine quality datas set. It has the highest accuracy of about 80.8% and the ROC value is also very good (0.873). Gradient Boosting model through tuning the parameter, it also has high accuracy but it needs more running time compared with the Random Forest. In addition, Support Vector Machines need the longest running time among these 7 models.\n",
    "\n"
   ]
  },
  {
   "cell_type": "markdown",
   "metadata": {},
   "source": [
    "## Feature importance for the Random Forest Model¶\n"
   ]
  },
  {
   "cell_type": "code",
   "execution_count": 180,
   "metadata": {},
   "outputs": [
    {
     "data": {
      "text/plain": [
       "array([0.00570787, 0.06178694, 0.11342115, 0.07355955, 0.07626885,\n",
       "       0.0812294 , 0.08302857, 0.08002519, 0.09796173, 0.07114206,\n",
       "       0.07231698, 0.1835517 ])"
      ]
     },
     "execution_count": 180,
     "metadata": {},
     "output_type": "execute_result"
    }
   ],
   "source": [
    "# Create feature importance for the Random Forest Model.\n",
    "rfc.feature_importances_"
   ]
  },
  {
   "cell_type": "code",
   "execution_count": 181,
   "metadata": {},
   "outputs": [
    {
     "data": {
      "image/png": "[encoded data removed]",
      "text/plain": [
       "<Figure size 432x288 with 1 Axes>"
      ]
     },
     "metadata": {},
     "output_type": "display_data"
    }
   ],
   "source": [
    "feature_importance = rfc.feature_importances_\n",
    "\n",
    "# Make importances relative to max importance.\n",
    "feature_importance = 100.0 * (feature_importance / feature_importance.max())\n",
    "sorted_idx = np.argsort(feature_importance)\n",
    "pos = np.arange(sorted_idx.shape[0]) + .5\n",
    "\n",
    "sns.set_style('white')\n",
    "plt.barh(pos, feature_importance[sorted_idx], align='center')\n",
    "plt.yticks(pos, X.columns[sorted_idx])\n",
    "plt.xlabel('Relative Importance')\n",
    "plt.title('Feature Importance')\n",
    "plt.show()"
   ]
  },
  {
   "cell_type": "markdown",
   "metadata": {},
   "source": [
    "It appears that alcohol, volatile acidity and density are the most important features in predicting wine quality. This is reasonable. Wines are alcoholic beverage. Density indicates the conversion of sugar to alcohol. Acidity and density (sugar) can influence the taste of the wine. Hence these features shows more important than others."
   ]
  },
  {
   "cell_type": "markdown",
   "metadata": {},
   "source": [
    "# Conclusions"
   ]
  },
  {
   "cell_type": "markdown",
   "metadata": {},
   "source": [
    " 1. From the models comparison, it can be observed that the Random Forest is the best model for predicting the wine quality.\n",
    " 2. The random forest model has about overall 82% accuracy for prediction. \n",
    " 3. The Gradient Boosting model is also a good model but has slow running speed compared to the Random Forest model.\n",
    " 4. Compared with other 6 models, support vector machines have the longest running time.\n",
    " 5. The three features of alcohol, volatile acidity and density seems the most important features in predicting wine quality.\n",
    " 6. The model built in this project is based on wine physicochemical properties and very good for predicting the wine quality. If physicochemical properties of wines are provided, the wine producer could gain insight and information about their wine quality through the model.\n",
    " 7. The data set gives the red and white wine info, but no any data about grape types, wine brand, location, temperature, etc. This limits the model in real world practical applications."
   ]
  },
  {
   "cell_type": "code",
   "execution_count": null,
   "metadata": {},
   "outputs": [],
   "source": []
  }
 ],
 "metadata": {
  "kernelspec": {
   "display_name": "Python 3",
   "language": "python",
   "name": "python3"
  },
  "language_info": {
   "codemirror_mode": {
    "name": "ipython",
    "version": 3
   },
   "file_extension": ".py",
   "mimetype": "text/x-python",
   "name": "python",
   "nbconvert_exporter": "python",
   "pygments_lexer": "ipython3",
   "version": "3.7.4"
  }
 },
 "nbformat": 4,
 "nbformat_minor": 2
}
