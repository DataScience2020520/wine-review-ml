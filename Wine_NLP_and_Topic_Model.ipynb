{
 "cells": [
  {
   "cell_type": "markdown",
   "metadata": {},
   "source": [
    "## Introduction\n",
    "In my previous capstone project-Wine Quality Prediction, I have built models for evaluating the wine quality using supervised machine learning technique. Through my models, I have drawn conclusions that the random forest model is the best for predicting wine quality. Also, I have given the top three most important features of alcohol, volatile acidity and density (sugar content). The data set I used for this project was gathered based on the wine physicochemical tests and no any data about grape types, wine brand, wine selling price, wine review and description, country and so on.\n",
    "\n",
    "In this final project, I have gathered wine data about alcohol content, wine selling price, wine brand, grape types, country, taster review and so on. Combined with my previous project, I plan to explore how those factors such as grape types and taster review affect wine quality and wine price. The data set has been scraped from Wine Enthusiast. They provide wine description, rating points, wine price, alcohol content, variety, appellation/country, winery, designation, category and so on.\n",
    "\n",
    "## Objectives\n",
    "The objectives of the project are to explore:\n",
    "\n",
    "  1. The relationship between wine rating points and wine price;\n",
    "  2. The distribution for wine price with alcohol, wine variety(grape types), country, etc.;\n",
    "  3. Wine rating points prediction using wine description text data and NLP supervised technique;\n",
    "  4. Topic extraction for wine review using NLP unsupervised technique.\n",
    "\n",
    "## Methodologies\n",
    "  1. Data collection using Python Scrapy;\n",
    "  2. Visualization using matplotlib, seaborn, plotly, word cloud, pyLDAvis, etc.;\n",
    "  3. Supervised learning: linear regression, random forest algorithm, gradient boost, support vector machines, etc.;\n",
    "  4. Unsupervised learning: clustering\n",
    "  5. Natural language Processing: BOW, TfidfVect, LSA, LDA, NNMF etc.\n",
    "\n",
    "The biggest challenge for the project attempts to web scrape data and data preprocess such as data cleaning.\n",
    "\n",
    "## Data Gathering\n",
    "\n",
    "The data gathered for this project was scraped from the website of Wine Enthusiast. The scraper tool used here is Python Scrapy library. The codes were written in Vs Code and scrapy was run in the command line instead of jupyter notebook. Scrapy Xpath expression was used here: The Xpath expression treats nested code like computer file paths, with each level referred to as a 'node'. Also, the CSV file format was used for storing the collected data. Note here, the wine enthusiast website shows the review pages up to 14145. But there are actually less than that many pages and more duplicate outputs. So the pages for this project data set stopped at page 2000. The data set obtained contains 13 columns and 37235 rows of wine reviews.\n",
    "\n",
    "The more details about the Scrapy codes, website URL and csv files and so on can be seen in anther folder which has been uploaded on my Github account.\n",
    "\n",
    "## Import Library"
   ]
  },
  {
   "cell_type": "code",
   "execution_count": 1,
   "metadata": {},
   "outputs": [
    {
     "name": "stderr",
     "output_type": "stream",
     "text": [
      "/Users/p0z00cx/anaconda3/lib/python3.7/site-packages/past/types/oldstr.py:5: DeprecationWarning: Using or importing the ABCs from 'collections' instead of from 'collections.abc' is deprecated, and in 3.8 it will stop working\n",
      "  from collections import Iterable\n",
      "/Users/p0z00cx/anaconda3/lib/python3.7/site-packages/past/builtins/misc.py:4: DeprecationWarning: Using or importing the ABCs from 'collections' instead of from 'collections.abc' is deprecated, and in 3.8 it will stop working\n",
      "  from collections import Mapping\n"
     ]
    }
   ],
   "source": [
    "\n",
    "import pandas as pd\n",
    "import numpy as np\n",
    "import scipy\n",
    "from sklearn import linear_model\n",
    "from sklearn.linear_model import LinearRegression\n",
    "from sklearn.linear_model import RidgeCV, LassoCV, ElasticNetCV\n",
    "from sklearn import ensemble\n",
    "from sklearn.ensemble import RandomForestRegressor,GradientBoostingRegressor\n",
    "from sklearn.svm import SVR\n",
    "from sklearn.model_selection import train_test_split\n",
    "from sklearn.metrics import mean_absolute_error\n",
    "from statsmodels.tools.eval_measures import mse, rmse\n",
    "from sklearn.model_selection import cross_val_score\n",
    "from sklearn.metrics import classification_report, confusion_matrix\n",
    "from sklearn.feature_extraction.text import TfidfVectorizer\n",
    "from sklearn.feature_extraction.text import CountVectorizer\n",
    "from wordcloud import WordCloud,STOPWORDS\n",
    "from sklearn.decomposition import TruncatedSVD\n",
    "from sklearn.pipeline import make_pipeline\n",
    "from sklearn.preprocessing import Normalizer\n",
    "from sklearn.decomposition import LatentDirichletAllocation as LDA\n",
    "from sklearn.decomposition import NMF\n",
    "import pyLDAvis\n",
    "import pyLDAvis.sklearn\n",
    "import plotly\n",
    "from plotly.offline import plot\n",
    "import plotly.graph_objects as go\n",
    "import plotly.express as px\n",
    "from plotly.offline import init_notebook_mode, iplot\n",
    "import plotly.graph_objs as go\n",
    "import plotly.io as pio\n",
    "import time\n",
    "import warnings\n",
    "warnings.filterwarnings('ignore')\n",
    "import squarify\n",
    "import seaborn as sns\n",
    "import matplotlib.pyplot as plt\n",
    "import re\n",
    "from nltk.corpus import stopwords\n",
    "from collections import Counter\n",
    "import nltk\n",
    "\n",
    "sns.set()"
   ]
  },
  {
   "cell_type": "markdown",
   "metadata": {},
   "source": [
    "## Load Dataset"
   ]
  },
  {
   "cell_type": "code",
   "execution_count": 2,
   "metadata": {},
   "outputs": [
    {
     "data": {
      "text/html": [
       "<div>\n",
       "<style scoped>\n",
       "    .dataframe tbody tr th:only-of-type {\n",
       "        vertical-align: middle;\n",
       "    }\n",
       "\n",
       "    .dataframe tbody tr th {\n",
       "        vertical-align: top;\n",
       "    }\n",
       "\n",
       "    .dataframe thead th {\n",
       "        text-align: right;\n",
       "    }\n",
       "</style>\n",
       "<table border=\"1\" class=\"dataframe\">\n",
       "  <thead>\n",
       "    <tr style=\"text-align: right;\">\n",
       "      <th></th>\n",
       "      <th>title</th>\n",
       "      <th>rating_points</th>\n",
       "      <th>description</th>\n",
       "      <th>taster_name</th>\n",
       "      <th>price</th>\n",
       "      <th>designation</th>\n",
       "      <th>variety</th>\n",
       "      <th>appellation</th>\n",
       "      <th>country</th>\n",
       "      <th>winery</th>\n",
       "      <th>alcohol</th>\n",
       "      <th>bottle_size</th>\n",
       "      <th>category</th>\n",
       "    </tr>\n",
       "  </thead>\n",
       "  <tbody>\n",
       "    <tr>\n",
       "      <td>0</td>\n",
       "      <td>Au Pied du Mont Chauve 2017 La Maltroie Premie...</td>\n",
       "      <td>92</td>\n",
       "      <td>A shy nose on this wine reveals hints of Mirab...</td>\n",
       "      <td>Anne Krebiehl MW</td>\n",
       "      <td>$80,</td>\n",
       "      <td>La Maltroie Premier Cru</td>\n",
       "      <td>Chardonnay</td>\n",
       "      <td>Chassagne-Montrachet</td>\n",
       "      <td>France</td>\n",
       "      <td>Au Pied du Mont Chauve</td>\n",
       "      <td>13%</td>\n",
       "      <td>750 ml</td>\n",
       "      <td>White</td>\n",
       "    </tr>\n",
       "    <tr>\n",
       "      <td>1</td>\n",
       "      <td>Au Pied du Mont Chauve 2017 Les Caillerets Pre...</td>\n",
       "      <td>92</td>\n",
       "      <td>A mere whiff of creamy lemon appears on the sh...</td>\n",
       "      <td>Anne Krebiehl MW</td>\n",
       "      <td>$90,</td>\n",
       "      <td>Les Caillerets Premier Cru</td>\n",
       "      <td>Chardonnay</td>\n",
       "      <td>Chassagne-Montrachet</td>\n",
       "      <td>France</td>\n",
       "      <td>Au Pied du Mont Chauve</td>\n",
       "      <td>13.5%</td>\n",
       "      <td>750 ml</td>\n",
       "      <td>White</td>\n",
       "    </tr>\n",
       "    <tr>\n",
       "      <td>2</td>\n",
       "      <td>Château de Laborde 2017 Cuvée K  (Hautes Côtes...</td>\n",
       "      <td>91</td>\n",
       "      <td>Hints of butter and toast on the nose become m...</td>\n",
       "      <td>Anne Krebiehl MW</td>\n",
       "      <td>$30,</td>\n",
       "      <td>Cuvée K</td>\n",
       "      <td>Chardonnay</td>\n",
       "      <td>Hautes Côtes de Nuits</td>\n",
       "      <td>France</td>\n",
       "      <td>Château de Laborde</td>\n",
       "      <td>13%</td>\n",
       "      <td>750 ml</td>\n",
       "      <td>White</td>\n",
       "    </tr>\n",
       "  </tbody>\n",
       "</table>\n",
       "</div>"
      ],
      "text/plain": [
       "                                               title  rating_points  \\\n",
       "0  Au Pied du Mont Chauve 2017 La Maltroie Premie...             92   \n",
       "1  Au Pied du Mont Chauve 2017 Les Caillerets Pre...             92   \n",
       "2  Château de Laborde 2017 Cuvée K  (Hautes Côtes...             91   \n",
       "\n",
       "                                         description       taster_name  \\\n",
       "0  A shy nose on this wine reveals hints of Mirab...  Anne Krebiehl MW   \n",
       "1  A mere whiff of creamy lemon appears on the sh...  Anne Krebiehl MW   \n",
       "2  Hints of butter and toast on the nose become m...  Anne Krebiehl MW   \n",
       "\n",
       "    price                 designation     variety            appellation  \\\n",
       "0  $80,       La Maltroie Premier Cru  Chardonnay   Chassagne-Montrachet   \n",
       "1  $90,    Les Caillerets Premier Cru  Chardonnay   Chassagne-Montrachet   \n",
       "2  $30,                       Cuvée K  Chardonnay  Hautes Côtes de Nuits   \n",
       "\n",
       "  country                  winery alcohol bottle_size category  \n",
       "0  France  Au Pied du Mont Chauve     13%      750 ml    White  \n",
       "1  France  Au Pied du Mont Chauve   13.5%      750 ml    White  \n",
       "2  France      Château de Laborde     13%      750 ml    White  "
      ]
     },
     "execution_count": 2,
     "metadata": {},
     "output_type": "execute_result"
    }
   ],
   "source": [
    "wine_orig0_df = pd.read_csv('winereview0.csv')\n",
    "wine_orig1_df = pd.read_csv('winereview1.csv')\n",
    "wine_orig2_df = pd.read_csv('winereview2.csv')\n",
    "wine_orig3_df = pd.read_csv('winereview3.csv')\n",
    "wine_orig_df = pd.concat([wine_orig0_df, wine_orig1_df,wine_orig2_df, wine_orig3_df], axis=0)\n",
    "wine_orig_df.index = range(len(wine_orig_df.index))\n",
    "wine_orig_df.head(3)"
   ]
  },
  {
   "cell_type": "code",
   "execution_count": 3,
   "metadata": {},
   "outputs": [
    {
     "data": {
      "text/plain": [
       "(38571, 13)"
      ]
     },
     "execution_count": 3,
     "metadata": {},
     "output_type": "execute_result"
    }
   ],
   "source": [
    "wine_orig_df.shape"
   ]
  },
  {
   "cell_type": "markdown",
   "metadata": {},
   "source": [
    "## Clean Data (excluding Text)"
   ]
  },
  {
   "cell_type": "code",
   "execution_count": 4,
   "metadata": {},
   "outputs": [
    {
     "name": "stdout",
     "output_type": "stream",
     "text": [
      "unique = 31773\n",
      "duplicates = 6798\n"
     ]
    }
   ],
   "source": [
    "# Check the dataset has duplicates or not.\n",
    "# Check \"title\" column. \n",
    "print('unique =',wine_orig_df['title'].nunique())\n",
    "print('duplicates =',wine_orig_df['title'].duplicated().sum())"
   ]
  },
  {
   "cell_type": "markdown",
   "metadata": {},
   "source": [
    "The original dataset has 31773 rows and 13 columns, and it also does contain dupicates. Next remove the duplicats from the dataset.\n",
    "\n",
    "## Remove the duplicates of data set"
   ]
  },
  {
   "cell_type": "code",
   "execution_count": 5,
   "metadata": {},
   "outputs": [
    {
     "data": {
      "text/plain": [
       "(31773, 13)"
      ]
     },
     "execution_count": 5,
     "metadata": {},
     "output_type": "execute_result"
    }
   ],
   "source": [
    "# Drop duplicates and rename data set.\n",
    "wine_raw_df = wine_orig_df.drop_duplicates(subset=['title'])\n",
    "\n",
    "# check data set info\n",
    "wine_raw_df.shape"
   ]
  },
  {
   "cell_type": "markdown",
   "metadata": {},
   "source": [
    "After removed the duplicates from the title column, the data set has 31773 rows. But it is still necessary to check if there are more duplicates in other columns."
   ]
  },
  {
   "cell_type": "code",
   "execution_count": 6,
   "metadata": {},
   "outputs": [
    {
     "name": "stdout",
     "output_type": "stream",
     "text": [
      "duplicates = 9\n"
     ]
    },
    {
     "data": {
      "text/plain": [
       "(31764, 13)"
      ]
     },
     "execution_count": 6,
     "metadata": {},
     "output_type": "execute_result"
    }
   ],
   "source": [
    "# Check \"description\" column duplicates.\n",
    "print('duplicates =',wine_raw_df['description'].duplicated().sum())\n",
    "\n",
    "# Drop duplicates and rename data set.\n",
    "wine_raw_df = wine_raw_df.drop_duplicates(subset=['description'])\n",
    "\n",
    "# check data set info again.\n",
    "wine_raw_df.shape"
   ]
  },
  {
   "cell_type": "markdown",
   "metadata": {},
   "source": [
    "Now we have the data set with 31764 rows without duplicates"
   ]
  },
  {
   "cell_type": "code",
   "execution_count": 7,
   "metadata": {},
   "outputs": [
    {
     "name": "stdout",
     "output_type": "stream",
     "text": [
      "<class 'pandas.core.frame.DataFrame'>\n",
      "Int64Index: 31764 entries, 0 to 38568\n",
      "Data columns (total 13 columns):\n",
      "title            31764 non-null object\n",
      "rating_points    31764 non-null int64\n",
      "description      31764 non-null object\n",
      "taster_name      31548 non-null object\n",
      "price            31764 non-null object\n",
      "designation      24418 non-null object\n",
      "variety          31764 non-null object\n",
      "appellation      31764 non-null object\n",
      "country          31764 non-null object\n",
      "winery           31764 non-null object\n",
      "alcohol          31360 non-null object\n",
      "bottle_size      31764 non-null object\n",
      "category         31764 non-null object\n",
      "dtypes: int64(1), object(12)\n",
      "memory usage: 3.4+ MB\n"
     ]
    }
   ],
   "source": [
    "wine_raw_df.info()"
   ]
  },
  {
   "cell_type": "code",
   "execution_count": 8,
   "metadata": {},
   "outputs": [
    {
     "data": {
      "text/plain": [
       "title               0\n",
       "rating_points       0\n",
       "description         0\n",
       "taster_name       216\n",
       "price               0\n",
       "designation      7346\n",
       "variety             0\n",
       "appellation         0\n",
       "country             0\n",
       "winery              0\n",
       "alcohol           404\n",
       "bottle_size         0\n",
       "category            0\n",
       "dtype: int64"
      ]
     },
     "execution_count": 8,
     "metadata": {},
     "output_type": "execute_result"
    }
   ],
   "source": [
    "wine_raw_df.isnull().sum()"
   ]
  },
  {
   "cell_type": "code",
   "execution_count": 9,
   "metadata": {},
   "outputs": [],
   "source": [
    "wine_preclean_df = wine_raw_df.copy()"
   ]
  },
  {
   "cell_type": "code",
   "execution_count": 10,
   "metadata": {},
   "outputs": [
    {
     "data": {
      "text/plain": [
       "0    80.0\n",
       "1    90.0\n",
       "2    30.0\n",
       "3    60.0\n",
       "4     9.0\n",
       "Name: price, dtype: float64"
      ]
     },
     "execution_count": 10,
     "metadata": {},
     "output_type": "execute_result"
    }
   ],
   "source": [
    "# Clean price type from object to float.\n",
    "wine_preclean_df['price'] = wine_preclean_df['price'].str.replace(u'\\xa0', u'')\n",
    "wine_preclean_df['price'] = wine_preclean_df['price'].str.replace('$','')\n",
    "wine_preclean_df['price'] = wine_preclean_df['price'].str.replace(',','')\n",
    "wine_preclean_df['price'] = wine_preclean_df['price'].str.replace('N/A','NaN')\n",
    "wine_preclean_df['price'] = wine_preclean_df['price'].astype(float)\n",
    "wine_preclean_df['price'].head()"
   ]
  },
  {
   "cell_type": "code",
   "execution_count": 11,
   "metadata": {},
   "outputs": [
    {
     "data": {
      "text/plain": [
       "0    13.0\n",
       "1    13.5\n",
       "2    13.0\n",
       "3    13.5\n",
       "4    13.0\n",
       "Name: alcohol, dtype: float64"
      ]
     },
     "execution_count": 11,
     "metadata": {},
     "output_type": "execute_result"
    }
   ],
   "source": [
    "# Clean alcohol column.\n",
    "wine_preclean_df['alcohol'] = wine_preclean_df.alcohol.str.replace('%', '').astype(float)\n",
    "wine_preclean_df['alcohol'].head()"
   ]
  },
  {
   "cell_type": "markdown",
   "metadata": {},
   "source": [
    "## Clean missing value and outliers"
   ]
  },
  {
   "cell_type": "code",
   "execution_count": 12,
   "metadata": {},
   "outputs": [
    {
     "data": {
      "text/plain": [
       "title               0\n",
       "rating_points       0\n",
       "description         0\n",
       "taster_name       216\n",
       "price            1548\n",
       "designation      7346\n",
       "variety             0\n",
       "appellation         0\n",
       "country             0\n",
       "winery              0\n",
       "alcohol           404\n",
       "bottle_size         0\n",
       "category            0\n",
       "dtype: int64"
      ]
     },
     "execution_count": 12,
     "metadata": {},
     "output_type": "execute_result"
    }
   ],
   "source": [
    "# Check missing values.\n",
    "wine_preclean_df.isnull().sum()"
   ]
  },
  {
   "cell_type": "code",
   "execution_count": 13,
   "metadata": {},
   "outputs": [
    {
     "data": {
      "text/plain": [
       "title               0\n",
       "rating_points       0\n",
       "description         0\n",
       "taster_name       195\n",
       "price               0\n",
       "designation      6861\n",
       "variety             0\n",
       "appellation         0\n",
       "country             0\n",
       "winery              0\n",
       "alcohol             0\n",
       "bottle_size         0\n",
       "category            0\n",
       "dtype: int64"
      ]
     },
     "execution_count": 13,
     "metadata": {},
     "output_type": "execute_result"
    }
   ],
   "source": [
    "# Drop price and alcohol missing value.\n",
    "wine_preclean_df = wine_preclean_df.dropna(subset=['price','alcohol'])\n",
    "wine_preclean_df.isnull().sum()"
   ]
  },
  {
   "cell_type": "code",
   "execution_count": 14,
   "metadata": {},
   "outputs": [
    {
     "data": {
      "text/plain": [
       "<matplotlib.axes._subplots.AxesSubplot at 0x7fbdfa13a950>"
      ]
     },
     "execution_count": 14,
     "metadata": {},
     "output_type": "execute_result"
    },
    {
     "data": {
      "image/png": "[encoded data removed]",
      "text/plain": [
       "<Figure size 432x288 with 1 Axes>"
      ]
     },
     "metadata": {
      "needs_background": "light"
     },
     "output_type": "display_data"
    }
   ],
   "source": [
    "sns.distplot(wine_preclean_df['price'])"
   ]
  },
  {
   "cell_type": "code",
   "execution_count": 15,
   "metadata": {},
   "outputs": [
    {
     "data": {
      "text/plain": [
       "<matplotlib.axes._subplots.AxesSubplot at 0x7fbdff244890>"
      ]
     },
     "execution_count": 15,
     "metadata": {},
     "output_type": "execute_result"
    },
    {
     "data": {
      "image/png": "[encoded data removed]",
      "text/plain": [
       "<Figure size 432x288 with 1 Axes>"
      ]
     },
     "metadata": {
      "needs_background": "light"
     },
     "output_type": "display_data"
    }
   ],
   "source": [
    "# Remove the outliers for wine price\n",
    "q = wine_preclean_df['price'].quantile(0.99)\n",
    "wine_preclean_df1 = wine_preclean_df[wine_preclean_df['price'] <q]\n",
    "sns.distplot(wine_preclean_df1['price'])"
   ]
  },
  {
   "cell_type": "code",
   "execution_count": 16,
   "metadata": {},
   "outputs": [
    {
     "data": {
      "text/plain": [
       "(29511, 13)"
      ]
     },
     "execution_count": 16,
     "metadata": {},
     "output_type": "execute_result"
    }
   ],
   "source": [
    "wine_preclean_df1.shape"
   ]
  },
  {
   "cell_type": "code",
   "execution_count": 17,
   "metadata": {},
   "outputs": [
    {
     "data": {
      "text/plain": [
       "7.092935398564412"
      ]
     },
     "execution_count": 17,
     "metadata": {},
     "output_type": "execute_result"
    }
   ],
   "source": [
    "# Calculate the percentage for removing data\n",
    "removedata_percentage = (wine_raw_df.shape[0]-wine_preclean_df1.shape[0])/wine_raw_df.shape[0]*100\n",
    "removedata_percentage"
   ]
  },
  {
   "cell_type": "code",
   "execution_count": 18,
   "metadata": {},
   "outputs": [
    {
     "data": {
      "text/plain": [
       "count    29511.000000\n",
       "mean        14.317029\n",
       "std         49.745704\n",
       "min          2.500000\n",
       "25%         13.000000\n",
       "50%         13.500000\n",
       "75%         14.300000\n",
       "max       5480.000000\n",
       "Name: alcohol, dtype: float64"
      ]
     },
     "execution_count": 18,
     "metadata": {},
     "output_type": "execute_result"
    }
   ],
   "source": [
    "# Check the wine alcohol outliers\n",
    "wine_preclean_df1['alcohol'].describe()"
   ]
  },
  {
   "cell_type": "code",
   "execution_count": 19,
   "metadata": {},
   "outputs": [
    {
     "data": {
      "text/plain": [
       "<matplotlib.axes._subplots.AxesSubplot at 0x7fbe010d5d90>"
      ]
     },
     "execution_count": 19,
     "metadata": {},
     "output_type": "execute_result"
    },
    {
     "data": {
      "image/png": "[encoded data removed]",
      "text/plain": [
       "<Figure size 432x288 with 1 Axes>"
      ]
     },
     "metadata": {
      "needs_background": "light"
     },
     "output_type": "display_data"
    }
   ],
   "source": [
    "sns.distplot(wine_preclean_df1['alcohol'])"
   ]
  },
  {
   "cell_type": "code",
   "execution_count": 20,
   "metadata": {},
   "outputs": [
    {
     "data": {
      "text/plain": [
       "count    29511.000000\n",
       "mean        14.317029\n",
       "std         49.745704\n",
       "min          2.500000\n",
       "25%         13.000000\n",
       "50%         13.500000\n",
       "75%         14.300000\n",
       "max       5480.000000\n",
       "Name: alcohol, dtype: float64"
      ]
     },
     "execution_count": 20,
     "metadata": {},
     "output_type": "execute_result"
    }
   ],
   "source": [
    "\n",
    "# Check the wine alcohol outliers\n",
    "wine_preclean_df1['alcohol'].describe()"
   ]
  },
  {
   "cell_type": "code",
   "execution_count": 21,
   "metadata": {},
   "outputs": [
    {
     "data": {
      "text/plain": [
       "90.0      4\n",
       "88.0      3\n",
       "87.0      2\n",
       "89.0      2\n",
       "92.0      2\n",
       "120.0     1\n",
       "2013.0    1\n",
       "124.8     1\n",
       "40.0      1\n",
       "49.0      1\n",
       "128.0     1\n",
       "97.0      1\n",
       "145.0     1\n",
       "1190.0    1\n",
       "272.0     1\n",
       "2017.0    1\n",
       "2300.0    1\n",
       "330.0     1\n",
       "91.0      1\n",
       "350.0     1\n",
       "2012.0    1\n",
       "4920.0    1\n",
       "86.0      1\n",
       "5480.0    1\n",
       "Name: alcohol, dtype: int64"
      ]
     },
     "execution_count": 21,
     "metadata": {},
     "output_type": "execute_result"
    }
   ],
   "source": [
    "wine_preclean_df1['alcohol'][wine_preclean_df1['alcohol'] > 30].value_counts().sort_values(ascending=False)"
   ]
  },
  {
   "cell_type": "code",
   "execution_count": 22,
   "metadata": {},
   "outputs": [
    {
     "data": {
      "text/plain": [
       "count    29511.000000\n",
       "mean        13.570568\n",
       "std          1.288626\n",
       "min          2.500000\n",
       "25%         13.000000\n",
       "50%         13.500000\n",
       "75%         14.300000\n",
       "max         28.000000\n",
       "Name: alcohol, dtype: float64"
      ]
     },
     "execution_count": 22,
     "metadata": {},
     "output_type": "execute_result"
    }
   ],
   "source": [
    "warnings.filterwarnings('ignore')\n",
    "\n",
    "# Replace outliers for alcohol content\n",
    "wine_preclean_df1['alcohol'][wine_preclean_df1['alcohol']>30] = 28\n",
    "wine_preclean_df1['alcohol'].describe()"
   ]
  },
  {
   "cell_type": "code",
   "execution_count": 23,
   "metadata": {},
   "outputs": [
    {
     "name": "stdout",
     "output_type": "stream",
     "text": [
      "(29511, 13)\n",
      "<class 'pandas.core.frame.DataFrame'>\n",
      "Int64Index: 29511 entries, 0 to 38568\n",
      "Data columns (total 13 columns):\n",
      "title            29511 non-null object\n",
      "rating_points    29511 non-null int64\n",
      "description      29511 non-null object\n",
      "taster_name      29322 non-null object\n",
      "price            29511 non-null float64\n",
      "designation      22723 non-null object\n",
      "variety          29511 non-null object\n",
      "appellation      29511 non-null object\n",
      "country          29511 non-null object\n",
      "winery           29511 non-null object\n",
      "alcohol          29511 non-null float64\n",
      "bottle_size      29511 non-null object\n",
      "category         29511 non-null object\n",
      "dtypes: float64(2), int64(1), object(10)\n",
      "memory usage: 3.2+ MB\n"
     ]
    }
   ],
   "source": [
    "# Check data set info after cleaning outliers and missing value \n",
    "print(wine_preclean_df1.shape)\n",
    "wine_preclean_df1.info()"
   ]
  },
  {
   "cell_type": "code",
   "execution_count": 24,
   "metadata": {},
   "outputs": [],
   "source": [
    "# Copy dataset and rename it again for EDA \n",
    "wine_df = wine_preclean_df1.copy()"
   ]
  },
  {
   "cell_type": "markdown",
   "metadata": {},
   "source": [
    "## Exploratory Data Analysis (EDA)"
   ]
  },
  {
   "cell_type": "code",
   "execution_count": 25,
   "metadata": {},
   "outputs": [
    {
     "data": {
      "text/html": [
       "<div>\n",
       "<style scoped>\n",
       "    .dataframe tbody tr th:only-of-type {\n",
       "        vertical-align: middle;\n",
       "    }\n",
       "\n",
       "    .dataframe tbody tr th {\n",
       "        vertical-align: top;\n",
       "    }\n",
       "\n",
       "    .dataframe thead th {\n",
       "        text-align: right;\n",
       "    }\n",
       "</style>\n",
       "<table border=\"1\" class=\"dataframe\">\n",
       "  <thead>\n",
       "    <tr style=\"text-align: right;\">\n",
       "      <th></th>\n",
       "      <th>rating_points</th>\n",
       "      <th>price</th>\n",
       "      <th>alcohol</th>\n",
       "    </tr>\n",
       "  </thead>\n",
       "  <tbody>\n",
       "    <tr>\n",
       "      <td>count</td>\n",
       "      <td>29511.000000</td>\n",
       "      <td>29511.000000</td>\n",
       "      <td>29511.000000</td>\n",
       "    </tr>\n",
       "    <tr>\n",
       "      <td>mean</td>\n",
       "      <td>89.416048</td>\n",
       "      <td>38.929562</td>\n",
       "      <td>13.570568</td>\n",
       "    </tr>\n",
       "    <tr>\n",
       "      <td>std</td>\n",
       "      <td>2.928643</td>\n",
       "      <td>30.021518</td>\n",
       "      <td>1.288626</td>\n",
       "    </tr>\n",
       "    <tr>\n",
       "      <td>min</td>\n",
       "      <td>80.000000</td>\n",
       "      <td>4.000000</td>\n",
       "      <td>2.500000</td>\n",
       "    </tr>\n",
       "    <tr>\n",
       "      <td>25%</td>\n",
       "      <td>87.000000</td>\n",
       "      <td>19.000000</td>\n",
       "      <td>13.000000</td>\n",
       "    </tr>\n",
       "    <tr>\n",
       "      <td>50%</td>\n",
       "      <td>90.000000</td>\n",
       "      <td>30.000000</td>\n",
       "      <td>13.500000</td>\n",
       "    </tr>\n",
       "    <tr>\n",
       "      <td>75%</td>\n",
       "      <td>91.000000</td>\n",
       "      <td>49.000000</td>\n",
       "      <td>14.300000</td>\n",
       "    </tr>\n",
       "    <tr>\n",
       "      <td>max</td>\n",
       "      <td>100.000000</td>\n",
       "      <td>222.000000</td>\n",
       "      <td>28.000000</td>\n",
       "    </tr>\n",
       "  </tbody>\n",
       "</table>\n",
       "</div>"
      ],
      "text/plain": [
       "       rating_points         price       alcohol\n",
       "count   29511.000000  29511.000000  29511.000000\n",
       "mean       89.416048     38.929562     13.570568\n",
       "std         2.928643     30.021518      1.288626\n",
       "min        80.000000      4.000000      2.500000\n",
       "25%        87.000000     19.000000     13.000000\n",
       "50%        90.000000     30.000000     13.500000\n",
       "75%        91.000000     49.000000     14.300000\n",
       "max       100.000000    222.000000     28.000000"
      ]
     },
     "execution_count": 25,
     "metadata": {},
     "output_type": "execute_result"
    }
   ],
   "source": [
    "# Check numerical columns basic info\n",
    "wine_df.describe()"
   ]
  },
  {
   "cell_type": "code",
   "execution_count": 26,
   "metadata": {},
   "outputs": [
    {
     "data": {
      "text/html": [
       "        <script type=\"text/javascript\">\n",
       "        window.PlotlyConfig = {MathJaxConfig: 'local'};\n",
       "        if (window.MathJax) {MathJax.Hub.Config({SVG: {font: \"STIX-Web\"}});}\n",
       "        if (typeof require !== 'undefined') {\n",
       "        require.undef(\"plotly\");\n",
       "        requirejs.config({\n",
       "            paths: {\n",
       "                'plotly': ['https://cdn.plot.ly/plotly-latest.min']\n",
       "            }\n",
       "        });\n",
       "        require(['plotly'], function(Plotly) {\n",
       "            window._Plotly = Plotly;\n",
       "        });\n",
       "        }\n",
       "        </script>\n",
       "        "
      ]
     },
     "metadata": {},
     "output_type": "display_data"
    }
   ],
   "source": [
    "# Plot price and rating_points using plotly\n",
    "\n",
    "from plotly.offline import init_notebook_mode, iplot\n",
    "init_notebook_mode(connected=True)\n",
    "\n",
    "import plotly.graph_objs as go\n",
    "import plotly.io as pio\n",
    "\n",
    "data = go.Scatter(x=wine_df.head(1000)['rating_points'], y=wine_df.head(1000)['price'], mode='markers')\n",
    "\n",
    "layout = go.Layout({\n",
    "  \"xaxis\": {\n",
    "    \"title\": {\"text\": \"Rating_points\"} \n",
    "  }, \n",
    "  \"yaxis\": {\n",
    "    \"title\": {\"text\": \"Price, $\"}, \n",
    "  }\n",
    "})\n",
    "\n",
    "fig = go.Figure(data=data, layout=layout)\n",
    "\n",
    "pio.write_html(fig, file='price_rating.html', auto_open=True)"
   ]
  },
  {
   "cell_type": "code",
   "execution_count": 27,
   "metadata": {},
   "outputs": [
    {
     "data": {
      "image/png": "[encoded data removed]",
      "text/plain": [
       "<Figure size 432x288 with 1 Axes>"
      ]
     },
     "metadata": {
      "needs_background": "light"
     },
     "output_type": "display_data"
    }
   ],
   "source": [
    "# Plot all the data points for rating_points and price\n",
    "plt.plot(wine_df['rating_points'], wine_df['price'], 'o', color='blue', markersize=4)\n",
    "plt.ylabel('Price, $', fontsize=12)\n",
    "plt.xlabel('Rating-points', fontsize=12)\n",
    "\n",
    "plt.show()"
   ]
  },
  {
   "cell_type": "code",
   "execution_count": 28,
   "metadata": {},
   "outputs": [
    {
     "data": {
      "text/plain": [
       "<seaborn.axisgrid.JointGrid at 0x7fbdff90cbd0>"
      ]
     },
     "execution_count": 28,
     "metadata": {},
     "output_type": "execute_result"
    },
    {
     "data": {
      "image/png": "[encoded data removed]",
      "text/plain": [
       "<Figure size 432x432 with 3 Axes>"
      ]
     },
     "metadata": {
      "needs_background": "light"
     },
     "output_type": "display_data"
    }
   ],
   "source": [
    "\n",
    "sns.jointplot(x='rating_points', y='price',  data=wine_df[wine_df['price']< 100], kind='hex', gridsize=20)"
   ]
  },
  {
   "cell_type": "markdown",
   "metadata": {},
   "source": [
    "The above figure shows that the price for most of wines is in the range of \\$10 ~ \\\\$40. This is reasonable for the market needs. The rating points are also most likely in the range of 85 to 92, not very low not very high.\n",
    "\n",
    "In addition, it shows that the price can be varied from low price such as \\$5 to high price \\\\$150 or even more than \\$200 at a fixed rating point. This indicates that the wine price might be affected by other factors such as wine variety, country and so on and further investigation should be conducted. This is also a good feature for wine consumers because they can buy wines with low price and high rating points."
   ]
  },
  {
   "cell_type": "code",
   "execution_count": 29,
   "metadata": {},
   "outputs": [
    {
     "data": {
      "text/plain": [
       "<matplotlib.axes._subplots.AxesSubplot at 0x7fbde3cf2dd0>"
      ]
     },
     "execution_count": 29,
     "metadata": {},
     "output_type": "execute_result"
    },
    {
     "data": {
      "image/png": "[encoded data removed]",
      "text/plain": [
       "<Figure size 432x288 with 1 Axes>"
      ]
     },
     "metadata": {
      "needs_background": "light"
     },
     "output_type": "display_data"
    }
   ],
   "source": [
    "# Explore the relationship between rating_points and price using mean price values.\n",
    "wine_df.groupby(['rating_points']).price.mean().plot()"
   ]
  },
  {
   "cell_type": "markdown",
   "metadata": {},
   "source": [
    "From the above mean price with rating_points plot, it can be seen that in general, the wine price increases with rating points. It also can be pointed out that the rating_points in the 80-90, the mean of wine price increases not very much about from \\$20 to \\\\$39. However, it increases very fast from \\$40 to \\\\$140 (sharp slope as shown in the figure) after rating_points more than 90."
   ]
  },
  {
   "cell_type": "markdown",
   "metadata": {},
   "source": [
    "## 2. Alcohol and Category"
   ]
  },
  {
   "cell_type": "code",
   "execution_count": 30,
   "metadata": {},
   "outputs": [
    {
     "data": {
      "image/png": "[encoded data removed]",
      "text/plain": [
       "<Figure size 432x288 with 1 Axes>"
      ]
     },
     "metadata": {
      "needs_background": "light"
     },
     "output_type": "display_data"
    }
   ],
   "source": [
    "\n",
    "# Plot all the data points for alcohol content and price\n",
    "plt.plot(wine_df['alcohol'], wine_df['price'], 'o', color='blue', markersize=4)\n",
    "plt.ylabel('Price, $', fontsize=12)\n",
    "plt.xlabel('Alcohol, %', fontsize=12)\n",
    "\n",
    "plt.show()"
   ]
  },
  {
   "cell_type": "code",
   "execution_count": 31,
   "metadata": {},
   "outputs": [
    {
     "data": {
      "text/plain": [
       "<seaborn.axisgrid.JointGrid at 0x7fbde37b36d0>"
      ]
     },
     "execution_count": 31,
     "metadata": {},
     "output_type": "execute_result"
    },
    {
     "data": {
      "image/png": "[encoded data removed]",
      "text/plain": [
       "<Figure size 432x432 with 3 Axes>"
      ]
     },
     "metadata": {
      "needs_background": "light"
     },
     "output_type": "display_data"
    }
   ],
   "source": [
    "# Plot alcohol with price\n",
    "sns.jointplot(x='alcohol', y= 'price', data = wine_df[wine_df['price']<100], kind = 'hex',gridsize=20)"
   ]
  },
  {
   "cell_type": "markdown",
   "metadata": {},
   "source": [
    "From the above joint plot, it can be seen that for wine, the most alcohol content is about 10-15% (especially in 11-13%), and price is in the range of 15-40$."
   ]
  },
  {
   "cell_type": "code",
   "execution_count": 32,
   "metadata": {},
   "outputs": [
    {
     "data": {
      "text/plain": [
       "<matplotlib.axes._subplots.AxesSubplot at 0x7fbde40bc590>"
      ]
     },
     "execution_count": 32,
     "metadata": {},
     "output_type": "execute_result"
    },
    {
     "data": {
      "image/png": "[encoded data removed]",
      "text/plain": [
       "<Figure size 432x288 with 1 Axes>"
      ]
     },
     "metadata": {
      "needs_background": "light"
     },
     "output_type": "display_data"
    }
   ],
   "source": [
    "wine_df.groupby(['alcohol']).price.mean().plot()"
   ]
  },
  {
   "cell_type": "markdown",
   "metadata": {},
   "source": [
    "#### Wine category"
   ]
  },
  {
   "cell_type": "code",
   "execution_count": 33,
   "metadata": {},
   "outputs": [
    {
     "name": "stdout",
     "output_type": "stream",
     "text": [
      "7\n"
     ]
    },
    {
     "data": {
      "text/plain": [
       "Red            16409\n",
       "White           9209\n",
       "Sparkling       1733\n",
       "Rose            1619\n",
       "Dessert          333\n",
       "Port/Sherry      173\n",
       "Fortified         35\n",
       "Name: category, dtype: int64"
      ]
     },
     "execution_count": 33,
     "metadata": {},
     "output_type": "execute_result"
    }
   ],
   "source": [
    "\n",
    "# Check wine category.\n",
    "print(wine_df['category'].nunique())\n",
    "wine_df['category'].value_counts()"
   ]
  },
  {
   "cell_type": "markdown",
   "metadata": {},
   "source": [
    "In this dataset, there are seven category for wines. The red wines have the largest number, followed by white and Rose."
   ]
  },
  {
   "cell_type": "code",
   "execution_count": 34,
   "metadata": {},
   "outputs": [
    {
     "data": {
      "text/plain": [
       "category\n",
       "Sparkling      12.012331\n",
       "Dessert        12.320781\n",
       "Rose           12.881909\n",
       "White          13.046513\n",
       "Red            14.052209\n",
       "Fortified      17.905714\n",
       "Port/Sherry    19.365896\n",
       "Name: alcohol, dtype: float64"
      ]
     },
     "execution_count": 34,
     "metadata": {},
     "output_type": "execute_result"
    }
   ],
   "source": [
    "# Examine alcohol content for each category.\n",
    "wine_df.groupby(['category']).alcohol.mean().sort_values()"
   ]
  },
  {
   "cell_type": "code",
   "execution_count": 35,
   "metadata": {},
   "outputs": [
    {
     "data": {
      "text/plain": [
       "category\n",
       "Rose           20.622600\n",
       "White          30.712085\n",
       "Sparkling      43.465089\n",
       "Dessert        43.945796\n",
       "Red            44.315972\n",
       "Fortified      74.400000\n",
       "Port/Sherry    74.514451\n",
       "Name: price, dtype: float64"
      ]
     },
     "execution_count": 35,
     "metadata": {},
     "output_type": "execute_result"
    }
   ],
   "source": [
    "# Check the mean price for each category.\n",
    "wine_df.groupby(['category']).price.mean().sort_values()"
   ]
  },
  {
   "cell_type": "code",
   "execution_count": 36,
   "metadata": {},
   "outputs": [
    {
     "data": {
      "text/plain": [
       "[<matplotlib.lines.Line2D at 0x7fbde4555410>]"
      ]
     },
     "execution_count": 36,
     "metadata": {},
     "output_type": "execute_result"
    },
    {
     "data": {
      "image/png": "[encoded data removed]",
      "text/plain": [
       "<Figure size 432x288 with 1 Axes>"
      ]
     },
     "metadata": {
      "needs_background": "light"
     },
     "output_type": "display_data"
    }
   ],
   "source": [
    "# Plot category with alcohol content and price.\n",
    "plt.plot(wine_df.groupby(['category']).alcohol.mean().sort_values(),'o', color='blue', markersize=8, label=\"alcohol\")\n",
    "plt.plot(wine_df.groupby(['category']).price.mean().sort_values(), '*', color='green', markersize=10, label=\"price\")"
   ]
  },
  {
   "cell_type": "markdown",
   "metadata": {},
   "source": [
    "The alcohol content in the Sparkling is lowest and in Port/Sherry highest. Also, in general, the wine price increases with the alcohol content increases. Port/Sherry has highest price. For special wines such as Sparkling and Dessert, they have high price indicating wine price varied and affected by many factors."
   ]
  },
  {
   "cell_type": "code",
   "execution_count": 37,
   "metadata": {},
   "outputs": [
    {
     "name": "stdout",
     "output_type": "stream",
     "text": [
      "Index(['Sparkling', 'Dessert', 'Rose', 'White', 'Red', 'Fortified',\n",
      "       'Port/Sherry'],\n",
      "      dtype='object', name='category')\n",
      "Index(['Sparkling', 'Dessert', 'Rose', 'White', 'Red', 'Fortified',\n",
      "       'Port/Sherry'],\n",
      "      dtype='object', name='category')\n"
     ]
    },
    {
     "data": {
      "image/png": "[encoded data removed]",
      "text/plain": [
       "<Figure size 432x288 with 2 Axes>"
      ]
     },
     "metadata": {
      "needs_background": "light"
     },
     "output_type": "display_data"
    }
   ],
   "source": [
    "fig, ax = plt.subplots()\n",
    "\n",
    "x = wine_df.groupby(['category']).alcohol.mean().sort_values().index\n",
    "y = wine_df.groupby(['category']).alcohol.mean().sort_values().get_values()\n",
    "ax.plot( x, y,'o', color='blue', markersize=8, label=\"alcohol\")\n",
    "\n",
    "print(x)\n",
    "# set x-axis label\n",
    "ax.set_xlabel(\"Wine Category\",fontsize=14)\n",
    "# set y-axis label\n",
    "ax.set_ylabel(\"Alcohol\",color=\"blue\",fontsize=14)\n",
    "\n",
    "# Set up the second plot\n",
    "ax2=ax.twinx()\n",
    "df2 = wine_df.groupby(['category']).price.mean().sort_values()\n",
    "x1 = df2.reindex(x).index\n",
    "y1 = df2.reindex(x).get_values()\n",
    "print(x1)\n",
    "# make a plot with different y-axis using second axis object\n",
    "ax2.plot(x1,y1, '*', color='green', markersize=10, label=\"price\")\n",
    "ax2.set_ylabel(\"Price\",color=\"green\",fontsize=14)\n",
    "plt.show()"
   ]
  },
  {
   "cell_type": "markdown",
   "metadata": {},
   "source": [
    "## 3. Country"
   ]
  },
  {
   "cell_type": "code",
   "execution_count": 38,
   "metadata": {},
   "outputs": [
    {
     "name": "stdout",
     "output_type": "stream",
     "text": [
      "37\n"
     ]
    },
    {
     "data": {
      "text/plain": [
       "US           11790\n",
       "France        6283\n",
       "Italy         4006\n",
       "Portugal      1839\n",
       "Spain         1400\n",
       "Australia      744\n",
       "Austria        730\n",
       "Argentina      641\n",
       "Germany        527\n",
       "Chile          482\n",
       "Name: country, dtype: int64"
      ]
     },
     "execution_count": 38,
     "metadata": {},
     "output_type": "execute_result"
    }
   ],
   "source": [
    "# Gather countries info for wines review.\n",
    "print(wine_df['country'].nunique())\n",
    "\n",
    "# Count countries number.\n",
    "wine_df['country'].value_counts().head(10)"
   ]
  },
  {
   "cell_type": "code",
   "execution_count": 39,
   "metadata": {},
   "outputs": [
    {
     "data": {
      "text/html": [
       "        <script type=\"text/javascript\">\n",
       "        window.PlotlyConfig = {MathJaxConfig: 'local'};\n",
       "        if (window.MathJax) {MathJax.Hub.Config({SVG: {font: \"STIX-Web\"}});}\n",
       "        if (typeof require !== 'undefined') {\n",
       "        require.undef(\"plotly\");\n",
       "        requirejs.config({\n",
       "            paths: {\n",
       "                'plotly': ['https://cdn.plot.ly/plotly-latest.min']\n",
       "            }\n",
       "        });\n",
       "        require(['plotly'], function(Plotly) {\n",
       "            window._Plotly = Plotly;\n",
       "        });\n",
       "        }\n",
       "        </script>\n",
       "        "
      ]
     },
     "metadata": {},
     "output_type": "display_data"
    }
   ],
   "source": [
    "# Map wine produce countries using plotly\n",
    "import plotly.express as px\n",
    "import plotly.offline  \n",
    "\n",
    "from plotly.offline import init_notebook_mode, iplot\n",
    "init_notebook_mode(connected=True)\n",
    "\n",
    "import plotly.graph_objs as go\n",
    "\n",
    "df = wine_df['country'].replace(\"US\", \"United States\").value_counts()\n",
    "\n",
    "#iplot([go.Choropleth(\n",
    "    #locationmode='country names',\n",
    "    #locations=df.index.values,\n",
    "    #text=df.index,\n",
    "    #z=df.values\n",
    "#)])\n",
    "\n",
    "data = go.Choropleth(\n",
    "    locationmode='country names',\n",
    "    locations=df.index.values,\n",
    "    text=df.index,\n",
    "    z=df.values\n",
    ")\n",
    "\n",
    "fig = go.Figure(data=data)\n",
    "\n",
    "pio.write_html(fig, file='countrymap.html', auto_open=True)"
   ]
  },
  {
   "cell_type": "markdown",
   "metadata": {},
   "source": [
    "From the above figure, it can be seen that in this data set, US is the top country for wines review, followed by France and Italy."
   ]
  },
  {
   "cell_type": "code",
   "execution_count": 40,
   "metadata": {},
   "outputs": [
    {
     "data": {
      "text/plain": [
       "country\n",
       "Mexico                    100.000000\n",
       "England                    61.836364\n",
       "Canada                     58.638298\n",
       "US                         42.886159\n",
       "Italy                      42.884174\n",
       "Germany                    39.519924\n",
       "Australia                  39.098118\n",
       "France                     38.267309\n",
       "South Africa               37.585106\n",
       "Switzerland                35.050000\n",
       "Austria                    32.741096\n",
       "Israel                     31.659794\n",
       "New Zealand                31.029289\n",
       "Hungary                    30.884615\n",
       "Serbia                     29.800000\n",
       "Spain                      29.598571\n",
       "Portugal                   29.022295\n",
       "Croatia                    28.620690\n",
       "Uruguay                    27.216867\n",
       "Turkey                     26.709677\n",
       "Argentina                  26.609984\n",
       "Chile                      25.199170\n",
       "Lebanon                    24.571429\n",
       "Slovenia                   23.000000\n",
       "Greece                     22.972973\n",
       "Brazil                     22.400000\n",
       "Georgia                    22.376812\n",
       "Bosnia and Herzegovina     21.555556\n",
       "Armenia                    21.083333\n",
       "India                      19.000000\n",
       "Macedonia                  18.000000\n",
       "Moldova                    17.437500\n",
       "Peru                       15.000000\n",
       "Luxembourg                 14.000000\n",
       "Bulgaria                   13.588235\n",
       "Romania                    12.777778\n",
       "Rahoveci Valley             9.600000\n",
       "Name: price, dtype: float64"
      ]
     },
     "execution_count": 40,
     "metadata": {},
     "output_type": "execute_result"
    }
   ],
   "source": [
    "wine_df.groupby(['country']).price.mean().sort_values(ascending=False)"
   ]
  },
  {
   "cell_type": "code",
   "execution_count": 41,
   "metadata": {},
   "outputs": [
    {
     "name": "stdout",
     "output_type": "stream",
     "text": [
      "                   price\n",
      "country                 \n",
      "Mexico        100.000000\n",
      "England        61.836364\n",
      "Canada         58.638298\n",
      "US             42.886159\n",
      "Italy          42.884174\n",
      "Germany        39.519924\n",
      "Australia      39.098118\n",
      "France         38.267309\n",
      "South Africa   37.585106\n",
      "Switzerland    35.050000\n"
     ]
    },
    {
     "data": {
      "image/png": "[encoded data removed]",
      "text/plain": [
       "<Figure size 864x432 with 1 Axes>"
      ]
     },
     "metadata": {
      "needs_background": "light"
     },
     "output_type": "display_data"
    }
   ],
   "source": [
    "# Examine the mean price of wines for each country.\n",
    "\n",
    "cp = pd.DataFrame(wine_df.groupby(['country']).price.mean().sort_values(ascending=False))\n",
    "print(cp.head(10))\n",
    "\n",
    "\n",
    "# Plot treemap for country and mean price.\n",
    "\n",
    "import squarify\n",
    "\n",
    "plt.figure(figsize=(12,6))\n",
    "squarify.plot(cp['price'].head(10),color=sns.color_palette('rainbow'),label=cp.head(10).index)\n",
    "plt.show()"
   ]
  },
  {
   "cell_type": "markdown",
   "metadata": {},
   "source": [
    "\n",
    "From the above analysis, The average price of wine in Mexico is highest, followed by Canada and Peru. US is the fourth expensive country."
   ]
  },
  {
   "cell_type": "markdown",
   "metadata": {},
   "source": [
    "\n",
    "## 4. Variety\n",
    "A variety is the type of grape. It is written here with a lower-case initial. If only one variety is mentioned on the bottle label, then the wine is called varietal and is named after the grape with a capital initial (Riesling, Pinot Noir, etc.). A varietal wine primarily shows the fruit: the grape variety dominates the wine flavour.(From:http://frenchscout.com/types-of-wines)"
   ]
  },
  {
   "cell_type": "code",
   "execution_count": 42,
   "metadata": {},
   "outputs": [
    {
     "data": {
      "text/plain": [
       "450"
      ]
     },
     "execution_count": 42,
     "metadata": {},
     "output_type": "execute_result"
    }
   ],
   "source": [
    "# Find the number of wine variety or grape types\n",
    "wine_df['variety'].nunique()"
   ]
  },
  {
   "cell_type": "code",
   "execution_count": 43,
   "metadata": {},
   "outputs": [
    {
     "data": {
      "text/plain": [
       "Pinot Noir                  3044\n",
       "Chardonnay                  2311\n",
       "Cabernet Sauvignon          1770\n",
       "Red Blends                  1665\n",
       "Rosé                        1321\n",
       "Bordeaux-style Red Blend    1186\n",
       "Sauvignon Blanc             1026\n",
       "Riesling                     940\n",
       "Nebbiolo                     832\n",
       "Portuguese Red               734\n",
       "Name: variety, dtype: int64"
      ]
     },
     "execution_count": 43,
     "metadata": {},
     "output_type": "execute_result"
    }
   ],
   "source": [
    "# Calculate wine varity number.\n",
    "wine_df['variety'].value_counts().head(10)"
   ]
  },
  {
   "cell_type": "code",
   "execution_count": 44,
   "metadata": {},
   "outputs": [
    {
     "data": {
      "image/png": "[encoded data removed]",
      "text/plain": [
       "<Figure size 720x504 with 1 Axes>"
      ]
     },
     "metadata": {
      "needs_background": "light"
     },
     "output_type": "display_data"
    }
   ],
   "source": [
    "# Plot the wine variety for top 22 variety. \n",
    "plt.figure(figsize=(10,7))\n",
    "wine_df['variety'].value_counts().head(22).sort_values().plot.barh()\n",
    "plt.show()"
   ]
  },
  {
   "cell_type": "markdown",
   "metadata": {},
   "source": [
    "Pinot Noir is the first place for making wine. Next is Chardonnay, the third is Red Blends. Cabernet Sauvignon is the fourth place. And Merlot a little bit behind, in 22nd."
   ]
  },
  {
   "cell_type": "code",
   "execution_count": 45,
   "metadata": {},
   "outputs": [
    {
     "data": {
      "text/plain": [
       "country   variety                 \n",
       "US        Pinot Noir                  2392\n",
       "          Cabernet Sauvignon          1385\n",
       "          Chardonnay                  1321\n",
       "Italy     Nebbiolo                     811\n",
       "France    Bordeaux-style Red Blend     746\n",
       "Portugal  Portuguese Red               733\n",
       "US        Red Blends                   729\n",
       "France    Rosé                         691\n",
       "          Chardonnay                   668\n",
       "US        Syrah                        586\n",
       "Italy     Red Blends                   495\n",
       "US        Zinfandel                    464\n",
       "France    Champagne Blend              453\n",
       "          Gamay                        450\n",
       "US        Sauvignon Blanc              432\n",
       "Name: variety, dtype: int64"
      ]
     },
     "execution_count": 45,
     "metadata": {},
     "output_type": "execute_result"
    }
   ],
   "source": [
    "# Check most popular regions (US, French and Italy) and grapes\n",
    "wine_df.groupby(['country']).variety.value_counts().sort_values(ascending=False).head(15)"
   ]
  },
  {
   "cell_type": "markdown",
   "metadata": {},
   "source": [
    "\n",
    "In US, the most three grapes are Pinor Noir, Cabernet Sauvignon and Chardonnay. In France: Bordeaux-style Red Blend, Rosé, and Gamay. In Italy: Red Blends, Nebbiolo, Sangiovese."
   ]
  },
  {
   "cell_type": "code",
   "execution_count": 46,
   "metadata": {},
   "outputs": [
    {
     "data": {
      "text/html": [
       "<div>\n",
       "<style scoped>\n",
       "    .dataframe tbody tr th:only-of-type {\n",
       "        vertical-align: middle;\n",
       "    }\n",
       "\n",
       "    .dataframe tbody tr th {\n",
       "        vertical-align: top;\n",
       "    }\n",
       "\n",
       "    .dataframe thead th {\n",
       "        text-align: right;\n",
       "    }\n",
       "</style>\n",
       "<table border=\"1\" class=\"dataframe\">\n",
       "  <thead>\n",
       "    <tr style=\"text-align: right;\">\n",
       "      <th></th>\n",
       "      <th>count</th>\n",
       "      <th>mean</th>\n",
       "      <th>std</th>\n",
       "      <th>min</th>\n",
       "      <th>25%</th>\n",
       "      <th>50%</th>\n",
       "      <th>75%</th>\n",
       "      <th>max</th>\n",
       "    </tr>\n",
       "    <tr>\n",
       "      <th>variety</th>\n",
       "      <th></th>\n",
       "      <th></th>\n",
       "      <th></th>\n",
       "      <th></th>\n",
       "      <th></th>\n",
       "      <th></th>\n",
       "      <th></th>\n",
       "      <th></th>\n",
       "    </tr>\n",
       "  </thead>\n",
       "  <tbody>\n",
       "    <tr>\n",
       "      <td>Pinot Noir</td>\n",
       "      <td>3044.0</td>\n",
       "      <td>49.841153</td>\n",
       "      <td>27.489523</td>\n",
       "      <td>5.0</td>\n",
       "      <td>30.0</td>\n",
       "      <td>46.0</td>\n",
       "      <td>63.0</td>\n",
       "      <td>210.0</td>\n",
       "    </tr>\n",
       "    <tr>\n",
       "      <td>Chardonnay</td>\n",
       "      <td>2311.0</td>\n",
       "      <td>42.420588</td>\n",
       "      <td>30.560099</td>\n",
       "      <td>5.0</td>\n",
       "      <td>22.0</td>\n",
       "      <td>35.0</td>\n",
       "      <td>50.0</td>\n",
       "      <td>222.0</td>\n",
       "    </tr>\n",
       "    <tr>\n",
       "      <td>Cabernet Sauvignon</td>\n",
       "      <td>1770.0</td>\n",
       "      <td>55.918633</td>\n",
       "      <td>44.757408</td>\n",
       "      <td>4.0</td>\n",
       "      <td>21.0</td>\n",
       "      <td>40.0</td>\n",
       "      <td>75.0</td>\n",
       "      <td>220.0</td>\n",
       "    </tr>\n",
       "    <tr>\n",
       "      <td>Red Blends</td>\n",
       "      <td>1665.0</td>\n",
       "      <td>36.306000</td>\n",
       "      <td>24.342854</td>\n",
       "      <td>5.0</td>\n",
       "      <td>20.0</td>\n",
       "      <td>30.0</td>\n",
       "      <td>45.0</td>\n",
       "      <td>185.0</td>\n",
       "    </tr>\n",
       "    <tr>\n",
       "      <td>Rosé</td>\n",
       "      <td>1321.0</td>\n",
       "      <td>20.436783</td>\n",
       "      <td>10.699436</td>\n",
       "      <td>5.0</td>\n",
       "      <td>15.0</td>\n",
       "      <td>18.0</td>\n",
       "      <td>24.0</td>\n",
       "      <td>190.0</td>\n",
       "    </tr>\n",
       "    <tr>\n",
       "      <td>Bordeaux-style Red Blend</td>\n",
       "      <td>1186.0</td>\n",
       "      <td>44.440126</td>\n",
       "      <td>37.955811</td>\n",
       "      <td>8.0</td>\n",
       "      <td>20.0</td>\n",
       "      <td>30.0</td>\n",
       "      <td>55.0</td>\n",
       "      <td>220.0</td>\n",
       "    </tr>\n",
       "    <tr>\n",
       "      <td>Sauvignon Blanc</td>\n",
       "      <td>1026.0</td>\n",
       "      <td>25.035078</td>\n",
       "      <td>12.919295</td>\n",
       "      <td>4.0</td>\n",
       "      <td>16.0</td>\n",
       "      <td>23.0</td>\n",
       "      <td>30.0</td>\n",
       "      <td>159.0</td>\n",
       "    </tr>\n",
       "    <tr>\n",
       "      <td>Riesling</td>\n",
       "      <td>940.0</td>\n",
       "      <td>35.560638</td>\n",
       "      <td>26.542059</td>\n",
       "      <td>5.0</td>\n",
       "      <td>19.0</td>\n",
       "      <td>28.0</td>\n",
       "      <td>45.0</td>\n",
       "      <td>200.0</td>\n",
       "    </tr>\n",
       "    <tr>\n",
       "      <td>Nebbiolo</td>\n",
       "      <td>832.0</td>\n",
       "      <td>74.050481</td>\n",
       "      <td>36.551859</td>\n",
       "      <td>15.0</td>\n",
       "      <td>50.0</td>\n",
       "      <td>65.0</td>\n",
       "      <td>90.0</td>\n",
       "      <td>200.0</td>\n",
       "    </tr>\n",
       "    <tr>\n",
       "      <td>Portuguese Red</td>\n",
       "      <td>734.0</td>\n",
       "      <td>26.659401</td>\n",
       "      <td>24.453449</td>\n",
       "      <td>4.0</td>\n",
       "      <td>12.0</td>\n",
       "      <td>18.0</td>\n",
       "      <td>30.0</td>\n",
       "      <td>150.0</td>\n",
       "    </tr>\n",
       "  </tbody>\n",
       "</table>\n",
       "</div>"
      ],
      "text/plain": [
       "                           count       mean        std   min   25%   50%  \\\n",
       "variety                                                                    \n",
       "Pinot Noir                3044.0  49.841153  27.489523   5.0  30.0  46.0   \n",
       "Chardonnay                2311.0  42.420588  30.560099   5.0  22.0  35.0   \n",
       "Cabernet Sauvignon        1770.0  55.918633  44.757408   4.0  21.0  40.0   \n",
       "Red Blends                1665.0  36.306000  24.342854   5.0  20.0  30.0   \n",
       "Rosé                      1321.0  20.436783  10.699436   5.0  15.0  18.0   \n",
       "Bordeaux-style Red Blend  1186.0  44.440126  37.955811   8.0  20.0  30.0   \n",
       "Sauvignon Blanc           1026.0  25.035078  12.919295   4.0  16.0  23.0   \n",
       "Riesling                   940.0  35.560638  26.542059   5.0  19.0  28.0   \n",
       "Nebbiolo                   832.0  74.050481  36.551859  15.0  50.0  65.0   \n",
       "Portuguese Red             734.0  26.659401  24.453449   4.0  12.0  18.0   \n",
       "\n",
       "                           75%    max  \n",
       "variety                                \n",
       "Pinot Noir                63.0  210.0  \n",
       "Chardonnay                50.0  222.0  \n",
       "Cabernet Sauvignon        75.0  220.0  \n",
       "Red Blends                45.0  185.0  \n",
       "Rosé                      24.0  190.0  \n",
       "Bordeaux-style Red Blend  55.0  220.0  \n",
       "Sauvignon Blanc           30.0  159.0  \n",
       "Riesling                  45.0  200.0  \n",
       "Nebbiolo                  90.0  200.0  \n",
       "Portuguese Red            30.0  150.0  "
      ]
     },
     "execution_count": 46,
     "metadata": {},
     "output_type": "execute_result"
    }
   ],
   "source": [
    "# Examine the relationship between varity and price.\n",
    "wine_df.groupby(['variety']).price.describe().sort_values(['count'],ascending=False).head(10)"
   ]
  },
  {
   "cell_type": "code",
   "execution_count": 47,
   "metadata": {},
   "outputs": [
    {
     "data": {
      "text/plain": [
       "<matplotlib.axes._subplots.AxesSubplot at 0x7fbde37d1e10>"
      ]
     },
     "execution_count": 47,
     "metadata": {},
     "output_type": "execute_result"
    },
    {
     "data": {
      "image/png": "[encoded data removed]",
      "text/plain": [
       "<Figure size 1296x432 with 1 Axes>"
      ]
     },
     "metadata": {
      "needs_background": "light"
     },
     "output_type": "display_data"
    }
   ],
   "source": [
    "variety_df = wine_df[wine_df['variety'].isin(wine_df['variety'].value_counts().head(10).index)]\n",
    "variety_df.groupby(['variety']).price.mean().plot(figsize=(18,6))"
   ]
  },
  {
   "cell_type": "code",
   "execution_count": 48,
   "metadata": {},
   "outputs": [
    {
     "data": {
      "image/png": "[encoded data removed]",
      "text/plain": [
       "<Figure size 1296x432 with 1 Axes>"
      ]
     },
     "metadata": {
      "needs_background": "light"
     },
     "output_type": "display_data"
    }
   ],
   "source": [
    "# Examine the relationship for varity and rating points.\n",
    "variety_df = wine_df[wine_df['variety'].isin(wine_df['variety'].value_counts().head(10).index)]\n",
    "\n",
    "plt.figure(figsize=(18,6))\n",
    "sns.boxplot(x='variety',y='price', data=variety_df)\n",
    "\n",
    "plt.show()"
   ]
  },
  {
   "cell_type": "markdown",
   "metadata": {},
   "source": [
    "From the above price boxplot, the average price for most popular wines is in the range of \\$20 to \\\\$50 indicating there are not very expensive and suitable for the market and most consumers' needs."
   ]
  },
  {
   "cell_type": "code",
   "execution_count": 49,
   "metadata": {},
   "outputs": [
    {
     "data": {
      "text/html": [
       "<div>\n",
       "<style scoped>\n",
       "    .dataframe tbody tr th:only-of-type {\n",
       "        vertical-align: middle;\n",
       "    }\n",
       "\n",
       "    .dataframe tbody tr th {\n",
       "        vertical-align: top;\n",
       "    }\n",
       "\n",
       "    .dataframe thead th {\n",
       "        text-align: right;\n",
       "    }\n",
       "</style>\n",
       "<table border=\"1\" class=\"dataframe\">\n",
       "  <thead>\n",
       "    <tr style=\"text-align: right;\">\n",
       "      <th></th>\n",
       "      <th>count</th>\n",
       "      <th>mean</th>\n",
       "      <th>std</th>\n",
       "      <th>min</th>\n",
       "      <th>25%</th>\n",
       "      <th>50%</th>\n",
       "      <th>75%</th>\n",
       "      <th>max</th>\n",
       "    </tr>\n",
       "    <tr>\n",
       "      <th>variety</th>\n",
       "      <th></th>\n",
       "      <th></th>\n",
       "      <th></th>\n",
       "      <th></th>\n",
       "      <th></th>\n",
       "      <th></th>\n",
       "      <th></th>\n",
       "      <th></th>\n",
       "    </tr>\n",
       "  </thead>\n",
       "  <tbody>\n",
       "    <tr>\n",
       "      <td>Pinot Noir</td>\n",
       "      <td>3044.0</td>\n",
       "      <td>90.473062</td>\n",
       "      <td>2.747854</td>\n",
       "      <td>80.0</td>\n",
       "      <td>89.0</td>\n",
       "      <td>91.0</td>\n",
       "      <td>92.0</td>\n",
       "      <td>99.0</td>\n",
       "    </tr>\n",
       "    <tr>\n",
       "      <td>Chardonnay</td>\n",
       "      <td>2311.0</td>\n",
       "      <td>89.645175</td>\n",
       "      <td>2.915182</td>\n",
       "      <td>80.0</td>\n",
       "      <td>88.0</td>\n",
       "      <td>90.0</td>\n",
       "      <td>92.0</td>\n",
       "      <td>98.0</td>\n",
       "    </tr>\n",
       "    <tr>\n",
       "      <td>Cabernet Sauvignon</td>\n",
       "      <td>1770.0</td>\n",
       "      <td>89.189831</td>\n",
       "      <td>3.040170</td>\n",
       "      <td>80.0</td>\n",
       "      <td>87.0</td>\n",
       "      <td>89.0</td>\n",
       "      <td>91.0</td>\n",
       "      <td>98.0</td>\n",
       "    </tr>\n",
       "    <tr>\n",
       "      <td>Red Blends</td>\n",
       "      <td>1665.0</td>\n",
       "      <td>88.800000</td>\n",
       "      <td>2.746764</td>\n",
       "      <td>80.0</td>\n",
       "      <td>87.0</td>\n",
       "      <td>89.0</td>\n",
       "      <td>91.0</td>\n",
       "      <td>99.0</td>\n",
       "    </tr>\n",
       "    <tr>\n",
       "      <td>Rosé</td>\n",
       "      <td>1321.0</td>\n",
       "      <td>87.767600</td>\n",
       "      <td>2.454997</td>\n",
       "      <td>81.0</td>\n",
       "      <td>86.0</td>\n",
       "      <td>88.0</td>\n",
       "      <td>90.0</td>\n",
       "      <td>94.0</td>\n",
       "    </tr>\n",
       "    <tr>\n",
       "      <td>Bordeaux-style Red Blend</td>\n",
       "      <td>1186.0</td>\n",
       "      <td>89.457841</td>\n",
       "      <td>2.853733</td>\n",
       "      <td>80.0</td>\n",
       "      <td>88.0</td>\n",
       "      <td>90.0</td>\n",
       "      <td>91.0</td>\n",
       "      <td>98.0</td>\n",
       "    </tr>\n",
       "    <tr>\n",
       "      <td>Sauvignon Blanc</td>\n",
       "      <td>1026.0</td>\n",
       "      <td>88.491228</td>\n",
       "      <td>2.598390</td>\n",
       "      <td>80.0</td>\n",
       "      <td>87.0</td>\n",
       "      <td>88.0</td>\n",
       "      <td>90.0</td>\n",
       "      <td>96.0</td>\n",
       "    </tr>\n",
       "    <tr>\n",
       "      <td>Riesling</td>\n",
       "      <td>940.0</td>\n",
       "      <td>91.068085</td>\n",
       "      <td>3.018163</td>\n",
       "      <td>81.0</td>\n",
       "      <td>89.0</td>\n",
       "      <td>91.0</td>\n",
       "      <td>93.0</td>\n",
       "      <td>98.0</td>\n",
       "    </tr>\n",
       "    <tr>\n",
       "      <td>Nebbiolo</td>\n",
       "      <td>832.0</td>\n",
       "      <td>90.594952</td>\n",
       "      <td>2.956259</td>\n",
       "      <td>85.0</td>\n",
       "      <td>88.0</td>\n",
       "      <td>90.0</td>\n",
       "      <td>93.0</td>\n",
       "      <td>98.0</td>\n",
       "    </tr>\n",
       "    <tr>\n",
       "      <td>Portuguese Red</td>\n",
       "      <td>734.0</td>\n",
       "      <td>89.348774</td>\n",
       "      <td>2.835344</td>\n",
       "      <td>83.0</td>\n",
       "      <td>87.0</td>\n",
       "      <td>89.0</td>\n",
       "      <td>91.0</td>\n",
       "      <td>100.0</td>\n",
       "    </tr>\n",
       "  </tbody>\n",
       "</table>\n",
       "</div>"
      ],
      "text/plain": [
       "                           count       mean       std   min   25%   50%   75%  \\\n",
       "variety                                                                         \n",
       "Pinot Noir                3044.0  90.473062  2.747854  80.0  89.0  91.0  92.0   \n",
       "Chardonnay                2311.0  89.645175  2.915182  80.0  88.0  90.0  92.0   \n",
       "Cabernet Sauvignon        1770.0  89.189831  3.040170  80.0  87.0  89.0  91.0   \n",
       "Red Blends                1665.0  88.800000  2.746764  80.0  87.0  89.0  91.0   \n",
       "Rosé                      1321.0  87.767600  2.454997  81.0  86.0  88.0  90.0   \n",
       "Bordeaux-style Red Blend  1186.0  89.457841  2.853733  80.0  88.0  90.0  91.0   \n",
       "Sauvignon Blanc           1026.0  88.491228  2.598390  80.0  87.0  88.0  90.0   \n",
       "Riesling                   940.0  91.068085  3.018163  81.0  89.0  91.0  93.0   \n",
       "Nebbiolo                   832.0  90.594952  2.956259  85.0  88.0  90.0  93.0   \n",
       "Portuguese Red             734.0  89.348774  2.835344  83.0  87.0  89.0  91.0   \n",
       "\n",
       "                            max  \n",
       "variety                          \n",
       "Pinot Noir                 99.0  \n",
       "Chardonnay                 98.0  \n",
       "Cabernet Sauvignon         98.0  \n",
       "Red Blends                 99.0  \n",
       "Rosé                       94.0  \n",
       "Bordeaux-style Red Blend   98.0  \n",
       "Sauvignon Blanc            96.0  \n",
       "Riesling                   98.0  \n",
       "Nebbiolo                   98.0  \n",
       "Portuguese Red            100.0  "
      ]
     },
     "execution_count": 49,
     "metadata": {},
     "output_type": "execute_result"
    }
   ],
   "source": [
    "# Examine the relationship for varity and rating points.\n",
    "wine_df.groupby(['variety']).rating_points.describe().sort_values(['count'],ascending=False).head(10)"
   ]
  },
  {
   "cell_type": "code",
   "execution_count": 50,
   "metadata": {},
   "outputs": [
    {
     "data": {
      "image/png": "[encoded data removed]",
      "text/plain": [
       "<Figure size 1152x432 with 1 Axes>"
      ]
     },
     "metadata": {
      "needs_background": "light"
     },
     "output_type": "display_data"
    }
   ],
   "source": [
    "plt.figure(figsize=(16,6))\n",
    "sns.boxplot(x = 'variety', y ='rating_points', data =variety_df)\n",
    "plt.show()"
   ]
  },
  {
   "cell_type": "markdown",
   "metadata": {},
   "source": [
    "\n",
    "The rating_points for most wines is in the range of (86 ~ 93).\n",
    "\n",
    "For the same wine variety, the price and rating_points are various from low to high. This also gives a good sign for wine consumers that they can buy all kinds of wines with good quality at low price."
   ]
  },
  {
   "cell_type": "markdown",
   "metadata": {},
   "source": [
    "###  5. Taster\n",
    "In this data set, the description for wines is written by wine tasters. In the following sections, I will conduct analysis on wine tasters and the description they wrote to explore how their reviews affect wine rating points and how their reviews can affect the wine consumers' decisions to buy or not buy wines."
   ]
  },
  {
   "cell_type": "code",
   "execution_count": 51,
   "metadata": {},
   "outputs": [
    {
     "name": "stdout",
     "output_type": "stream",
     "text": [
      "19\n"
     ]
    },
    {
     "data": {
      "text/plain": [
       "array(['Anne Krebiehl\\xa0MW', 'Roger Voss', 'Jim Gordon', 'Matt Kettmann',\n",
       "       'Virginie Boone', 'Fiona Adams', 'Kerin O’Keefe',\n",
       "       'Sean P. Sullivan', nan, 'Anna Lee C. Iijima',\n",
       "       'Alexander Peartree', 'Paul Gregutt', 'Christina Pickard',\n",
       "       'Joe Czerwinski', 'Michael Schachner', 'Lauren Buzzeo',\n",
       "       'Mike DeSimone', 'Jeff Jenssen', 'Carrie Dykes', 'Susan Kostrzewa'],\n",
       "      dtype=object)"
      ]
     },
     "execution_count": 51,
     "metadata": {},
     "output_type": "execute_result"
    }
   ],
   "source": [
    "# Check numbers of the taster and their names in the data set\n",
    "print(wine_df['taster_name'].nunique())\n",
    "wine_df['taster_name'].unique()"
   ]
  },
  {
   "cell_type": "code",
   "execution_count": 52,
   "metadata": {},
   "outputs": [
    {
     "data": {
      "text/plain": [
       "189"
      ]
     },
     "execution_count": 52,
     "metadata": {},
     "output_type": "execute_result"
    }
   ],
   "source": [
    "# Check missing values\n",
    "wine_df['taster_name'].isnull().sum()"
   ]
  },
  {
   "cell_type": "markdown",
   "metadata": {},
   "source": [
    "In total, there have 19 tasters to provide the wine description. Note here, there still some missing values (nan) in taster_name but for simplifying the analysis these missing values were ignored."
   ]
  },
  {
   "cell_type": "code",
   "execution_count": 53,
   "metadata": {},
   "outputs": [
    {
     "data": {
      "text/plain": [
       "Roger Voss            6103\n",
       "Kerin O’Keefe         3477\n",
       "Matt Kettmann         3013\n",
       "Virginie Boone        2937\n",
       "Michael Schachner     2611\n",
       "Jim Gordon            1988\n",
       "Anne Krebiehl MW      1827\n",
       "Paul Gregutt          1690\n",
       "Sean P. Sullivan      1541\n",
       "Anna Lee C. Iijima    1227\n",
       "Christina Pickard      946\n",
       "Alexander Peartree     733\n",
       "Lauren Buzzeo          383\n",
       "Mike DeSimone          216\n",
       "Jeff Jenssen           203\n",
       "Fiona Adams            146\n",
       "Susan Kostrzewa        113\n",
       "Carrie Dykes            97\n",
       "Joe Czerwinski          71\n",
       "Name: taster_name, dtype: int64"
      ]
     },
     "execution_count": 53,
     "metadata": {},
     "output_type": "execute_result"
    }
   ],
   "source": [
    "wine_df['taster_name'].value_counts()"
   ]
  },
  {
   "cell_type": "code",
   "execution_count": 54,
   "metadata": {},
   "outputs": [
    {
     "data": {
      "text/plain": [
       "<matplotlib.axes._subplots.AxesSubplot at 0x7fbde526ba50>"
      ]
     },
     "execution_count": 54,
     "metadata": {},
     "output_type": "execute_result"
    },
    {
     "data": {
      "image/png": "[encoded data removed]",
      "text/plain": [
       "<Figure size 864x432 with 1 Axes>"
      ]
     },
     "metadata": {
      "needs_background": "light"
     },
     "output_type": "display_data"
    }
   ],
   "source": [
    "# Plot taster's count\n",
    "plt.figure(figsize=(12,6))\n",
    "sns.countplot(y=wine_df['taster_name'],palette = 'cividis' )"
   ]
  },
  {
   "cell_type": "markdown",
   "metadata": {},
   "source": [
    "From the above countplot, Roger Voss is the leading taster for wine reviews. He has written 5687 wine descriptions in this data set. I will use his descriptions for topic extraction analysis as an example to explore how wine consumers can make decisions based on his wine reviews."
   ]
  },
  {
   "cell_type": "code",
   "execution_count": 55,
   "metadata": {},
   "outputs": [
    {
     "data": {
      "text/html": [
       "<div>\n",
       "<style scoped>\n",
       "    .dataframe tbody tr th:only-of-type {\n",
       "        vertical-align: middle;\n",
       "    }\n",
       "\n",
       "    .dataframe tbody tr th {\n",
       "        vertical-align: top;\n",
       "    }\n",
       "\n",
       "    .dataframe thead th {\n",
       "        text-align: right;\n",
       "    }\n",
       "</style>\n",
       "<table border=\"1\" class=\"dataframe\">\n",
       "  <thead>\n",
       "    <tr style=\"text-align: right;\">\n",
       "      <th></th>\n",
       "      <th>count</th>\n",
       "      <th>mean</th>\n",
       "      <th>std</th>\n",
       "      <th>min</th>\n",
       "      <th>25%</th>\n",
       "      <th>50%</th>\n",
       "      <th>75%</th>\n",
       "      <th>max</th>\n",
       "    </tr>\n",
       "    <tr>\n",
       "      <th>taster_name</th>\n",
       "      <th></th>\n",
       "      <th></th>\n",
       "      <th></th>\n",
       "      <th></th>\n",
       "      <th></th>\n",
       "      <th></th>\n",
       "      <th></th>\n",
       "      <th></th>\n",
       "    </tr>\n",
       "  </thead>\n",
       "  <tbody>\n",
       "    <tr>\n",
       "      <td>Roger Voss</td>\n",
       "      <td>6103.0</td>\n",
       "      <td>89.205800</td>\n",
       "      <td>2.669539</td>\n",
       "      <td>81.0</td>\n",
       "      <td>87.0</td>\n",
       "      <td>89.0</td>\n",
       "      <td>91.0</td>\n",
       "      <td>100.0</td>\n",
       "    </tr>\n",
       "    <tr>\n",
       "      <td>Kerin O’Keefe</td>\n",
       "      <td>3477.0</td>\n",
       "      <td>89.729364</td>\n",
       "      <td>2.723778</td>\n",
       "      <td>82.0</td>\n",
       "      <td>88.0</td>\n",
       "      <td>89.0</td>\n",
       "      <td>91.0</td>\n",
       "      <td>100.0</td>\n",
       "    </tr>\n",
       "    <tr>\n",
       "      <td>Matt Kettmann</td>\n",
       "      <td>3013.0</td>\n",
       "      <td>90.370727</td>\n",
       "      <td>2.446974</td>\n",
       "      <td>82.0</td>\n",
       "      <td>88.0</td>\n",
       "      <td>91.0</td>\n",
       "      <td>92.0</td>\n",
       "      <td>97.0</td>\n",
       "    </tr>\n",
       "    <tr>\n",
       "      <td>Virginie Boone</td>\n",
       "      <td>2937.0</td>\n",
       "      <td>90.232550</td>\n",
       "      <td>2.917705</td>\n",
       "      <td>80.0</td>\n",
       "      <td>88.0</td>\n",
       "      <td>90.0</td>\n",
       "      <td>92.0</td>\n",
       "      <td>99.0</td>\n",
       "    </tr>\n",
       "    <tr>\n",
       "      <td>Michael Schachner</td>\n",
       "      <td>2611.0</td>\n",
       "      <td>87.217158</td>\n",
       "      <td>3.257051</td>\n",
       "      <td>80.0</td>\n",
       "      <td>85.0</td>\n",
       "      <td>87.0</td>\n",
       "      <td>90.0</td>\n",
       "      <td>97.0</td>\n",
       "    </tr>\n",
       "    <tr>\n",
       "      <td>Jim Gordon</td>\n",
       "      <td>1988.0</td>\n",
       "      <td>88.844567</td>\n",
       "      <td>2.870022</td>\n",
       "      <td>81.0</td>\n",
       "      <td>87.0</td>\n",
       "      <td>89.0</td>\n",
       "      <td>91.0</td>\n",
       "      <td>100.0</td>\n",
       "    </tr>\n",
       "    <tr>\n",
       "      <td>Anne Krebiehl MW</td>\n",
       "      <td>1827.0</td>\n",
       "      <td>91.429119</td>\n",
       "      <td>2.366660</td>\n",
       "      <td>86.0</td>\n",
       "      <td>90.0</td>\n",
       "      <td>92.0</td>\n",
       "      <td>93.0</td>\n",
       "      <td>98.0</td>\n",
       "    </tr>\n",
       "    <tr>\n",
       "      <td>Paul Gregutt</td>\n",
       "      <td>1690.0</td>\n",
       "      <td>89.946154</td>\n",
       "      <td>2.436658</td>\n",
       "      <td>81.0</td>\n",
       "      <td>88.0</td>\n",
       "      <td>90.0</td>\n",
       "      <td>92.0</td>\n",
       "      <td>97.0</td>\n",
       "    </tr>\n",
       "    <tr>\n",
       "      <td>Sean P. Sullivan</td>\n",
       "      <td>1541.0</td>\n",
       "      <td>88.756652</td>\n",
       "      <td>2.658696</td>\n",
       "      <td>80.0</td>\n",
       "      <td>87.0</td>\n",
       "      <td>88.0</td>\n",
       "      <td>91.0</td>\n",
       "      <td>98.0</td>\n",
       "    </tr>\n",
       "    <tr>\n",
       "      <td>Anna Lee C. Iijima</td>\n",
       "      <td>1227.0</td>\n",
       "      <td>90.797066</td>\n",
       "      <td>2.771397</td>\n",
       "      <td>83.0</td>\n",
       "      <td>89.0</td>\n",
       "      <td>91.0</td>\n",
       "      <td>93.0</td>\n",
       "      <td>99.0</td>\n",
       "    </tr>\n",
       "    <tr>\n",
       "      <td>Christina Pickard</td>\n",
       "      <td>946.0</td>\n",
       "      <td>89.374207</td>\n",
       "      <td>2.605150</td>\n",
       "      <td>83.0</td>\n",
       "      <td>88.0</td>\n",
       "      <td>89.0</td>\n",
       "      <td>91.0</td>\n",
       "      <td>98.0</td>\n",
       "    </tr>\n",
       "    <tr>\n",
       "      <td>Alexander Peartree</td>\n",
       "      <td>733.0</td>\n",
       "      <td>87.658936</td>\n",
       "      <td>2.340174</td>\n",
       "      <td>80.0</td>\n",
       "      <td>86.0</td>\n",
       "      <td>88.0</td>\n",
       "      <td>89.0</td>\n",
       "      <td>95.0</td>\n",
       "    </tr>\n",
       "    <tr>\n",
       "      <td>Lauren Buzzeo</td>\n",
       "      <td>383.0</td>\n",
       "      <td>87.263708</td>\n",
       "      <td>2.871764</td>\n",
       "      <td>80.0</td>\n",
       "      <td>85.0</td>\n",
       "      <td>87.0</td>\n",
       "      <td>89.5</td>\n",
       "      <td>95.0</td>\n",
       "    </tr>\n",
       "    <tr>\n",
       "      <td>Mike DeSimone</td>\n",
       "      <td>216.0</td>\n",
       "      <td>88.824074</td>\n",
       "      <td>2.013114</td>\n",
       "      <td>83.0</td>\n",
       "      <td>88.0</td>\n",
       "      <td>89.0</td>\n",
       "      <td>90.0</td>\n",
       "      <td>93.0</td>\n",
       "    </tr>\n",
       "    <tr>\n",
       "      <td>Jeff Jenssen</td>\n",
       "      <td>203.0</td>\n",
       "      <td>87.950739</td>\n",
       "      <td>2.270678</td>\n",
       "      <td>82.0</td>\n",
       "      <td>86.0</td>\n",
       "      <td>88.0</td>\n",
       "      <td>89.0</td>\n",
       "      <td>100.0</td>\n",
       "    </tr>\n",
       "    <tr>\n",
       "      <td>Fiona Adams</td>\n",
       "      <td>146.0</td>\n",
       "      <td>86.904110</td>\n",
       "      <td>2.352779</td>\n",
       "      <td>81.0</td>\n",
       "      <td>85.0</td>\n",
       "      <td>87.0</td>\n",
       "      <td>89.0</td>\n",
       "      <td>91.0</td>\n",
       "    </tr>\n",
       "    <tr>\n",
       "      <td>Susan Kostrzewa</td>\n",
       "      <td>113.0</td>\n",
       "      <td>88.663717</td>\n",
       "      <td>2.094255</td>\n",
       "      <td>83.0</td>\n",
       "      <td>87.0</td>\n",
       "      <td>89.0</td>\n",
       "      <td>90.0</td>\n",
       "      <td>93.0</td>\n",
       "    </tr>\n",
       "    <tr>\n",
       "      <td>Carrie Dykes</td>\n",
       "      <td>97.0</td>\n",
       "      <td>86.886598</td>\n",
       "      <td>2.207356</td>\n",
       "      <td>81.0</td>\n",
       "      <td>85.0</td>\n",
       "      <td>87.0</td>\n",
       "      <td>88.0</td>\n",
       "      <td>92.0</td>\n",
       "    </tr>\n",
       "    <tr>\n",
       "      <td>Joe Czerwinski</td>\n",
       "      <td>71.0</td>\n",
       "      <td>89.929577</td>\n",
       "      <td>3.239594</td>\n",
       "      <td>82.0</td>\n",
       "      <td>88.0</td>\n",
       "      <td>90.0</td>\n",
       "      <td>92.5</td>\n",
       "      <td>96.0</td>\n",
       "    </tr>\n",
       "  </tbody>\n",
       "</table>\n",
       "</div>"
      ],
      "text/plain": [
       "                     count       mean       std   min   25%   50%   75%    max\n",
       "taster_name                                                                   \n",
       "Roger Voss          6103.0  89.205800  2.669539  81.0  87.0  89.0  91.0  100.0\n",
       "Kerin O’Keefe       3477.0  89.729364  2.723778  82.0  88.0  89.0  91.0  100.0\n",
       "Matt Kettmann       3013.0  90.370727  2.446974  82.0  88.0  91.0  92.0   97.0\n",
       "Virginie Boone      2937.0  90.232550  2.917705  80.0  88.0  90.0  92.0   99.0\n",
       "Michael Schachner   2611.0  87.217158  3.257051  80.0  85.0  87.0  90.0   97.0\n",
       "Jim Gordon          1988.0  88.844567  2.870022  81.0  87.0  89.0  91.0  100.0\n",
       "Anne Krebiehl MW    1827.0  91.429119  2.366660  86.0  90.0  92.0  93.0   98.0\n",
       "Paul Gregutt        1690.0  89.946154  2.436658  81.0  88.0  90.0  92.0   97.0\n",
       "Sean P. Sullivan    1541.0  88.756652  2.658696  80.0  87.0  88.0  91.0   98.0\n",
       "Anna Lee C. Iijima  1227.0  90.797066  2.771397  83.0  89.0  91.0  93.0   99.0\n",
       "Christina Pickard    946.0  89.374207  2.605150  83.0  88.0  89.0  91.0   98.0\n",
       "Alexander Peartree   733.0  87.658936  2.340174  80.0  86.0  88.0  89.0   95.0\n",
       "Lauren Buzzeo        383.0  87.263708  2.871764  80.0  85.0  87.0  89.5   95.0\n",
       "Mike DeSimone        216.0  88.824074  2.013114  83.0  88.0  89.0  90.0   93.0\n",
       "Jeff Jenssen         203.0  87.950739  2.270678  82.0  86.0  88.0  89.0  100.0\n",
       "Fiona Adams          146.0  86.904110  2.352779  81.0  85.0  87.0  89.0   91.0\n",
       "Susan Kostrzewa      113.0  88.663717  2.094255  83.0  87.0  89.0  90.0   93.0\n",
       "Carrie Dykes          97.0  86.886598  2.207356  81.0  85.0  87.0  88.0   92.0\n",
       "Joe Czerwinski        71.0  89.929577  3.239594  82.0  88.0  90.0  92.5   96.0"
      ]
     },
     "execution_count": 55,
     "metadata": {},
     "output_type": "execute_result"
    }
   ],
   "source": [
    "# Check rating points info given by each taster.\n",
    "wine_df.groupby(['taster_name']).rating_points.describe().sort_values(['count'],ascending=False)"
   ]
  },
  {
   "cell_type": "code",
   "execution_count": 56,
   "metadata": {},
   "outputs": [
    {
     "data": {
      "text/html": [
       "<div>\n",
       "<style scoped>\n",
       "    .dataframe tbody tr th:only-of-type {\n",
       "        vertical-align: middle;\n",
       "    }\n",
       "\n",
       "    .dataframe tbody tr th {\n",
       "        vertical-align: top;\n",
       "    }\n",
       "\n",
       "    .dataframe thead th {\n",
       "        text-align: right;\n",
       "    }\n",
       "</style>\n",
       "<table border=\"1\" class=\"dataframe\">\n",
       "  <thead>\n",
       "    <tr style=\"text-align: right;\">\n",
       "      <th></th>\n",
       "      <th>count</th>\n",
       "      <th>mean</th>\n",
       "      <th>std</th>\n",
       "      <th>min</th>\n",
       "      <th>25%</th>\n",
       "      <th>50%</th>\n",
       "      <th>75%</th>\n",
       "      <th>max</th>\n",
       "    </tr>\n",
       "    <tr>\n",
       "      <th>taster_name</th>\n",
       "      <th></th>\n",
       "      <th></th>\n",
       "      <th></th>\n",
       "      <th></th>\n",
       "      <th></th>\n",
       "      <th></th>\n",
       "      <th></th>\n",
       "      <th></th>\n",
       "    </tr>\n",
       "  </thead>\n",
       "  <tbody>\n",
       "    <tr>\n",
       "      <td>Roger Voss</td>\n",
       "      <td>6103.0</td>\n",
       "      <td>34.819925</td>\n",
       "      <td>30.546667</td>\n",
       "      <td>4.0</td>\n",
       "      <td>16.0</td>\n",
       "      <td>25.0</td>\n",
       "      <td>40.00</td>\n",
       "      <td>220.0</td>\n",
       "    </tr>\n",
       "    <tr>\n",
       "      <td>Kerin O’Keefe</td>\n",
       "      <td>3477.0</td>\n",
       "      <td>45.029048</td>\n",
       "      <td>34.752975</td>\n",
       "      <td>7.0</td>\n",
       "      <td>20.0</td>\n",
       "      <td>34.0</td>\n",
       "      <td>60.00</td>\n",
       "      <td>200.0</td>\n",
       "    </tr>\n",
       "    <tr>\n",
       "      <td>Matt Kettmann</td>\n",
       "      <td>3013.0</td>\n",
       "      <td>42.308599</td>\n",
       "      <td>20.519055</td>\n",
       "      <td>6.0</td>\n",
       "      <td>28.0</td>\n",
       "      <td>40.0</td>\n",
       "      <td>51.00</td>\n",
       "      <td>210.0</td>\n",
       "    </tr>\n",
       "    <tr>\n",
       "      <td>Virginie Boone</td>\n",
       "      <td>2937.0</td>\n",
       "      <td>59.359210</td>\n",
       "      <td>37.678124</td>\n",
       "      <td>7.0</td>\n",
       "      <td>34.0</td>\n",
       "      <td>50.0</td>\n",
       "      <td>75.00</td>\n",
       "      <td>220.0</td>\n",
       "    </tr>\n",
       "    <tr>\n",
       "      <td>Michael Schachner</td>\n",
       "      <td>2611.0</td>\n",
       "      <td>28.075450</td>\n",
       "      <td>25.516580</td>\n",
       "      <td>4.0</td>\n",
       "      <td>15.0</td>\n",
       "      <td>20.0</td>\n",
       "      <td>30.00</td>\n",
       "      <td>220.0</td>\n",
       "    </tr>\n",
       "    <tr>\n",
       "      <td>Jim Gordon</td>\n",
       "      <td>1988.0</td>\n",
       "      <td>28.404427</td>\n",
       "      <td>18.670222</td>\n",
       "      <td>4.0</td>\n",
       "      <td>16.0</td>\n",
       "      <td>25.0</td>\n",
       "      <td>35.00</td>\n",
       "      <td>200.0</td>\n",
       "    </tr>\n",
       "    <tr>\n",
       "      <td>Anne Krebiehl MW</td>\n",
       "      <td>1827.0</td>\n",
       "      <td>39.569239</td>\n",
       "      <td>27.413650</td>\n",
       "      <td>10.0</td>\n",
       "      <td>21.0</td>\n",
       "      <td>30.0</td>\n",
       "      <td>49.00</td>\n",
       "      <td>222.0</td>\n",
       "    </tr>\n",
       "    <tr>\n",
       "      <td>Paul Gregutt</td>\n",
       "      <td>1690.0</td>\n",
       "      <td>41.416568</td>\n",
       "      <td>23.120898</td>\n",
       "      <td>7.0</td>\n",
       "      <td>25.0</td>\n",
       "      <td>35.0</td>\n",
       "      <td>55.00</td>\n",
       "      <td>195.0</td>\n",
       "    </tr>\n",
       "    <tr>\n",
       "      <td>Sean P. Sullivan</td>\n",
       "      <td>1541.0</td>\n",
       "      <td>39.003245</td>\n",
       "      <td>24.283432</td>\n",
       "      <td>5.0</td>\n",
       "      <td>23.0</td>\n",
       "      <td>35.0</td>\n",
       "      <td>46.00</td>\n",
       "      <td>200.0</td>\n",
       "    </tr>\n",
       "    <tr>\n",
       "      <td>Anna Lee C. Iijima</td>\n",
       "      <td>1227.0</td>\n",
       "      <td>40.473105</td>\n",
       "      <td>32.815325</td>\n",
       "      <td>5.0</td>\n",
       "      <td>18.0</td>\n",
       "      <td>28.0</td>\n",
       "      <td>53.00</td>\n",
       "      <td>206.0</td>\n",
       "    </tr>\n",
       "    <tr>\n",
       "      <td>Christina Pickard</td>\n",
       "      <td>946.0</td>\n",
       "      <td>36.214588</td>\n",
       "      <td>28.496717</td>\n",
       "      <td>7.0</td>\n",
       "      <td>18.0</td>\n",
       "      <td>25.0</td>\n",
       "      <td>40.00</td>\n",
       "      <td>200.0</td>\n",
       "    </tr>\n",
       "    <tr>\n",
       "      <td>Alexander Peartree</td>\n",
       "      <td>733.0</td>\n",
       "      <td>24.345157</td>\n",
       "      <td>15.420857</td>\n",
       "      <td>9.0</td>\n",
       "      <td>16.0</td>\n",
       "      <td>20.0</td>\n",
       "      <td>26.00</td>\n",
       "      <td>175.0</td>\n",
       "    </tr>\n",
       "    <tr>\n",
       "      <td>Lauren Buzzeo</td>\n",
       "      <td>383.0</td>\n",
       "      <td>23.425587</td>\n",
       "      <td>23.812511</td>\n",
       "      <td>5.0</td>\n",
       "      <td>12.0</td>\n",
       "      <td>15.0</td>\n",
       "      <td>23.00</td>\n",
       "      <td>190.0</td>\n",
       "    </tr>\n",
       "    <tr>\n",
       "      <td>Mike DeSimone</td>\n",
       "      <td>216.0</td>\n",
       "      <td>26.912037</td>\n",
       "      <td>13.241466</td>\n",
       "      <td>10.0</td>\n",
       "      <td>18.0</td>\n",
       "      <td>25.0</td>\n",
       "      <td>31.25</td>\n",
       "      <td>85.0</td>\n",
       "    </tr>\n",
       "    <tr>\n",
       "      <td>Jeff Jenssen</td>\n",
       "      <td>203.0</td>\n",
       "      <td>23.615764</td>\n",
       "      <td>15.869210</td>\n",
       "      <td>6.0</td>\n",
       "      <td>13.0</td>\n",
       "      <td>20.0</td>\n",
       "      <td>29.00</td>\n",
       "      <td>136.0</td>\n",
       "    </tr>\n",
       "    <tr>\n",
       "      <td>Fiona Adams</td>\n",
       "      <td>146.0</td>\n",
       "      <td>29.397260</td>\n",
       "      <td>12.495781</td>\n",
       "      <td>10.0</td>\n",
       "      <td>22.0</td>\n",
       "      <td>27.0</td>\n",
       "      <td>34.00</td>\n",
       "      <td>80.0</td>\n",
       "    </tr>\n",
       "    <tr>\n",
       "      <td>Susan Kostrzewa</td>\n",
       "      <td>113.0</td>\n",
       "      <td>23.115044</td>\n",
       "      <td>8.913024</td>\n",
       "      <td>10.0</td>\n",
       "      <td>17.0</td>\n",
       "      <td>20.0</td>\n",
       "      <td>27.00</td>\n",
       "      <td>66.0</td>\n",
       "    </tr>\n",
       "    <tr>\n",
       "      <td>Carrie Dykes</td>\n",
       "      <td>97.0</td>\n",
       "      <td>29.618557</td>\n",
       "      <td>10.637437</td>\n",
       "      <td>14.0</td>\n",
       "      <td>23.0</td>\n",
       "      <td>27.0</td>\n",
       "      <td>32.00</td>\n",
       "      <td>80.0</td>\n",
       "    </tr>\n",
       "    <tr>\n",
       "      <td>Joe Czerwinski</td>\n",
       "      <td>71.0</td>\n",
       "      <td>79.774648</td>\n",
       "      <td>55.969940</td>\n",
       "      <td>5.0</td>\n",
       "      <td>29.0</td>\n",
       "      <td>75.0</td>\n",
       "      <td>122.50</td>\n",
       "      <td>220.0</td>\n",
       "    </tr>\n",
       "  </tbody>\n",
       "</table>\n",
       "</div>"
      ],
      "text/plain": [
       "                     count       mean        std   min   25%   50%     75%  \\\n",
       "taster_name                                                                  \n",
       "Roger Voss          6103.0  34.819925  30.546667   4.0  16.0  25.0   40.00   \n",
       "Kerin O’Keefe       3477.0  45.029048  34.752975   7.0  20.0  34.0   60.00   \n",
       "Matt Kettmann       3013.0  42.308599  20.519055   6.0  28.0  40.0   51.00   \n",
       "Virginie Boone      2937.0  59.359210  37.678124   7.0  34.0  50.0   75.00   \n",
       "Michael Schachner   2611.0  28.075450  25.516580   4.0  15.0  20.0   30.00   \n",
       "Jim Gordon          1988.0  28.404427  18.670222   4.0  16.0  25.0   35.00   \n",
       "Anne Krebiehl MW    1827.0  39.569239  27.413650  10.0  21.0  30.0   49.00   \n",
       "Paul Gregutt        1690.0  41.416568  23.120898   7.0  25.0  35.0   55.00   \n",
       "Sean P. Sullivan    1541.0  39.003245  24.283432   5.0  23.0  35.0   46.00   \n",
       "Anna Lee C. Iijima  1227.0  40.473105  32.815325   5.0  18.0  28.0   53.00   \n",
       "Christina Pickard    946.0  36.214588  28.496717   7.0  18.0  25.0   40.00   \n",
       "Alexander Peartree   733.0  24.345157  15.420857   9.0  16.0  20.0   26.00   \n",
       "Lauren Buzzeo        383.0  23.425587  23.812511   5.0  12.0  15.0   23.00   \n",
       "Mike DeSimone        216.0  26.912037  13.241466  10.0  18.0  25.0   31.25   \n",
       "Jeff Jenssen         203.0  23.615764  15.869210   6.0  13.0  20.0   29.00   \n",
       "Fiona Adams          146.0  29.397260  12.495781  10.0  22.0  27.0   34.00   \n",
       "Susan Kostrzewa      113.0  23.115044   8.913024  10.0  17.0  20.0   27.00   \n",
       "Carrie Dykes          97.0  29.618557  10.637437  14.0  23.0  27.0   32.00   \n",
       "Joe Czerwinski        71.0  79.774648  55.969940   5.0  29.0  75.0  122.50   \n",
       "\n",
       "                      max  \n",
       "taster_name                \n",
       "Roger Voss          220.0  \n",
       "Kerin O’Keefe       200.0  \n",
       "Matt Kettmann       210.0  \n",
       "Virginie Boone      220.0  \n",
       "Michael Schachner   220.0  \n",
       "Jim Gordon          200.0  \n",
       "Anne Krebiehl MW    222.0  \n",
       "Paul Gregutt        195.0  \n",
       "Sean P. Sullivan    200.0  \n",
       "Anna Lee C. Iijima  206.0  \n",
       "Christina Pickard   200.0  \n",
       "Alexander Peartree  175.0  \n",
       "Lauren Buzzeo       190.0  \n",
       "Mike DeSimone        85.0  \n",
       "Jeff Jenssen        136.0  \n",
       "Fiona Adams          80.0  \n",
       "Susan Kostrzewa      66.0  \n",
       "Carrie Dykes         80.0  \n",
       "Joe Czerwinski      220.0  "
      ]
     },
     "execution_count": 56,
     "metadata": {},
     "output_type": "execute_result"
    }
   ],
   "source": [
    "# Check wine price info given by each taster.\n",
    "wine_df.groupby(['taster_name']).price.describe().sort_values(['count'],ascending=False)"
   ]
  },
  {
   "cell_type": "markdown",
   "metadata": {},
   "source": [
    "Both rating points and price given by each taster are varied. This indicates the complexity of wine review and wine price on one hand. The winemakers and wine consumers can get more information and find good deals from tasters' wine description on the other hand."
   ]
  },
  {
   "cell_type": "markdown",
   "metadata": {},
   "source": [
    "\n",
    "### Natural Language Processing (NLP) Models\n",
    "\n",
    "The column of description is given by wine tasters and it is text file. In this project, I will focus on the text data and use natural language processing (NLP) to build supervised models to explore the relationships between wines description and wines rating points. Also, I will use the wine description to perform unsupervised topic exaction to test whether it helps wine consumers to make decision to buy wines and drink now or keep them for later drink or help winemakers to think about when will be the best time to sell their wines based on the points of review from tasters."
   ]
  },
  {
   "cell_type": "code",
   "execution_count": 57,
   "metadata": {},
   "outputs": [
    {
     "name": "stdout",
     "output_type": "stream",
     "text": [
      "29511\n",
      "0\n"
     ]
    },
    {
     "data": {
      "text/html": [
       "<div>\n",
       "<style scoped>\n",
       "    .dataframe tbody tr th:only-of-type {\n",
       "        vertical-align: middle;\n",
       "    }\n",
       "\n",
       "    .dataframe tbody tr th {\n",
       "        vertical-align: top;\n",
       "    }\n",
       "\n",
       "    .dataframe thead th {\n",
       "        text-align: right;\n",
       "    }\n",
       "</style>\n",
       "<table border=\"1\" class=\"dataframe\">\n",
       "  <thead>\n",
       "    <tr style=\"text-align: right;\">\n",
       "      <th></th>\n",
       "      <th>description</th>\n",
       "      <th>taster_name</th>\n",
       "    </tr>\n",
       "  </thead>\n",
       "  <tbody>\n",
       "    <tr>\n",
       "      <td>0</td>\n",
       "      <td>A shy nose on this wine reveals hints of Mirabelle and creamy yeast. The palate has smooth and textured gentleness that seems to cushion the entir...</td>\n",
       "      <td>Anne Krebiehl MW</td>\n",
       "    </tr>\n",
       "    <tr>\n",
       "      <td>1</td>\n",
       "      <td>A mere whiff of creamy lemon appears on the shy nose of this wine. The palate keeps the lemon and cream theme on a buffered, rounded body that has...</td>\n",
       "      <td>Anne Krebiehl MW</td>\n",
       "    </tr>\n",
       "    <tr>\n",
       "      <td>2</td>\n",
       "      <td>Hints of butter and toast on the nose become more intense on the slender but beautifully fresh palate. This wine has ease and balance, with stone ...</td>\n",
       "      <td>Anne Krebiehl MW</td>\n",
       "    </tr>\n",
       "    <tr>\n",
       "      <td>3</td>\n",
       "      <td>Mirabelle and cream make for an attractive, inviting nose on this wine. Bright and fresh the palate comes with a tinge of toasty oak amid creamy l...</td>\n",
       "      <td>Anne Krebiehl MW</td>\n",
       "    </tr>\n",
       "    <tr>\n",
       "      <td>4</td>\n",
       "      <td>A fruity confection of strawberry flavors, this wine is softly textured and rounded. The acidity is just enough to give the wine freshness at the ...</td>\n",
       "      <td>Roger Voss</td>\n",
       "    </tr>\n",
       "  </tbody>\n",
       "</table>\n",
       "</div>"
      ],
      "text/plain": [
       "                                                                                                                                             description  \\\n",
       "0  A shy nose on this wine reveals hints of Mirabelle and creamy yeast. The palate has smooth and textured gentleness that seems to cushion the entir...   \n",
       "1  A mere whiff of creamy lemon appears on the shy nose of this wine. The palate keeps the lemon and cream theme on a buffered, rounded body that has...   \n",
       "2  Hints of butter and toast on the nose become more intense on the slender but beautifully fresh palate. This wine has ease and balance, with stone ...   \n",
       "3  Mirabelle and cream make for an attractive, inviting nose on this wine. Bright and fresh the palate comes with a tinge of toasty oak amid creamy l...   \n",
       "4  A fruity confection of strawberry flavors, this wine is softly textured and rounded. The acidity is just enough to give the wine freshness at the ...   \n",
       "\n",
       "        taster_name  \n",
       "0  Anne Krebiehl MW  \n",
       "1  Anne Krebiehl MW  \n",
       "2  Anne Krebiehl MW  \n",
       "3  Anne Krebiehl MW  \n",
       "4        Roger Voss  "
      ]
     },
     "execution_count": 57,
     "metadata": {},
     "output_type": "execute_result"
    }
   ],
   "source": [
    "# Examine the decription column basic info.\n",
    "print(wine_df.shape[0])\n",
    "print(wine_df['description'].isnull().sum())\n",
    "pd.options.display.max_colwidth = 150\n",
    "wine_df[['description','taster_name']].head()"
   ]
  },
  {
   "cell_type": "code",
   "execution_count": 58,
   "metadata": {},
   "outputs": [
    {
     "data": {
      "text/plain": [
       "38535    The dry years produced a concentrated wine at this estate. Intense red-currant fruits partners with the crisp acidity. This ripe, full-flavored wi...\n",
       "38542    For a Provence rosé, this has a definite pink color. It also has plenty of weight to match its colorful character. The raspberry fruit and bright ...\n",
       "38543    This ripe wine is a blend of Grenache, Syrah, Cinsault and white Vermentino. It offers brilliant red-fruit flavors, crisp acidity and a light, bri...\n",
       "Name: description, dtype: object"
      ]
     },
     "execution_count": 58,
     "metadata": {},
     "output_type": "execute_result"
    }
   ],
   "source": [
    "# Check the description info for taster-Roger Voss\n",
    "wine_df['description'][wine_df.taster_name == 'Roger Voss'].tail(3)"
   ]
  },
  {
   "cell_type": "markdown",
   "metadata": {},
   "source": [
    "## Text Data Clearning"
   ]
  },
  {
   "cell_type": "code",
   "execution_count": 59,
   "metadata": {},
   "outputs": [],
   "source": [
    "import re\n",
    "import nltk\n",
    "from nltk.corpus import stopwords\n",
    "from collections import Counter\n"
   ]
  },
  {
   "cell_type": "markdown",
   "metadata": {},
   "source": [
    "In this project, during the text pre-processing what I am going to do:\n",
    "\n",
    "  1. Lowercase\n",
    "  2. Removing stopwords, bracket, punctuation and numbers\n",
    "  \n",
    "Not to going to use: Lemmatization and Stemming. Stemming removes the last few characters in a word, often leading to incorrect meanings and spelling errors, or making the words un-recognizable. And lemmatization also cause some un-recognizable words, for example: nerthe, proffer, petaluma etc.\n",
    "\n",
    "I should try not to do too much of text pre-processing for the description text, because most of the description are short (less than 300 words), removing more words risks of losing meaning."
   ]
  },
  {
   "cell_type": "code",
   "execution_count": 60,
   "metadata": {},
   "outputs": [
    {
     "data": {
      "text/plain": [
       "0    a shy nose on this wine reveals hints of mirabelle and creamy yeast. the palate has smooth and textured gentleness that seems to cushion the entir...\n",
       "1    a mere whiff of creamy lemon appears on the shy nose of this wine. the palate keeps the lemon and cream theme on a buffered, rounded body that has...\n",
       "2    hints of butter and toast on the nose become more intense on the slender but beautifully fresh palate. this wine has ease and balance, with stone ...\n",
       "Name: description_c, dtype: object"
      ]
     },
     "execution_count": 60,
     "metadata": {},
     "output_type": "execute_result"
    }
   ],
   "source": [
    "# Clean text data\n",
    "wine_df['description_c']= wine_df['description'].copy()\n",
    "wine_df['description_c'] = wine_df['description_c'].str.lower()\n",
    "wine_df['description_c'] = wine_df['description_c'].str.lower()\n",
    "wine_df['description_c'] = wine_df['description_c'].str.replace('-','')\n",
    "wine_df['description_c'] = wine_df['description_c'].str.replace('/','')\n",
    "wine_df['description_c'] = wine_df['description_c'].str.replace(r'w*\\d\\w*','')\n",
    "wine_df['description_c'] = wine_df['description_c'].str.replace('%','')\n",
    "wine_df['description_c'] = wine_df['description_c'].str.replace(r'[\\[].*?[\\]]','')\n",
    "wine_df['description_c'] = wine_df['description_c'].str.replace(r'\\t\\n\\r\\f\\v','')\n",
    "\n",
    "wine_df['description_c'] = wine_df['description_c'].str.strip()\n",
    "wine_df['description_c'].head(3)"
   ]
  },
  {
   "cell_type": "code",
   "execution_count": 61,
   "metadata": {},
   "outputs": [
    {
     "data": {
      "image/png": "[encoded data removed]",
      "text/plain": [
       "<Figure size 432x288 with 1 Axes>"
      ]
     },
     "metadata": {
      "needs_background": "light"
     },
     "output_type": "display_data"
    }
   ],
   "source": [
    "# check at the same rating points how many wines descriptions there have.\n",
    "y = wine_df.groupby(['rating_points']).description.agg([len]).plot.bar()\n",
    "\n",
    "plt.ylabel('Number of wine description', fontsize=12)\n",
    "plt.show()"
   ]
  },
  {
   "cell_type": "markdown",
   "metadata": {},
   "source": [
    "The distribution between rating_points and wine description seems normal distribution as shown in the above figure.\n",
    "\n",
    "Now let's take a look what is relationship between these two parameters. In other words, we will build supervised machinge learning models to predict the rating points for a certain wine using wine description."
   ]
  },
  {
   "cell_type": "markdown",
   "metadata": {},
   "source": [
    "### 1. Supervised NLP models\n",
    "In this supervised learning models, the description text column is used as independent variable and rating_points as target varible.The target variable-rating_points is numerical hence several regression algorithms will be applied here.\n",
    "\n",
    "Linear algorithms:  - Linear Regression \n",
    "                    - Ridge Regression \n",
    "                    - Lasso Regression \n",
    "                    - ElasticNet Regression\n",
    "\n",
    "Nonlinear algorithms: - Random Forest  \n",
    "                      - GradientBoosting \n",
    "                      - Support Vector Machines\n",
    "\n",
    "GridSearchCV was used to tune hyperparameters. Cross validation and metrics were applied for evaluating the models.\n",
    "\n",
    "For the supervised models, the first step is feature engineering to convert text data into numerical form. Here, both Bag of Words (BoW) and TF-IDF from scikit-learn library were used to create document-term matrices. The scores from both techniques were compared and then decided which technique to be select for supervised models.\n",
    "\n",
    "### BOW and TF-IDF\n",
    "Now let's take a look feature engineering step: CountVectorizer (BOW) and TfidfVectorizer (TF-IDF). Also, it is worth mentioning here that for tuning CountVectorizer and TfidfVectorizer hyperparameters ngram_range, max_features, max_df and min_df were considered. The details about tuning those parameters are not shown here. And the parameters as displayed in the following sections are the best results through tuning step."
   ]
  },
  {
   "cell_type": "code",
   "execution_count": 62,
   "metadata": {},
   "outputs": [
    {
     "name": "stdout",
     "output_type": "stream",
     "text": [
      "The number of observations in training set is 22133\n",
      "The number of observations in test set is 7378\n",
      "-------------------Linear Regression Scores by BOW------------------\n",
      "[0.61462086 0.60455843 0.62774801 0.6149004  0.61175232]\n",
      "\n",
      "Accuracy for train set: 0.615 (+/- 0.015)\n",
      "\n",
      "Training set score: 0.7060189160324305\n",
      "\n",
      "Test set score: 0.6312742881567138\n"
     ]
    }
   ],
   "source": [
    "#BOW \n",
    "\n",
    "from sklearn.feature_extraction.text import CountVectorizer\n",
    "Y1 = wine_df['rating_points']\n",
    "x1 = wine_df['description_c']\n",
    "cvect = CountVectorizer(stop_words='english',\n",
    "                    lowercase=True,\n",
    "                    analyzer='word', \n",
    "                    max_df=1.0, \n",
    "                    min_df=5,\n",
    "                    ngram_range=(1, 1),\n",
    "                    max_features=2250,\n",
    "                    vocabulary=None, \n",
    "                    binary=False)\n",
    "\n",
    "X1 = cvect.fit_transform(x1)\n",
    "\n",
    "\n",
    "# Linear regression model used here for comparing BOW and TF-IDF\n",
    "\n",
    "from sklearn.linear_model import LinearRegression\n",
    "from sklearn.model_selection import train_test_split\n",
    "from sklearn.model_selection import cross_val_score\n",
    "\n",
    "# We split the dataset into train and test sets\n",
    "X1_train, X1_test, y1_train, y1_test = train_test_split(X1, Y1, test_size=0.25, random_state=123)\n",
    "print(\"The number of observations in training set is {}\".format(X1_train.shape[0]))\n",
    "print(\"The number of observations in test set is {}\".format(X1_test.shape[0]))\n",
    "\n",
    "# Models\n",
    "lrm = LinearRegression()\n",
    "\n",
    "lrm.fit(X1_train, y1_train)\n",
    "\n",
    "score = cross_val_score(lrm, X1_train, y1_train, cv=5)\n",
    "\n",
    "print(\"-------------------Linear Regression Scores by BOW------------------\")\n",
    "print(score)\n",
    "print(\"\\nAccuracy for train set: %0.3f (+/- %0.3f)\" % (score.mean(), score.std() * 2))\n",
    "print('\\nTraining set score:', lrm.score(X1_train, y1_train))\n",
    "print('\\nTest set score:', lrm.score(X1_test, y1_test))"
   ]
  },
  {
   "cell_type": "code",
   "execution_count": 63,
   "metadata": {},
   "outputs": [
    {
     "name": "stdout",
     "output_type": "stream",
     "text": [
      "The number of observations in training set is 22133\n",
      "The number of observations in test set is 7378\n",
      "-----------------Linear Regression Scores by TF-IDF------------------\n",
      "Training set score: 0.7136839910670633\n",
      "\n",
      "Test set score: 0.647320407454026\n"
     ]
    }
   ],
   "source": [
    "\n",
    "# TF-IDF\n",
    "\n",
    "from sklearn.feature_extraction.text import TfidfVectorizer\n",
    "Y = wine_df['rating_points']\n",
    "x = wine_df['description_c']\n",
    "\n",
    "tfv = TfidfVectorizer(stop_words='english',\n",
    "                    lowercase=True,\n",
    "                    analyzer='word', \n",
    "                    max_df=1.0, \n",
    "                    min_df=1,\n",
    "                    ngram_range=(1, 1),\n",
    "                    max_features=2250,\n",
    "                    vocabulary=None, \n",
    "                    binary=False)\n",
    "\n",
    "X = tfv.fit_transform(x1)\n",
    "\n",
    "# Getting the word list.\n",
    "terms = tfv.get_feature_names()\n",
    "\n",
    "X_train, X_test, y_train, y_test = train_test_split(X, Y, test_size=0.25, random_state=123)\n",
    "\n",
    "print(\"The number of observations in training set is {}\".format(X_train.shape[0]))\n",
    "print(\"The number of observations in test set is {}\".format(X_test.shape[0]))\n",
    "\n",
    "# Models\n",
    "lr = LinearRegression()\n",
    "\n",
    "lr.fit(X_train, y_train)\n",
    "y_preds_test = lr.predict(X_test)\n",
    "\n",
    "print(\"-----------------Linear Regression Scores by TF-IDF------------------\")\n",
    "print('Training set score:', lr.score(X_train, y_train))\n",
    "print('\\nTest set score:', lr.score(X_test, y_test))"
   ]
  },
  {
   "cell_type": "code",
   "execution_count": 64,
   "metadata": {},
   "outputs": [
    {
     "name": "stdout",
     "output_type": "stream",
     "text": [
      "---------------Linear Regression Scores by BOW----------------\n",
      "Training set score_BOW:0.706\n",
      "\n",
      "Test set score_BOW:0.631\n",
      "\n",
      "-------------Linear Regression Scores by TF-IDF-------------\n",
      "Training set score_TFIDF:0.714\n",
      "\n",
      "Test set score_TFIDF:0.647\n"
     ]
    }
   ],
   "source": [
    "print(\"---------------Linear Regression Scores by BOW----------------\")\n",
    "print('Training set score_BOW:%0.3f' % lrm.score(X1_train, y1_train))\n",
    "print('\\nTest set score_BOW:%0.3f' % lrm.score(X1_test, y1_test))\n",
    "print(\"\\n-------------Linear Regression Scores by TF-IDF-------------\")\n",
    "print('Training set score_TFIDF:%0.3f' % lr.score(X_train, y_train))\n",
    "print('\\nTest set score_TFIDF:%0.3f' % lr.score(X_test, y_test))"
   ]
  },
  {
   "cell_type": "markdown",
   "metadata": {},
   "source": [
    "### Linear Regression"
   ]
  },
  {
   "cell_type": "code",
   "execution_count": 65,
   "metadata": {},
   "outputs": [
    {
     "name": "stdout",
     "output_type": "stream",
     "text": [
      "Accu_train_lr: 0.7136839910670633\n",
      "Accu_test_lr: 0.647320407454026\n",
      "Runtime_lr: 0.4770045089999968 Seconds\n"
     ]
    }
   ],
   "source": [
    "\n",
    "from sklearn.metrics import mean_absolute_error\n",
    "from statsmodels.tools.eval_measures import mse, rmse\n",
    "#import statsmodels.api as sm\n",
    "\n",
    "Y = wine_df['rating_points']\n",
    "x = wine_df['description_c']\n",
    "\n",
    "tfv = TfidfVectorizer(stop_words='english',\n",
    "                    lowercase=True,\n",
    "                    analyzer='word', \n",
    "                    max_df=1.0, \n",
    "                    min_df=1,\n",
    "                    ngram_range=(1, 1),\n",
    "                    max_features=2250,\n",
    "                    vocabulary=None, \n",
    "                    binary=False)\n",
    "\n",
    "X = tfv.fit_transform(x)\n",
    "\n",
    "# Getting the word list.\n",
    "terms= tfv.get_feature_names()\n",
    "\n",
    "X_train, X_test, y_train, y_test = train_test_split(X, Y, test_size=0.25, random_state=123)\n",
    "\n",
    "import time\n",
    "start_time_lr = time.perf_counter()\n",
    "\n",
    "# Models\n",
    "lr = LinearRegression()\n",
    "\n",
    "lr.fit(X_train, y_train)\n",
    "y_preds_test_l = lr.predict(X_test)\n",
    "\n",
    "Accu_train_lr = lr.score(X_train, y_train)\n",
    "\n",
    "print(\"Accu_train_lr: {}\".format(Accu_train_lr))\n",
    "Accu_test_lr = lr.score(X_test, y_test)\n",
    "\n",
    "print(\"Accu_test_lr: {}\".format(Accu_test_lr))\n",
    "MAPE_lr = np.mean(np.abs((y_test - y_preds_test_l) / y_test)) * 100\n",
    "\n",
    "runtime_lr = time.perf_counter() - start_time_lr\n",
    "print(\"Runtime_lr: {} Seconds\".format(runtime_lr))"
   ]
  },
  {
   "cell_type": "markdown",
   "metadata": {},
   "source": [
    "### Ridge Linear Regression"
   ]
  },
  {
   "cell_type": "code",
   "execution_count": 66,
   "metadata": {},
   "outputs": [
    {
     "name": "stdout",
     "output_type": "stream",
     "text": [
      "Best alpha using built-in RidgeCV: 0.5\n",
      "Runtime_ridgecv: 4.662106006000002 Seconds\n"
     ]
    }
   ],
   "source": [
    "from sklearn.linear_model import RidgeCV\n",
    "\n",
    "# RidgeCV model\n",
    "start_time_r = time.perf_counter()\n",
    "\n",
    "alphas = [np.power(2.0,p) for p in np.arange(-10,10,1)]\n",
    "ridge_reg = RidgeCV(alphas=alphas, cv=5)\n",
    "\n",
    "\n",
    "ridge_reg.fit(X_train, y_train)\n",
    "\n",
    "y_preds_train_r = ridge_reg.predict(X_train)\n",
    "y_preds_test_r = ridge_reg.predict(X_test)\n",
    "\n",
    "Accu_train_ridge = ridge_reg.score(X_train, y_train)\n",
    "Accu_test_ridge = ridge_reg.score(X_test, y_test)\n",
    "MAPE_ridge = np.mean(np.abs((y_test - y_preds_test_r) / y_test)) * 100\n",
    "\n",
    "runtime_ridgecv = time.perf_counter() - start_time_r\n",
    "print(\"Best alpha using built-in RidgeCV: {}\".format(ridge_reg.alpha_))\n",
    "print(\"Runtime_ridgecv: {} Seconds\".format(runtime_ridgecv))"
   ]
  },
  {
   "cell_type": "markdown",
   "metadata": {},
   "source": [
    "### Lasso Linear Regression"
   ]
  },
  {
   "cell_type": "code",
   "execution_count": 67,
   "metadata": {},
   "outputs": [
    {
     "name": "stdout",
     "output_type": "stream",
     "text": [
      "Best alpha using built-in LassoCV: 1e-05\n",
      "Runtime_lassocv: 1303.1563190069999 Seconds\n"
     ]
    }
   ],
   "source": [
    "# LassoCV model\n",
    "\n",
    "from sklearn.linear_model import LassoCV\n",
    "start_time_la = time.perf_counter()\n",
    "\n",
    "alphas = [np.power(10.0,p) for p in np.arange(-10,5,1)]\n",
    "lasso_reg = LassoCV(alphas=alphas, cv=5)\n",
    "\n",
    "lasso_reg.fit(X_train, y_train)\n",
    "\n",
    "y_preds_train_la = lasso_reg.predict(X_train)\n",
    "y_preds_test_la = lasso_reg.predict(X_test)\n",
    "\n",
    "Accu_train_lasso = lasso_reg.score(X_train, y_train)\n",
    "Accu_test_lasso = lasso_reg.score(X_test, y_test)\n",
    "MAPE_lasso = np.mean(np.abs((y_test - y_preds_test_la) / y_test)) * 100\n",
    "\n",
    "runtime_lassocv = time.perf_counter() - start_time_la\n",
    "print(\"Best alpha using built-in LassoCV: {}\".format(lasso_reg.alpha_))\n",
    "print(\"Runtime_lassocv: {} Seconds\".format(runtime_lassocv))"
   ]
  },
  {
   "cell_type": "markdown",
   "metadata": {},
   "source": [
    "### ElasticNet Regression"
   ]
  },
  {
   "cell_type": "code",
   "execution_count": 68,
   "metadata": {},
   "outputs": [
    {
     "name": "stdout",
     "output_type": "stream",
     "text": [
      "Best alpha using built-in ElasticNetCV: 1e-05\n",
      "Runtime_elasticnetcv: 1414.439439964 Seconds\n"
     ]
    }
   ],
   "source": [
    "\n",
    "# ElasticNetCV Model.\n",
    "from sklearn.linear_model import ElasticNetCV\n",
    "\n",
    "start_time_e = time.perf_counter()\n",
    "\n",
    "alphas = [np.power(10.0,p) for p in np.arange(-10,4,1)]\n",
    "elasticnet_cv = ElasticNetCV(alphas=alphas, cv=5)\n",
    "\n",
    "elasticnet_cv.fit(X_train, y_train)\n",
    "\n",
    "y_preds_train_e = elasticnet_cv.predict(X_train)\n",
    "y_preds_test_e = elasticnet_cv.predict(X_test)\n",
    "\n",
    "Accu_train_el = elasticnet_cv.score(X_train, y_train)\n",
    "Accu_test_el = elasticnet_cv.score(X_test, y_test)\n",
    "MAPE_el = np.mean(np.abs((y_test - y_preds_test_e) / y_test)) * 100\n",
    "\n",
    "runtime_elasticnetcv = time.perf_counter() - start_time_e\n",
    "\n",
    "print(\"Best alpha using built-in ElasticNetCV: {}\".format(elasticnet_cv.alpha_))\n",
    "print(\"Runtime_elasticnetcv: {} Seconds\".format(runtime_elasticnetcv))"
   ]
  },
  {
   "cell_type": "code",
   "execution_count": 69,
   "metadata": {},
   "outputs": [
    {
     "data": {
      "text/plain": [
       "[1e-10,\n",
       " 1e-09,\n",
       " 1e-08,\n",
       " 1e-07,\n",
       " 1e-06,\n",
       " 1e-05,\n",
       " 0.0001,\n",
       " 0.001,\n",
       " 0.01,\n",
       " 0.1,\n",
       " 1.0,\n",
       " 10.0,\n",
       " 100.0,\n",
       " 1000.0]"
      ]
     },
     "execution_count": 69,
     "metadata": {},
     "output_type": "execute_result"
    }
   ],
   "source": [
    "alphas = [np.power(10.0,p) for p in np.arange(-10,4,1)]\n",
    "alphas"
   ]
  },
  {
   "cell_type": "markdown",
   "metadata": {},
   "source": [
    "### Findings for Linear Algorithms"
   ]
  },
  {
   "cell_type": "code",
   "execution_count": 70,
   "metadata": {},
   "outputs": [
    {
     "name": "stdout",
     "output_type": "stream",
     "text": [
      "----------------------Linear Regression ----------------------\n",
      "Runtime_lr: 0.4770045089999968 Seconds\n",
      "----------------------------------------\n",
      "Accuracy of the model in the training set is: 0.7136839910670633\n",
      "Accuracy of the model in the test set is: 0.647320407454026\n",
      "----------------------------------------\n",
      "Mean absolute error of the prediction is: 1.3581150865457075\n",
      "Mean squared error of the prediction is: 3.0112980943558836\n",
      "Root mean squared error of the prediction is: 1.7353092215383066\n",
      "Mean absolute percentage error of the prediction is: 1.5217111933452059\n",
      "\n",
      "----------------------Ridge Regression----------------------\n",
      "Best alpha using built-in RidgeCV: 0.5\n",
      "----------------------------------------\n",
      "Runtime_ridgecv: 4.662106006000002 Seconds\n",
      "----------------------------------------\n",
      "Accuracy of the model in the training set is: 0.7091715744353801\n",
      "Accuracy of the model in the test set is: 0.6505217307115\n",
      "----------------------------------------\n",
      "Mean absolute error of the prediction is: 1.3525196276993119\n",
      "Mean squared error of the prediction is: 2.9839641095481526\n",
      "Root mean squared error of the prediction is: 1.7274154420833896\n",
      "Mean absolute percentage error of the prediction is: 1.516028444563073\n",
      "\n",
      "----------------------Lasso Regression ----------------------\n",
      "Best alpha using built-in LassoCV: 1e-05\n",
      "----------------------------------------\n",
      "Runtime_lassocv: 1303.1563190069999 Seconds\n",
      "Accuracy of the model in the training set is: 0.7133856756966216\n",
      "Accuracy of the model in the test set is: 0.6479425299700563\n",
      "----------------------------------------\n",
      "Mean absolute error of the prediction is: 1.3571993551117263\n",
      "Mean squared error of the prediction is: 3.0059862011061096\n",
      "Root mean squared error of the prediction is: 1.7337780137913013\n",
      "Mean absolute percentage error of the prediction is: 1.5207868227041823\n",
      "\n",
      "----------------------ElasticNet Regression ----------------------\n",
      "Best alpha using built-in ElasticNetCV: 1e-05\n",
      "----------------------------------------\n",
      "Runtime_elasticnetcv: 1414.439439964 Seconds\n",
      "----------------------------------------\n",
      "Accuracy of the model in the training set is: 0.7129960053142796\n",
      "Accuracy of the model in the test set is: 0.6492380197709695\n",
      "----------------------------------------\n",
      "Mean absolute error of the prediction is: 1.3548192904579985\n",
      "Mean squared error of the prediction is: 2.994924869372721\n",
      "Root mean squared error of the prediction is: 1.7305851234113625\n",
      "Mean absolute percentage error of the prediction is: 1.518229099782747\n"
     ]
    }
   ],
   "source": [
    "# Linear, Lasso, Ridge, ElasticNet models running results.\n",
    "print(\"----------------------Linear Regression ----------------------\")\n",
    "print(\"Runtime_lr: {} Seconds\".format(runtime_lr))\n",
    "print(\"----------------------------------------\")\n",
    "print(\"Accuracy of the model in the training set is:\", Accu_train_lr)\n",
    "print(\"Accuracy of the model in the test set is:\", Accu_test_lr)\n",
    "print(\"----------------------------------------\")\n",
    "print(\"Mean absolute error of the prediction is: {}\".format(mean_absolute_error(y_test, y_preds_test_l)))\n",
    "print(\"Mean squared error of the prediction is: {}\".format(mse(y_test, y_preds_test_l)))\n",
    "print(\"Root mean squared error of the prediction is: {}\".format(rmse(y_test, y_preds_test_l)))\n",
    "print(\"Mean absolute percentage error of the prediction is:\", MAPE_lr)\n",
    "\n",
    "print(\"\\n----------------------Ridge Regression----------------------\")\n",
    "print(\"Best alpha using built-in RidgeCV: {}\".format(ridge_reg.alpha_))\n",
    "print(\"----------------------------------------\")\n",
    "print(\"Runtime_ridgecv: {} Seconds\".format(runtime_ridgecv))\n",
    "print(\"----------------------------------------\")\n",
    "print(\"Accuracy of the model in the training set is:\", Accu_train_ridge)\n",
    "print(\"Accuracy of the model in the test set is:\", Accu_test_ridge)\n",
    "print(\"----------------------------------------\")\n",
    "print(\"Mean absolute error of the prediction is: {}\".format(mean_absolute_error(y_test, y_preds_test_r)))\n",
    "print(\"Mean squared error of the prediction is: {}\".format(mse(y_test, y_preds_test_r)))\n",
    "print(\"Root mean squared error of the prediction is: {}\".format(rmse(y_test, y_preds_test_r)))\n",
    "print(\"Mean absolute percentage error of the prediction is:\", MAPE_ridge)\n",
    "\n",
    "print(\"\\n----------------------Lasso Regression ----------------------\")\n",
    "print(\"Best alpha using built-in LassoCV: {}\".format(lasso_reg.alpha_))\n",
    "print(\"----------------------------------------\")\n",
    "print(\"Runtime_lassocv: {} Seconds\".format(runtime_lassocv))\n",
    "print(\"Accuracy of the model in the training set is:\", Accu_train_lasso)\n",
    "print(\"Accuracy of the model in the test set is:\", Accu_test_lasso)\n",
    "print(\"----------------------------------------\")\n",
    "print(\"Mean absolute error of the prediction is: {}\".format(mean_absolute_error(y_test, y_preds_test_la)))\n",
    "print(\"Mean squared error of the prediction is: {}\".format(mse(y_test, y_preds_test_la)))\n",
    "print(\"Root mean squared error of the prediction is: {}\".format(rmse(y_test, y_preds_test_la)))\n",
    "print(\"Mean absolute percentage error of the prediction is:\", MAPE_lasso)\n",
    "\n",
    "print(\"\\n----------------------ElasticNet Regression ----------------------\")\n",
    "print(\"Best alpha using built-in ElasticNetCV: {}\".format(elasticnet_cv.alpha_))\n",
    "print(\"----------------------------------------\")\n",
    "print(\"Runtime_elasticnetcv: {} Seconds\".format(runtime_elasticnetcv))\n",
    "print(\"----------------------------------------\")\n",
    "print(\"Accuracy of the model in the training set is:\", Accu_train_el)\n",
    "print(\"Accuracy of the model in the test set is:\", Accu_test_el)\n",
    "print(\"----------------------------------------\")\n",
    "print(\"Mean absolute error of the prediction is: {}\".format(mean_absolute_error(y_test, y_preds_test_e)))\n",
    "print(\"Mean squared error of the prediction is: {}\".format(mse(y_test, y_preds_test_e)))\n",
    "print(\"Root mean squared error of the prediction is: {}\".format(rmse(y_test, y_preds_test_e)))\n",
    "print(\"Mean absolute percentage error of the prediction is:\", MAPE_el)"
   ]
  },
  {
   "cell_type": "code",
   "execution_count": 71,
   "metadata": {},
   "outputs": [
    {
     "data": {
      "image/png": "[encoded data removed]",
      "text/plain": [
       "<Figure size 1440x360 with 4 Axes>"
      ]
     },
     "metadata": {
      "needs_background": "light"
     },
     "output_type": "display_data"
    }
   ],
   "source": [
    "# Plot rating points true value and predict value for the test set.\n",
    "plt.figure(figsize= (20,5))\n",
    "plt.subplot(1, 4, 1)\n",
    "plt.scatter(y_test, y_preds_test_l)\n",
    "plt.plot(y_test, y_test, color='red')\n",
    "plt.xlabel(\"true values\")\n",
    "plt.ylabel(\"predicted values\")\n",
    "plt.title(\"Rating_points: true and predicted values_Linear\")\n",
    "\n",
    "plt.subplot(1, 4, 2)\n",
    "plt.scatter(y_test, y_preds_test_r)\n",
    "plt.plot(y_test, y_test, color='red')\n",
    "plt.xlabel(\"true values\")\n",
    "plt.ylabel(\"predicted values\")\n",
    "plt.title(\"Rating_points: true and predicted values_Ridge\")\n",
    "\n",
    "plt.subplot(1, 4, 3)\n",
    "plt.scatter(y_test, y_preds_test_la)\n",
    "plt.plot(y_test, y_test, color='red')\n",
    "plt.xlabel(\"true values\")\n",
    "plt.ylabel(\"predicted values\")\n",
    "plt.title(\"Rating_points: true and predicted values_Lasso\")\n",
    "\n",
    "plt.subplot(1, 4, 4)\n",
    "plt.scatter(y_test, y_preds_test_e)\n",
    "plt.plot(y_test, y_test, color='red')\n",
    "plt.xlabel(\"true values\")\n",
    "plt.ylabel(\"predicted values\")\n",
    "plt.title(\"Rating_points: true and predicted values_ElasticNet\")\n",
    "\n",
    "plt.show()"
   ]
  },
  {
   "cell_type": "markdown",
   "metadata": {},
   "source": [
    "\n",
    "From the above figures and the results, mean absolute percentage error of the prediction is about 1.54% indicating that the linear algorithm for predicting rating points using description variable is a good technique to be used here."
   ]
  },
  {
   "cell_type": "markdown",
   "metadata": {},
   "source": [
    "Next, let's take a look four linear models."
   ]
  },
  {
   "cell_type": "code",
   "execution_count": 72,
   "metadata": {},
   "outputs": [
    {
     "data": {
      "text/html": [
       "<div>\n",
       "<style scoped>\n",
       "    .dataframe tbody tr th:only-of-type {\n",
       "        vertical-align: middle;\n",
       "    }\n",
       "\n",
       "    .dataframe tbody tr th {\n",
       "        vertical-align: top;\n",
       "    }\n",
       "\n",
       "    .dataframe thead th {\n",
       "        text-align: right;\n",
       "    }\n",
       "</style>\n",
       "<table border=\"1\" class=\"dataframe\">\n",
       "  <thead>\n",
       "    <tr style=\"text-align: right;\">\n",
       "      <th></th>\n",
       "      <th>0</th>\n",
       "    </tr>\n",
       "  </thead>\n",
       "  <tbody>\n",
       "    <tr>\n",
       "      <td>harsh</td>\n",
       "      <td>-4.113649</td>\n",
       "    </tr>\n",
       "    <tr>\n",
       "      <td>stale</td>\n",
       "      <td>-4.090387</td>\n",
       "    </tr>\n",
       "    <tr>\n",
       "      <td>dull</td>\n",
       "      <td>-3.822855</td>\n",
       "    </tr>\n",
       "    <tr>\n",
       "      <td>lacks</td>\n",
       "      <td>-3.639057</td>\n",
       "    </tr>\n",
       "    <tr>\n",
       "      <td>flabby</td>\n",
       "      <td>-3.503532</td>\n",
       "    </tr>\n",
       "    <tr>\n",
       "      <td>...</td>\n",
       "      <td>...</td>\n",
       "    </tr>\n",
       "    <tr>\n",
       "      <td>noble</td>\n",
       "      <td>7.263305</td>\n",
       "    </tr>\n",
       "    <tr>\n",
       "      <td>stunning</td>\n",
       "      <td>7.328969</td>\n",
       "    </tr>\n",
       "    <tr>\n",
       "      <td>memorable</td>\n",
       "      <td>8.830231</td>\n",
       "    </tr>\n",
       "    <tr>\n",
       "      <td>tremendous</td>\n",
       "      <td>8.886337</td>\n",
       "    </tr>\n",
       "    <tr>\n",
       "      <td>superb</td>\n",
       "      <td>9.078921</td>\n",
       "    </tr>\n",
       "  </tbody>\n",
       "</table>\n",
       "<p>2250 rows × 1 columns</p>\n",
       "</div>"
      ],
      "text/plain": [
       "                   0\n",
       "harsh      -4.113649\n",
       "stale      -4.090387\n",
       "dull       -3.822855\n",
       "lacks      -3.639057\n",
       "flabby     -3.503532\n",
       "...              ...\n",
       "noble       7.263305\n",
       "stunning    7.328969\n",
       "memorable   8.830231\n",
       "tremendous  8.886337\n",
       "superb      9.078921\n",
       "\n",
       "[2250 rows x 1 columns]"
      ]
     },
     "execution_count": 72,
     "metadata": {},
     "output_type": "execute_result"
    }
   ],
   "source": [
    "# Check coeffcient info for Linear, Ridge, Lasso and ElasticeNet\n",
    "pd.DataFrame(lr.coef_.reshape(1,-1), columns= terms).transpose().sort_values(0)"
   ]
  },
  {
   "cell_type": "code",
   "execution_count": 73,
   "metadata": {},
   "outputs": [
    {
     "data": {
      "text/html": [
       "<div>\n",
       "<style scoped>\n",
       "    .dataframe tbody tr th:only-of-type {\n",
       "        vertical-align: middle;\n",
       "    }\n",
       "\n",
       "    .dataframe tbody tr th {\n",
       "        vertical-align: top;\n",
       "    }\n",
       "\n",
       "    .dataframe thead th {\n",
       "        text-align: right;\n",
       "    }\n",
       "</style>\n",
       "<table border=\"1\" class=\"dataframe\">\n",
       "  <thead>\n",
       "    <tr style=\"text-align: right;\">\n",
       "      <th></th>\n",
       "      <th>0</th>\n",
       "    </tr>\n",
       "  </thead>\n",
       "  <tbody>\n",
       "    <tr>\n",
       "      <td>harsh</td>\n",
       "      <td>-4.389396</td>\n",
       "    </tr>\n",
       "    <tr>\n",
       "      <td>dull</td>\n",
       "      <td>-4.133242</td>\n",
       "    </tr>\n",
       "    <tr>\n",
       "      <td>stale</td>\n",
       "      <td>-4.048403</td>\n",
       "    </tr>\n",
       "    <tr>\n",
       "      <td>lacks</td>\n",
       "      <td>-3.937066</td>\n",
       "    </tr>\n",
       "    <tr>\n",
       "      <td>flat</td>\n",
       "      <td>-3.703919</td>\n",
       "    </tr>\n",
       "    <tr>\n",
       "      <td>...</td>\n",
       "      <td>...</td>\n",
       "    </tr>\n",
       "    <tr>\n",
       "      <td>improve</td>\n",
       "      <td>6.593435</td>\n",
       "    </tr>\n",
       "    <tr>\n",
       "      <td>stunning</td>\n",
       "      <td>6.650165</td>\n",
       "    </tr>\n",
       "    <tr>\n",
       "      <td>superb</td>\n",
       "      <td>7.122142</td>\n",
       "    </tr>\n",
       "    <tr>\n",
       "      <td>tremendous</td>\n",
       "      <td>7.246675</td>\n",
       "    </tr>\n",
       "    <tr>\n",
       "      <td>memorable</td>\n",
       "      <td>7.539926</td>\n",
       "    </tr>\n",
       "  </tbody>\n",
       "</table>\n",
       "<p>2250 rows × 1 columns</p>\n",
       "</div>"
      ],
      "text/plain": [
       "                   0\n",
       "harsh      -4.389396\n",
       "dull       -4.133242\n",
       "stale      -4.048403\n",
       "lacks      -3.937066\n",
       "flat       -3.703919\n",
       "...              ...\n",
       "improve     6.593435\n",
       "stunning    6.650165\n",
       "superb      7.122142\n",
       "tremendous  7.246675\n",
       "memorable   7.539926\n",
       "\n",
       "[2250 rows x 1 columns]"
      ]
     },
     "execution_count": 73,
     "metadata": {},
     "output_type": "execute_result"
    }
   ],
   "source": [
    "pd.DataFrame(ridge_reg.coef_.reshape(1,-1), columns= terms).transpose().sort_values(0)"
   ]
  },
  {
   "cell_type": "code",
   "execution_count": 74,
   "metadata": {},
   "outputs": [
    {
     "data": {
      "text/html": [
       "<div>\n",
       "<style scoped>\n",
       "    .dataframe tbody tr th:only-of-type {\n",
       "        vertical-align: middle;\n",
       "    }\n",
       "\n",
       "    .dataframe tbody tr th {\n",
       "        vertical-align: top;\n",
       "    }\n",
       "\n",
       "    .dataframe thead th {\n",
       "        text-align: right;\n",
       "    }\n",
       "</style>\n",
       "<table border=\"1\" class=\"dataframe\">\n",
       "  <thead>\n",
       "    <tr style=\"text-align: right;\">\n",
       "      <th></th>\n",
       "      <th>0</th>\n",
       "    </tr>\n",
       "  </thead>\n",
       "  <tbody>\n",
       "    <tr>\n",
       "      <td>harsh</td>\n",
       "      <td>-4.287777</td>\n",
       "    </tr>\n",
       "    <tr>\n",
       "      <td>stale</td>\n",
       "      <td>-4.202202</td>\n",
       "    </tr>\n",
       "    <tr>\n",
       "      <td>dull</td>\n",
       "      <td>-3.996761</td>\n",
       "    </tr>\n",
       "    <tr>\n",
       "      <td>lacks</td>\n",
       "      <td>-3.735526</td>\n",
       "    </tr>\n",
       "    <tr>\n",
       "      <td>flabby</td>\n",
       "      <td>-3.578437</td>\n",
       "    </tr>\n",
       "    <tr>\n",
       "      <td>...</td>\n",
       "      <td>...</td>\n",
       "    </tr>\n",
       "    <tr>\n",
       "      <td>noble</td>\n",
       "      <td>7.122535</td>\n",
       "    </tr>\n",
       "    <tr>\n",
       "      <td>stunning</td>\n",
       "      <td>7.290979</td>\n",
       "    </tr>\n",
       "    <tr>\n",
       "      <td>memorable</td>\n",
       "      <td>8.702548</td>\n",
       "    </tr>\n",
       "    <tr>\n",
       "      <td>tremendous</td>\n",
       "      <td>8.732873</td>\n",
       "    </tr>\n",
       "    <tr>\n",
       "      <td>superb</td>\n",
       "      <td>8.949971</td>\n",
       "    </tr>\n",
       "  </tbody>\n",
       "</table>\n",
       "<p>2250 rows × 1 columns</p>\n",
       "</div>"
      ],
      "text/plain": [
       "                   0\n",
       "harsh      -4.287777\n",
       "stale      -4.202202\n",
       "dull       -3.996761\n",
       "lacks      -3.735526\n",
       "flabby     -3.578437\n",
       "...              ...\n",
       "noble       7.122535\n",
       "stunning    7.290979\n",
       "memorable   8.702548\n",
       "tremendous  8.732873\n",
       "superb      8.949971\n",
       "\n",
       "[2250 rows x 1 columns]"
      ]
     },
     "execution_count": 74,
     "metadata": {},
     "output_type": "execute_result"
    }
   ],
   "source": [
    "pd.DataFrame(lasso_reg.coef_.reshape(1,-1), columns= terms).transpose().sort_values(0)"
   ]
  },
  {
   "cell_type": "code",
   "execution_count": 75,
   "metadata": {},
   "outputs": [
    {
     "data": {
      "text/html": [
       "<div>\n",
       "<style scoped>\n",
       "    .dataframe tbody tr th:only-of-type {\n",
       "        vertical-align: middle;\n",
       "    }\n",
       "\n",
       "    .dataframe tbody tr th {\n",
       "        vertical-align: top;\n",
       "    }\n",
       "\n",
       "    .dataframe thead th {\n",
       "        text-align: right;\n",
       "    }\n",
       "</style>\n",
       "<table border=\"1\" class=\"dataframe\">\n",
       "  <thead>\n",
       "    <tr style=\"text-align: right;\">\n",
       "      <th></th>\n",
       "      <th>0</th>\n",
       "    </tr>\n",
       "  </thead>\n",
       "  <tbody>\n",
       "    <tr>\n",
       "      <td>harsh</td>\n",
       "      <td>-4.313252</td>\n",
       "    </tr>\n",
       "    <tr>\n",
       "      <td>stale</td>\n",
       "      <td>-4.152339</td>\n",
       "    </tr>\n",
       "    <tr>\n",
       "      <td>dull</td>\n",
       "      <td>-4.017767</td>\n",
       "    </tr>\n",
       "    <tr>\n",
       "      <td>lacks</td>\n",
       "      <td>-3.779630</td>\n",
       "    </tr>\n",
       "    <tr>\n",
       "      <td>flabby</td>\n",
       "      <td>-3.562465</td>\n",
       "    </tr>\n",
       "    <tr>\n",
       "      <td>...</td>\n",
       "      <td>...</td>\n",
       "    </tr>\n",
       "    <tr>\n",
       "      <td>improve</td>\n",
       "      <td>6.889608</td>\n",
       "    </tr>\n",
       "    <tr>\n",
       "      <td>stunning</td>\n",
       "      <td>7.147919</td>\n",
       "    </tr>\n",
       "    <tr>\n",
       "      <td>tremendous</td>\n",
       "      <td>8.383007</td>\n",
       "    </tr>\n",
       "    <tr>\n",
       "      <td>memorable</td>\n",
       "      <td>8.442481</td>\n",
       "    </tr>\n",
       "    <tr>\n",
       "      <td>superb</td>\n",
       "      <td>8.481423</td>\n",
       "    </tr>\n",
       "  </tbody>\n",
       "</table>\n",
       "<p>2250 rows × 1 columns</p>\n",
       "</div>"
      ],
      "text/plain": [
       "                   0\n",
       "harsh      -4.313252\n",
       "stale      -4.152339\n",
       "dull       -4.017767\n",
       "lacks      -3.779630\n",
       "flabby     -3.562465\n",
       "...              ...\n",
       "improve     6.889608\n",
       "stunning    7.147919\n",
       "tremendous  8.383007\n",
       "memorable   8.442481\n",
       "superb      8.481423\n",
       "\n",
       "[2250 rows x 1 columns]"
      ]
     },
     "execution_count": 75,
     "metadata": {},
     "output_type": "execute_result"
    }
   ],
   "source": [
    "pd.DataFrame(elasticnet_cv.coef_.reshape(1,-1), columns= terms).transpose().sort_values(0)"
   ]
  },
  {
   "cell_type": "code",
   "execution_count": 76,
   "metadata": {},
   "outputs": [],
   "source": [
    "# Check coefficient No used in the models\n",
    "coeff_used_lr = np.sum(lr.coef_!=0)\n",
    "coeff_used_rid = np.sum(ridge_reg.coef_!=0)\n",
    "coeff_used_las = np.sum(lasso_reg.coef_!=0)\n",
    "coeff_used_el = np.sum(elasticnet_cv.coef_!=0)"
   ]
  },
  {
   "cell_type": "code",
   "execution_count": 77,
   "metadata": {},
   "outputs": [],
   "source": [
    "# Define Lamdel used for Ridge, Lasso and ElasticNet for the linear_comparison table used below.\n",
    "lambda_rigde = ridge_reg.alpha_\n",
    "lambda_lasso = lasso_reg.alpha_\n",
    "lambda_elast = elasticnet_cv.alpha_"
   ]
  },
  {
   "cell_type": "code",
   "execution_count": 78,
   "metadata": {},
   "outputs": [
    {
     "data": {
      "text/html": [
       "<div>\n",
       "<style scoped>\n",
       "    .dataframe tbody tr th:only-of-type {\n",
       "        vertical-align: middle;\n",
       "    }\n",
       "\n",
       "    .dataframe tbody tr th {\n",
       "        vertical-align: top;\n",
       "    }\n",
       "\n",
       "    .dataframe thead th {\n",
       "        text-align: right;\n",
       "    }\n",
       "</style>\n",
       "<table border=\"1\" class=\"dataframe\">\n",
       "  <thead>\n",
       "    <tr style=\"text-align: right;\">\n",
       "      <th></th>\n",
       "      <th>Model</th>\n",
       "      <th>Accuracy_train</th>\n",
       "      <th>Accuracy_test</th>\n",
       "      <th>MAPError</th>\n",
       "      <th>No of Coefficient used</th>\n",
       "      <th>lambda</th>\n",
       "      <th>Run_time</th>\n",
       "    </tr>\n",
       "  </thead>\n",
       "  <tbody>\n",
       "    <tr>\n",
       "      <td>1</td>\n",
       "      <td>Ridge</td>\n",
       "      <td>0.709172</td>\n",
       "      <td>0.650522</td>\n",
       "      <td>1.516028</td>\n",
       "      <td>2250</td>\n",
       "      <td>0.50000</td>\n",
       "      <td>4.662106</td>\n",
       "    </tr>\n",
       "    <tr>\n",
       "      <td>3</td>\n",
       "      <td>Elasticnet</td>\n",
       "      <td>0.712996</td>\n",
       "      <td>0.649238</td>\n",
       "      <td>1.518229</td>\n",
       "      <td>2234</td>\n",
       "      <td>0.00001</td>\n",
       "      <td>1414.439440</td>\n",
       "    </tr>\n",
       "    <tr>\n",
       "      <td>2</td>\n",
       "      <td>Lasso</td>\n",
       "      <td>0.713386</td>\n",
       "      <td>0.647943</td>\n",
       "      <td>1.520787</td>\n",
       "      <td>2220</td>\n",
       "      <td>0.00001</td>\n",
       "      <td>1303.156319</td>\n",
       "    </tr>\n",
       "    <tr>\n",
       "      <td>0</td>\n",
       "      <td>Linear</td>\n",
       "      <td>0.713684</td>\n",
       "      <td>0.647320</td>\n",
       "      <td>1.521711</td>\n",
       "      <td>2250</td>\n",
       "      <td>0.00000</td>\n",
       "      <td>0.477005</td>\n",
       "    </tr>\n",
       "  </tbody>\n",
       "</table>\n",
       "</div>"
      ],
      "text/plain": [
       "        Model  Accuracy_train  Accuracy_test  MAPError  \\\n",
       "1       Ridge        0.709172       0.650522  1.516028   \n",
       "3  Elasticnet        0.712996       0.649238  1.518229   \n",
       "2       Lasso        0.713386       0.647943  1.520787   \n",
       "0      Linear        0.713684       0.647320  1.521711   \n",
       "\n",
       "   No of Coefficient used   lambda     Run_time  \n",
       "1                    2250  0.50000     4.662106  \n",
       "3                    2234  0.00001  1414.439440  \n",
       "2                    2220  0.00001  1303.156319  \n",
       "0                    2250  0.00000     0.477005  "
      ]
     },
     "execution_count": 78,
     "metadata": {},
     "output_type": "execute_result"
    }
   ],
   "source": [
    "\n",
    "# Compare linear models. \n",
    "Linear_comparison = pd.DataFrame({\n",
    "    'Model':['Linear', 'Ridge','Lasso', 'Elasticnet'],\n",
    "    'Accuracy_train':[Accu_train_lr, Accu_train_ridge, Accu_train_lasso, Accu_train_el],\n",
    "    'Accuracy_test':[Accu_test_lr, Accu_test_ridge, Accu_test_lasso, Accu_test_el],\n",
    "    'MAPError':[MAPE_lr, MAPE_ridge, MAPE_lasso, MAPE_el],\n",
    "    'No of Coefficient used':[coeff_used_lr, coeff_used_rid, coeff_used_las, coeff_used_el],                              \n",
    "    'lambda':[0, lambda_rigde, lambda_lasso, lambda_elast],\n",
    "    'Run_time':[runtime_lr, runtime_ridgecv, runtime_lassocv, runtime_elasticnetcv] \n",
    "}, columns=['Model','Accuracy_train', 'Accuracy_test','MAPError','No of Coefficient used', 'lambda', 'Run_time'])\n",
    "\n",
    "Linear_comparison.sort_values(by='Accuracy_test', ascending=False)"
   ]
  },
  {
   "cell_type": "markdown",
   "metadata": {},
   "source": [
    "The above linear algorithm model comparison table shows that the accurancy for train dataset and test dataset are around 0.71 and 0.65 for all four models, respectivley. Mean abolosute percentage errors of the prediction for all these four models are similar and around 1.51. There is no clearn differences amoung these four modles in terms of accurancy and mean abosolute percentage errors except Linear model has a slightly higher accurancy.\n",
    "\n",
    "However, the number of coefficients used in above four models is slightly different. Both simple Linear regression and Ridge regression use all the features of 2250. ElasticNet and Lasso regression reduce the number of features to 2234 and 2220 as shown in the table, respetively\n",
    "\n",
    "Ridge and Lasso regression are some kind of simple techniques to reduce model complexity and to prevent over-fitting that may result from linear regression model. In our above case, the ridge regression with lambda of 0.5 slightly shrinks the coefficients from 1.521 to 1.516.\n",
    "\n",
    "In lasso regression, the lambda is a small value of 1e-5, it  \n",
    "\n"
   ]
  },
  {
   "cell_type": "markdown",
   "metadata": {},
   "source": [
    "### Non-Linear Algorithm"
   ]
  },
  {
   "cell_type": "markdown",
   "metadata": {},
   "source": [
    "Random Forest, GranientBoosting, and Support Vector Machines will be applied here to build non-linear models.\n",
    "\n",
    "The GridSearchCV was used to tune hyperparameters. The codes of GridSearchCV were given in the last section of this notebook-Appendix because it took several hours to run GridSearchDV for each model. The parameters in the models given in the following section are the final paprameters obtained from tuning process"
   ]
  },
  {
   "cell_type": "code",
   "execution_count": 79,
   "metadata": {},
   "outputs": [
    {
     "name": "stdout",
     "output_type": "stream",
     "text": [
      "The number of observations in training set is 22133\n",
      "The number of observations in test set is 7378\n"
     ]
    }
   ],
   "source": [
    "from sklearn.feature_extraction.text import TfidfVectorizer\n",
    "Y = wine_df['rating_points']\n",
    "x = wine_df['description_c']\n",
    "\n",
    "tfv = TfidfVectorizer(stop_words='english',\n",
    "                    lowercase=True,\n",
    "                    analyzer='word', \n",
    "                    max_df=1.0, \n",
    "                    min_df=1,\n",
    "                    ngram_range=(1, 1),\n",
    "                    max_features=2250,\n",
    "                    vocabulary=None, \n",
    "                    binary=False)\n",
    "\n",
    "X = tfv.fit_transform(x)\n",
    "\n",
    "# Getting the word list.\n",
    "terms = tfv.get_feature_names()\n",
    "\n",
    "X_train, X_test, y_train, y_test = train_test_split(X, Y, test_size=0.25, random_state=123)\n",
    "\n",
    "print(\"The number of observations in training set is {}\".format(X_train.shape[0]))\n",
    "print(\"The number of observations in test set is {}\".format(X_test.shape[0]))"
   ]
  },
  {
   "cell_type": "markdown",
   "metadata": {},
   "source": [
    "### Random Forest"
   ]
  },
  {
   "cell_type": "code",
   "execution_count": 80,
   "metadata": {},
   "outputs": [
    {
     "name": "stdout",
     "output_type": "stream",
     "text": [
      "Runtime_rfr: 56.01332005799986 Seconds\n",
      "Training set score: 0.9084400228963019\n",
      "Test set score: 0.4944416497921442\n"
     ]
    }
   ],
   "source": [
    "# Random Forest\n",
    "\n",
    "start_time_rfr = time.perf_counter()\n",
    "\n",
    "rfr = RandomForestRegressor()\n",
    "\n",
    "rfr.fit(X_train, y_train)\n",
    "y_preds_test_rfr = rfr.predict(X_test)\n",
    "\n",
    "Accu_train_rfr = rfr.score(X_train, y_train)\n",
    "Accu_test_rfr = rfr.score(X_test, y_test)\n",
    "\n",
    "runtime_rfr = time.perf_counter() - start_time_rfr\n",
    "print(\"Runtime_rfr: {} Seconds\".format(runtime_rfr))\n",
    "print('Training set score:', Accu_train_rfr)\n",
    "print('Test set score:', Accu_test_rfr)"
   ]
  },
  {
   "cell_type": "code",
   "execution_count": null,
   "metadata": {},
   "outputs": [],
   "source": [
    "\n",
    "# Random Forest\n",
    "start_time_rfr = time.perf_counter()\n",
    "\n",
    "rfr = RandomForestRegressor(n_estimators=400,\n",
    "                            max_depth=10,\n",
    "                            min_samples_split=10\n",
    "                            )\n",
    "\n",
    "rfr.fit(X_train, y_train)\n",
    "y_preds_test_rfr = rfr.predict(X_test)\n",
    "\n",
    "Accu_train_rfr = rfr.score(X_train, y_train)\n",
    "Accu_test_rfr = rfr.score(X_test, y_test)\n",
    "\n",
    "runtime_rfr = time.perf_counter() - start_time_rfr\n",
    "print(\"Runtime_rfr: {} Seconds\".format(runtime_rfr))"
   ]
  },
  {
   "cell_type": "markdown",
   "metadata": {},
   "source": [
    "### Gradient Boosting"
   ]
  },
  {
   "cell_type": "code",
   "execution_count": null,
   "metadata": {},
   "outputs": [],
   "source": [
    "# Gradient Boosting\n",
    "start_time_gbr = time.perf_counter()\n",
    "\n",
    "gbr = GradientBoostingRegressor(n_estimators=400,\n",
    "                                max_depth=10,\n",
    "                                min_samples_split=10\n",
    "                               )\n",
    "gbr.fit(X_train, y_train)\n",
    "y_preds_test_gbr = gbr.predict(X_test)\n",
    "\n",
    "Accu_train_gbr = gbr.score(X_train, y_train)\n",
    "Accu_test_gbr = gbr.score(X_test, y_test)\n",
    "\n",
    "runtime_gbr = time.perf_counter() - start_time_gbr\n",
    "print(\"Runtime_gbr: {} Seconds\".format(runtime_gbr))"
   ]
  },
  {
   "cell_type": "markdown",
   "metadata": {},
   "source": [
    "### Support Vector Machines¶\n"
   ]
  },
  {
   "cell_type": "code",
   "execution_count": null,
   "metadata": {},
   "outputs": [],
   "source": [
    "# Support Vector Machines\n",
    "start_time_svr = time.perf_counter()\n",
    "\n",
    "svr = SVR(kernel = 'linear', C=10)\n",
    "svr.fit(X_train, y_train)\n",
    "y_preds_test_svr = svr.predict(X_test)\n",
    "\n",
    "Accu_train_svr = svr.score(X_train, y_train)\n",
    "Accu_test_svr = svr.score(X_test, y_test)\n",
    "\n",
    "runtime_svr = time.perf_counter() - start_time_svr\n",
    "print(\"Runtime: {} Seconds\".format(runtime_svr))"
   ]
  },
  {
   "cell_type": "markdown",
   "metadata": {},
   "source": [
    "### Findings for Non-linear Algorithms"
   ]
  },
  {
   "cell_type": "code",
   "execution_count": null,
   "metadata": {},
   "outputs": [],
   "source": [
    "print(\"----------------------Random Forest Scores----------------------\")\n",
    "print(\"Runtime_rfr: {} Seconds\".format(runtime_rfr))\n",
    "print('Training set score:', Accu_train_rfr)\n",
    "print('Test set score:', Accu_test_rfr)\n",
    "\n",
    "print(\"\\n----------------------Gradient Boosting Scores----------------------\")\n",
    "print(\"Runtime_gbr: {} Seconds\".format(runtime_gbr))\n",
    "print('Training set score:', Accu_train_gbr)\n",
    "print('Test set score:', Accu_test_gbr)\n",
    "\n",
    "print(\"\\n----------------------Support Vector Machines Scores----------------------\")\n",
    "print(\"Runtime_svr: {} Seconds\".format(runtime_svr))\n",
    "print('Training set score:', Accu_train_svr)\n",
    "print('Test set score:', Accu_test_svr)"
   ]
  },
  {
   "cell_type": "markdown",
   "metadata": {},
   "source": [
    "### Summary for Linear and Non-Linear Algorithms"
   ]
  },
  {
   "cell_type": "code",
   "execution_count": null,
   "metadata": {},
   "outputs": [],
   "source": [
    "# Compare linear and non-linear models. \n",
    "model_comparison = pd.DataFrame({\n",
    "    'Model':['Ridge Linear', 'Random Forest','Gradient Boosting', 'Support Vector Machines'],\n",
    "    'Accuracy_train':[Accu_train_ridge, Accu_train_rfr,  Accu_train_gbr, Accu_train_svr],\n",
    "    'Accuracy_test':[Accu_test_ridge, Accu_test_rfr, Accu_test_gbr, Accu_test_svr],                      \n",
    "    'Run_time':[runtime_ridgecv,runtime_rfr, runtime_gbr, runtime_svr]       \n",
    "    }, columns=['Model','Accuracy_train', 'Accuracy_test','Run_time'])\n",
    "\n",
    "model_comparison.sort_values(by='Accuracy_test', ascending=False)"
   ]
  },
  {
   "cell_type": "markdown",
   "metadata": {},
   "source": [
    "As displayed in the above comparison table, Ridge linear model has the highest accuracy for the test dataset. The Support Vector Machines is the second place for this rating points predicting model but it need the longest running time and lack the transparency in the process like a \"black box. Gradient Boosting shows the highest accuracy for the training dataset and have the third for the test accuracy_test. Random Forest show the worst accurancy_test. Both Gradient Boosting and Random Forest have the over-fiting problem\n",
    "\n",
    "\n",
    "## Summary for Supervised NLP\n",
    "\n",
    "In this wine review project, we could make predictions fo rthe the wine rating points using description text data given by wine tasters. We have tried four linear regression models and three no-linear algorithms. The results showed that tlinear regression algorithm has a good capability to predict wine rating points. Compared with non-linear alogorithm such as random forest, gradient boosting and support vector machines, linear regression such Ridge regression has higher accuracy and also overcomes over-fitting probelms which are easisly caused in ensemble techinques such as gradient boosting model. Ridge model shrinks the coefficients and it also helps reduce the model complexity and multi-collinearity. In addition, linear regression is a simple model and easy to understand without the lack of transparency in the process.\n",
    "\n",
    "Hence, linear algorithm-Ridge linear regression is finally selected to use making predictions for wine rating points."
   ]
  },
  {
   "cell_type": "markdown",
   "metadata": {},
   "source": [
    "## 2. Unsupervised Topic Modeling"
   ]
  },
  {
   "cell_type": "markdown",
   "metadata": {},
   "source": [
    "Through unsupervise topic extraction, I am trying to find various topics that are presented in wines description written by tasters. My goal is to identity the number of topics and determine the theme of each topic. In addition, I will test whether the topic extraction can help wine consumers  make decision what kind of wines they can buy and drink now or keep and age it for later drinking. And this might also help winemakers to think about when will be the best time to sell their wines based on hte points of review from tasters\n",
    "\n",
    "TfidfVectorizer (TF-IDF) was applied to the description text data to obtain document-term matrix.\n",
    "\n",
    "Latent Semantic Analysis (LSA), Latent Dirichlet Allocation(LDA), and Non-Negative Matrix Factorization (NNMF) were applied for topic extraction. And the comparison were made for these three methods. The visualization package of pyLDAvis for LDA technique was also employed here."
   ]
  },
  {
   "cell_type": "markdown",
   "metadata": {},
   "source": [
    "### Top Words Using Word Cloud"
   ]
  },
  {
   "cell_type": "code",
   "execution_count": null,
   "metadata": {},
   "outputs": [],
   "source": [
    "from wordcloud import WordCloud,STOPWORDS\n",
    "\n",
    "plt.figure(figsize= (16,8))\n",
    "plt.title('Word Cloud of Wine Description')\n",
    "wc = WordCloud(max_words=1000,max_font_size=40,background_color='black', stopwords = STOPWORDS, colormap='Set1')\n",
    "wc.generate(' '.join(wine_df['description_c']))\n",
    "plt.imshow(wc,interpolation=\"bilinear\")\n",
    "plt.axis('off')"
   ]
  },
  {
   "cell_type": "markdown",
   "metadata": {},
   "source": [
    "Top words: place, wine, nose, finish, flavors, palate, aromas acidity, drink "
   ]
  },
  {
   "cell_type": "markdown",
   "metadata": {},
   "source": [
    "### Topic Extraction by LSA,LDA, NNMF"
   ]
  },
  {
   "cell_type": "code",
   "execution_count": null,
   "metadata": {},
   "outputs": [],
   "source": [
    "from sklearn.feature_extraction.text import TfidfVectorizer\n",
    "\n",
    "x =  wine_df['description_c']\n",
    "# Creating the tf-idf matrix.\n",
    "tfv = TfidfVectorizer(stop_words=\"english\",\n",
    "                     lowercase=True,\n",
    "                     ngram_range=(1, 1), \n",
    "                     analyzer='word', \n",
    "                     max_df=0.5, \n",
    "                     min_df=1,\n",
    "                     max_features=500, \n",
    "                     vocabulary=None, \n",
    "                     binary=False\n",
    "                     )\n",
    "\n",
    "dp_tfidf = tfv.fit_transform(x)\n",
    "print(dp_tfidf.shape)\n",
    "\n",
    "\n",
    "# Getting the word list.\n",
    "terms = tfv.get_feature_names()\n",
    "#print(terms)\n",
    "\n",
    "# Number of topics.\n",
    "ntopics=3\n",
    "\n",
    "# Linking words to topics\n",
    "def word_topic(tfidf,solution, wordlist):\n",
    "    \n",
    "    # Loading scores for each word on each topic/component.\n",
    "    words_by_topic=tfidf.T * solution\n",
    "\n",
    "    # Linking the loadings to the words in an easy-to-read way.\n",
    "    components=pd.DataFrame(words_by_topic,index=wordlist)\n",
    "    \n",
    "    return components\n",
    "\n",
    "# Extracts the top N words and their loadings for each topic.\n",
    "def top_words(components, n_top_words):\n",
    "    n_topics = range(components.shape[1])\n",
    "    index= np.repeat(n_topics, n_top_words, axis=0)\n",
    "    topwords=pd.Series(index=index)\n",
    "    for column in range(components.shape[1]):\n",
    "        # Sort the column so that highest loadings are at the top.\n",
    "        sortedwords=components.iloc[:,column].sort_values(ascending=False)\n",
    "        # Choose the N highest loadings.\n",
    "        chosen=sortedwords[:n_top_words]\n",
    "        # Combine loading and index into a string.\n",
    "        chosenlist=chosen.index +\" \"+round(chosen,2).map(str) \n",
    "        topwords.loc[column]=[x for x in chosenlist]\n",
    "    return(topwords)\n",
    "\n",
    "# Number of words to look at for each topic.\n",
    "n_top_words = 15"
   ]
  },
  {
   "cell_type": "code",
   "execution_count": null,
   "metadata": {},
   "outputs": [],
   "source": [
    "# LSA\n",
    "\n",
    "from sklearn.decomposition import TruncatedSVD\n",
    "from sklearn.pipeline import make_pipeline\n",
    "from sklearn.preprocessing import Normalizer\n",
    "import time\n",
    "\n",
    "start_time_lsa = time.perf_counter()\n",
    "\n",
    "svd= TruncatedSVD(ntopics)\n",
    "lsa = make_pipeline(svd, Normalizer(copy=False))\n",
    "dp_lsa = lsa.fit_transform(dp_tfidf)\n",
    "\n",
    "components_lsa = word_topic(dp_tfidf, dp_lsa, terms)\n",
    "\n",
    "topwords=pd.DataFrame()\n",
    "topwords['LSA']=top_words(components_lsa, n_top_words)   \n",
    "\n",
    "runtime = time.perf_counter() - start_time_lsa\n",
    "print(\"Runtime_LSA: {} Seconds\".format(runtime))"
   ]
  },
  {
   "cell_type": "code",
   "execution_count": null,
   "metadata": {},
   "outputs": [],
   "source": [
    "# LDA\n",
    "from sklearn.decomposition import LatentDirichletAllocation as LDA\n",
    "\n",
    "start_time_lda = time.perf_counter()\n",
    "\n",
    "lda = LDA(n_components=ntopics, \n",
    "          doc_topic_prior=None,       # Prior = 1/n_documents\n",
    "          topic_word_prior=1/ntopics,\n",
    "          learning_decay=0.7,         # Convergence rate.\n",
    "          learning_offset=10.0,       # Causes earlier iterations to have less influence on the learning\n",
    "          max_iter=10,                # when to stop even if the model is not converging (to prevent running forever)\n",
    "          evaluate_every=-1,          # Do not evaluate perplexity, as it slows training time.\n",
    "          mean_change_tol=0.001,      # Stop updating the document topic distribution in the E-step when mean change is < tol\n",
    "          max_doc_update_iter=100,    # When to stop updating the document topic distribution in the E-step even if tol is not reached\n",
    "          n_jobs=-1,                  # Use all available CPUs to speed up processing time.\n",
    "          verbose=0,                  # amount of output to give while iterating\n",
    "          random_state=0\n",
    "         )\n",
    "\n",
    "dp_lda = lda.fit_transform(dp_tfidf) \n",
    "\n",
    "components_lda = word_topic(dp_tfidf, dp_lda, terms)\n",
    "\n",
    "topwords['LDA']=top_words(components_lda, n_top_words)\n",
    "\n",
    "runtime = time.perf_counter() - start_time_lda\n",
    "print(\"Runtime_LDA: {} Seconds\".format(runtime))"
   ]
  },
  {
   "cell_type": "code",
   "execution_count": null,
   "metadata": {},
   "outputs": [],
   "source": [
    "# NNMF\n",
    "from sklearn.decomposition import NMF\n",
    "\n",
    "start_time_nmf = time.perf_counter()\n",
    "\n",
    "nmf = NMF(alpha=0.0, \n",
    "          init='nndsvdar',    # how starting value are calculated\n",
    "          l1_ratio=0.0,       # Sets whether regularization is L2 (0), L1 (1), or a combination (values between 0 and 1)\n",
    "          max_iter=200,       # when to stop even if the model is not converging (to prevent running forever)\n",
    "          n_components=ntopics, \n",
    "          random_state=0, \n",
    "          solver='cd',        # Use Coordinate Descent to solve\n",
    "          tol=0.0001,         # model will stop if tfidf-WH <= tol\n",
    "          verbose=0           # amount of output to give while iterating\n",
    "         )\n",
    "dp_nmf = nmf.fit_transform(dp_tfidf) \n",
    "\n",
    "components_nmf = word_topic(dp_tfidf, dp_nmf, terms)\n",
    "\n",
    "topwords['NNMF']=top_words(components_nmf, n_top_words)\n",
    "\n",
    "runtime = time.perf_counter() - start_time_nmf\n",
    "print(\"Runtime_NMF: {} Seconds\".format(runtime))"
   ]
  },
  {
   "cell_type": "code",
   "execution_count": null,
   "metadata": {},
   "outputs": [],
   "source": [
    "for topic in range(ntopics):\n",
    "    print('Topic {}:'.format(topic))\n",
    "    print(topwords.loc[topic])"
   ]
  },
  {
   "cell_type": "markdown",
   "metadata": {},
   "source": [
    "\"Red wines are loved for their soft, rich, and velvety flavors, whereas white wines are loved for their zesty acidity, floral aromas, and pure fruit notes. To achieve these results, winemakers enlist two very different methods of winemaking. The largest difference between red winemaking and white winemaking is the oxidation that causes the wines to lose their floral and fruit notes in exchange for rich, nutty flavors and more smoothness. To increase oxygen, winemakers use oak barrels because they breathe and allow the wine to ingress oxygen. To reduce the exposure to oxygen, winemakers use stainless steel tanks, which ensures that wines retain their fruitiness and flower flavors.\" - reference 1.\n",
    "\n",
    "\n",
    "Also, red wines have tannins which cause red wines tasting bitter, astringent and drying sensation. But they present in the tannic skins, seeds, and stems of grapes, good for blood vessels and lowering our risk for cardiovascular disease. Wine acidity usually is used for white wine. \"A wine with more acid feels refreshing and bright. Sweeter, less acidic wines feel heavier and fuller-bodied. When someone says that wine is crisp or fresh, they are referring to its great acidity\"-reference 2.\n",
    "\n",
    "\n",
    "Comined with above wine basic information, also from LDA top words results, we can get three topics:\n",
    "\n",
    "Topic 0: Red/dark color wine: (top 15 words: flavors, black, tannins, oak, red, plum, blackberry, ripe)\n",
    "\n",
    "Topic 1: White/light color wine: (top 15 words: aromas, acidity, nose, apple, lemon, offer, fresh)\n",
    "\n",
    "Topic 2: Drink/age (mix wines): (top words: drink, aging(27th word) - drink now or later acidity, crisp, fresh - light color ready to drink tannins, dry, rich, texture, aging - dark color, drink later or need aging)\n",
    "\n",
    "\n",
    "The following sparsity section selected top words which more represented three topic to demonstrate more infomation about these three methods.\n",
    "\n",
    "Reference 1 : https://winefolly.com/tips/red-wine-vs-white-wine-the-real-differences/\n",
    "Reference 2: https://www.smallwinemakers.ca/tannins-in-wine-vs-acidity/\n"
   ]
  },
  {
   "cell_type": "code",
   "execution_count": null,
   "metadata": {},
   "outputs": [],
   "source": [
    "# 3-topic Sparsity\n",
    "# Pick the words more indicating three topic to look at.\n",
    "targetwords=['acidity','white', 'tannins', 'black','oak', 'red','drink', 'aging','aromas','fruits']\n",
    "\n",
    "# Storing the loadings.\n",
    "wordloadings=pd.DataFrame(columns=targetwords)\n",
    "\n",
    "# For each word, extracting and string the loadings for each method.\n",
    "for word in targetwords:\n",
    "    loadings=components_lsa.loc[word].append(\n",
    "        components_lda.loc[word]).append(\n",
    "            components_nmf.loc[word])\n",
    "    wordloadings[word]=loadings\n",
    "\n",
    "# Labeling the data by method and providing an ordering variable for graphing purposes. \n",
    "wordloadings['method']=np.repeat(['LSA','LDA','NNMF'], 3, axis=0)\n",
    "wordloadings['loading']=[0,1,2]*3\n",
    "\n",
    "sns.set(style=\"darkgrid\")\n",
    "\n",
    "for word in targetwords:\n",
    "    sns.barplot(x=\"method\", y=word, hue=\"loading\", data=wordloadings)\n",
    "    plt.title(word)\n",
    "    plt.ylabel(\"\")\n",
    "    plt.show()"
   ]
  },
  {
   "cell_type": "markdown",
   "metadata": {},
   "source": [
    "From sparsity results, we can see words like tannins, black, red, aromas show higher freqency in topic 1 on both LSA and LDA model. words like fruits, aging, drink, acidity show highe frequncy in topic 1 which represent the white wine.   \n",
    "\n",
    "Further, LSA has negative values causing slightly hard understanding and interpreting as shown in the figures. For NNMF due to the reading values for words are smaller than LSA and LDA, hence the peak looks lower than those two methods. But it still can get some information about three topic and also can split into three topics.\n",
    "\n",
    "Next we will try use the LDA visualization package pyLDAvis to take a look the topic models."
   ]
  },
  {
   "cell_type": "markdown",
   "metadata": {},
   "source": [
    "### Visualizing LDA results with pyLDAvis"
   ]
  },
  {
   "cell_type": "code",
   "execution_count": null,
   "metadata": {},
   "outputs": [],
   "source": [
    "import pyLDAvis\n",
    "import pyLDAvis.sklearn\n",
    "from plotly.offline import plot\n",
    "import plotly.graph_objects as go\n",
    "import plotly.express as px\n",
    "from IPython.display import HTML\n",
    "from IPython.display import display\n",
    "\n",
    "pyLDAvis.enable_notebook()\n",
    "prep = pyLDAvis.sklearn.prepare(lda, dp_tfidf, tfv, mds='tsne')\n",
    "\n",
    "pyLDAvis.save_html(prep,'winetopic.html')\n",
    "\n",
    "prep"
   ]
  },
  {
   "cell_type": "markdown",
   "metadata": {},
   "source": [
    "1.  In general, the wine price increases with rating points. Among the same rating points, the price varys from low to hight. which allow the winecosumer to high rating points wine with low price\n",
    "2.  In different countries, the price for wine are different. The most expensive wines are produced by UK followed by Canada and Peru.\n",
    "3.  Gape type variety also affects the price of wines. The most popular wines are not very expensivve indicating tht the are good for th market and most consumers' need\n",
    "4.  Supervised linear Algorithm Ridge regression could be used for predicting wine rating points with wine description data. The accuracy for the model is about 65.6%\n",
    "5.  Three model LSA,LDA and NNMF were proved as good techniques for topic modeling. \n",
    "7.  pyLDAis visulization is a good and sime tool to show topic extraction\n",
    "8.  Three topics (red/dark wines, white/light wines, drink/age (mix wines)) were obtained from unsupervised topic extraction models. On one hand, this might help wine consumers to make decision to buy wines and drink now or age them for later drink. On the other hand, it also might help winemakers to think about when will be the optimum time to sell their wines based on the points of review from tasters.\n",
    "9.  The description text data could be cleaned further to get more topics and make more sense for helping or guiding winemakers or wine consumers to make more decisions.\n",
    "10. Through similarity or topic extraction for 19 tasters, it might draw some conclusions about taste features for each taster and then help winemakers or wine consumers to choose their wine tasters."
   ]
  },
  {
   "cell_type": "markdown",
   "metadata": {},
   "source": [
    "## Appendix¶\n",
    "The following codes are the GridSearchCV codes for tuning hyperparameters for three non-linear algorithms: Random Forest, Gradient Boosting and Support Vector Machines."
   ]
  },
  {
   "cell_type": "code",
   "execution_count": null,
   "metadata": {},
   "outputs": [],
   "source": [
    "\n",
    "from sklearn.feature_extraction.text import TfidfVectorizer\n",
    "Y = wine_df['rating_points']\n",
    "x = wine_df['description_c']\n",
    "\n",
    "tfv = TfidfVectorizer(stop_words='english',\n",
    "                    lowercase=True,\n",
    "                    analyzer='word', \n",
    "                    max_df=1.0, \n",
    "                    min_df=1,\n",
    "                    ngram_range=(1, 1),\n",
    "                    max_features=2250,\n",
    "                    vocabulary=None, \n",
    "                    binary=False)\n",
    "\n",
    "X = tfv.fit_transform(x)\n",
    "\n",
    "# Getting the word list.\n",
    "terms = tfv.get_feature_names()\n",
    "\n",
    "X_train, X_test, y_train, y_test = train_test_split(X, Y, test_size=0.25, random_state=123)\n",
    "\n",
    "print(\"The number of observations in training set is {}\".format(X_train.shape[0]))\n",
    "print(\"The number of observations in test set is {}\".format(X_test.shape[0]))"
   ]
  },
  {
   "cell_type": "code",
   "execution_count": null,
   "metadata": {},
   "outputs": [],
   "source": [
    "\n",
    "# Tuning hyperparameters for Random Forest.\n",
    "from sklearn.model_selection import GridSearchCV\n",
    "\n",
    "start_time_rfr = time.perf_counter()\n",
    "rfr_params = {#\"criterion\": ['gini', 'entropy'],\n",
    "             \"n_estimators\": [20, 200, 400],\n",
    "              \"max_depth\": [5, 10, 15],\n",
    "              \"min_samples_split\": [3, 5, 10],\n",
    "              #\"min_samples_leaf\": [5, 10],\n",
    "             }\n",
    "rfr = ensemble.RandomForestRegressor()\n",
    "\n",
    "clf_rfr = GridSearchCV(rfr, rfr_params, cv=5)\n",
    "clf_rfr.fit(X_train, y_train)\n",
    "\n",
    "runtime_rfr = time.perf_counter() - start_time_rfr\n",
    "print(\"----------------------Random Forest Scores----------------------\")\n",
    "print(\"Runtime: {} Seconds\".format(runtime_rfr))\n",
    "print(clf_rfr.best_params_)\n",
    "print('\\nTraining set score:', clf_rfr.score(X_train, y_train))\n",
    "print('\\nTest set score:', clf_rfr.score(X_test, y_test))"
   ]
  },
  {
   "cell_type": "code",
   "execution_count": null,
   "metadata": {},
   "outputs": [],
   "source": [
    "# Gradient Boosting\n",
    "start_time_gbr = time.perf_counter()\n",
    "\n",
    "gbr = GradientBoostingRegressor(n_estimators=500,\n",
    "                                max_depth=15,\n",
    "                                min_samples_split=10\n",
    "                               )\n",
    "gbr.fit(X_train, y_train)\n",
    "y_preds_test_gbr = gbr.predict(X_test)\n",
    "\n",
    "runtime_gbr = time.perf_counter() - start_time_gbr\n",
    "print(\"Runtime_gbr: {} Seconds\".format(runtime_gbr))\n",
    "print('Training set score:', gbr.score(X_train, y_train))\n",
    "print('\\nTest set score:', gbr.score(X_test, y_test))"
   ]
  },
  {
   "cell_type": "code",
   "execution_count": null,
   "metadata": {},
   "outputs": [],
   "source": [
    "# Tuning hyperparameters for Gradient Boosting. \n",
    "start_time_gbr = time.perf_counter()\n",
    "\n",
    "gbr_params = {\"n_estimators\": [20, 200, 400],\n",
    "              \"max_depth\": [5,10,15],\n",
    "              \"min_samples_split\": [5,10]}\n",
    "gbr = ensemble.GradientBoostingRegressor()\n",
    "\n",
    "clf_gbr = GridSearchCV(gbr, gbr_params, cv=5)\n",
    "clf_gbr.fit(X_train, y_train)\n",
    "runtime_gbr = time.perf_counter() - start_time_gbr\n",
    "\n",
    "print(\"----------------------Gradient Boosting Scores----------------------\")\n",
    "print(\"Runtime: {} Seconds\".format(runtime_gbr))\n",
    "print(clf_gbr.best_params_)\n",
    "print('Training set score:', clf_gbr.score(X_train, y_train))\n",
    "print('\\nTest set score:', clf_gbr.score(X_test, y_test))"
   ]
  },
  {
   "cell_type": "code",
   "execution_count": null,
   "metadata": {},
   "outputs": [],
   "source": []
  },
  {
   "cell_type": "code",
   "execution_count": null,
   "metadata": {},
   "outputs": [],
   "source": []
  }
 ],
 "metadata": {
  "kernelspec": {
   "display_name": "Python 3",
   "language": "python",
   "name": "python3"
  },
  "language_info": {
   "codemirror_mode": {
    "name": "ipython",
    "version": 3
   },
   "file_extension": ".py",
   "mimetype": "text/x-python",
   "name": "python",
   "nbconvert_exporter": "python",
   "pygments_lexer": "ipython3",
   "version": "3.7.4"
  }
 },
 "nbformat": 4,
 "nbformat_minor": 2
}
